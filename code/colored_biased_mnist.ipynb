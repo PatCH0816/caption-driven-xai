{
 "cells": [
  {
   "cell_type": "code",
   "execution_count": 1,
   "metadata": {},
   "outputs": [],
   "source": [
    "import numpy as np\n",
    "%matplotlib inline\n",
    "import matplotlib.pyplot as plt\n",
    "from PIL import Image"
   ]
  },
  {
   "cell_type": "markdown",
   "metadata": {},
   "source": [
    "https://colab.research.google.com/github/reiinakano/invariant-risk-minimization/blob/master/invariant_risk_minimization_colored_mnist.ipynb"
   ]
  },
  {
   "cell_type": "code",
   "execution_count": 2,
   "metadata": {},
   "outputs": [
    {
     "name": "stderr",
     "output_type": "stream",
     "text": [
      "/opt/conda/lib/python3.8/site-packages/tqdm/auto.py:22: TqdmWarning: IProgress not found. Please update jupyter and ipywidgets. See https://ipywidgets.readthedocs.io/en/stable/user_install.html\n",
      "  from .autonotebook import tqdm as notebook_tqdm\n"
     ]
    }
   ],
   "source": [
    "import torch\n",
    "from torchvision import datasets, models, transforms\n",
    "import torch.nn as nn\n",
    "from torch.nn import functional as F\n",
    "import torch.optim as optim"
   ]
  },
  {
   "cell_type": "code",
   "execution_count": 3,
   "metadata": {},
   "outputs": [
    {
     "name": "stdout",
     "output_type": "stream",
     "text": [
      "Python version:  3.8.13 | packaged by conda-forge | (default, Mar 25 2022, 06:04:10) \n",
      "[GCC 10.3.0]\n",
      "Pytorch version:  1.13.0a0+d0d6b1f\n",
      "Torchvision version:  0.14.0a0\n",
      "Wed Oct 26 18:00:31 2022       \n",
      "+-----------------------------------------------------------------------------+\n",
      "| NVIDIA-SMI 450.172.01   Driver Version: 450.172.01   CUDA Version: 11.8     |\n",
      "|-------------------------------+----------------------+----------------------+\n",
      "| GPU  Name        Persistence-M| Bus-Id        Disp.A | Volatile Uncorr. ECC |\n",
      "| Fan  Temp  Perf  Pwr:Usage/Cap|         Memory-Usage | GPU-Util  Compute M. |\n",
      "|                               |                      |               MIG M. |\n",
      "|===============================+======================+======================|\n",
      "|   0  Tesla V100-SXM3...  On   | 00000000:34:00.0 Off |                    0 |\n",
      "| N/A   34C    P0    50W / 350W |      0MiB / 32510MiB |      0%      Default |\n",
      "|                               |                      |                  N/A |\n",
      "+-------------------------------+----------------------+----------------------+\n",
      "|   1  Tesla V100-SXM3...  On   | 00000000:36:00.0 Off |                    0 |\n",
      "| N/A   34C    P0    50W / 350W |      0MiB / 32510MiB |      0%      Default |\n",
      "|                               |                      |                  N/A |\n",
      "+-------------------------------+----------------------+----------------------+\n",
      "|   2  Tesla V100-SXM3...  On   | 00000000:39:00.0 Off |                    0 |\n",
      "| N/A   38C    P0    50W / 350W |      0MiB / 32510MiB |      0%      Default |\n",
      "|                               |                      |                  N/A |\n",
      "+-------------------------------+----------------------+----------------------+\n",
      "|   3  Tesla V100-SXM3...  On   | 00000000:3B:00.0 Off |                    0 |\n",
      "| N/A   37C    P0    51W / 350W |      0MiB / 32510MiB |      0%      Default |\n",
      "|                               |                      |                  N/A |\n",
      "+-------------------------------+----------------------+----------------------+\n",
      "|   4  Tesla V100-SXM3...  On   | 00000000:57:00.0 Off |                    0 |\n",
      "| N/A   33C    P0    49W / 350W |      0MiB / 32510MiB |      0%      Default |\n",
      "|                               |                      |                  N/A |\n",
      "+-------------------------------+----------------------+----------------------+\n",
      "|   5  Tesla V100-SXM3...  On   | 00000000:59:00.0 Off |                    0 |\n",
      "| N/A   39C    P0    48W / 350W |      0MiB / 32510MiB |      0%      Default |\n",
      "|                               |                      |                  N/A |\n",
      "+-------------------------------+----------------------+----------------------+\n",
      "|   6  Tesla V100-SXM3...  On   | 00000000:5C:00.0 Off |                    0 |\n",
      "| N/A   34C    P0    51W / 350W |      0MiB / 32510MiB |      0%      Default |\n",
      "|                               |                      |                  N/A |\n",
      "+-------------------------------+----------------------+----------------------+\n",
      "|   7  Tesla V100-SXM3...  On   | 00000000:5E:00.0 Off |                    0 |\n",
      "| N/A   39C    P0    69W / 350W |      0MiB / 32510MiB |      0%      Default |\n",
      "|                               |                      |                  N/A |\n",
      "+-------------------------------+----------------------+----------------------+\n",
      "|   8  Tesla V100-SXM3...  On   | 00000000:B7:00.0 Off |                    0 |\n",
      "| N/A   33C    P0    49W / 350W |      0MiB / 32510MiB |      0%      Default |\n",
      "|                               |                      |                  N/A |\n",
      "+-------------------------------+----------------------+----------------------+\n",
      "|   9  Tesla V100-SXM3...  On   | 00000000:B9:00.0 Off |                    0 |\n",
      "| N/A   33C    P0    48W / 350W |      0MiB / 32510MiB |      0%      Default |\n",
      "|                               |                      |                  N/A |\n",
      "+-------------------------------+----------------------+----------------------+\n",
      "|  10  Tesla V100-SXM3...  On   | 00000000:BC:00.0 Off |                    0 |\n",
      "| N/A   38C    P0    50W / 350W |      0MiB / 32510MiB |      0%      Default |\n",
      "|                               |                      |                  N/A |\n",
      "+-------------------------------+----------------------+----------------------+\n",
      "|  11  Tesla V100-SXM3...  On   | 00000000:BE:00.0 Off |                    0 |\n",
      "| N/A   37C    P0    48W / 350W |      0MiB / 32510MiB |      0%      Default |\n",
      "|                               |                      |                  N/A |\n",
      "+-------------------------------+----------------------+----------------------+\n",
      "|  12  Tesla V100-SXM3...  On   | 00000000:E0:00.0 Off |                    0 |\n",
      "| N/A   35C    P0    49W / 350W |      0MiB / 32510MiB |      0%      Default |\n",
      "|                               |                      |                  N/A |\n",
      "+-------------------------------+----------------------+----------------------+\n",
      "|  13  Tesla V100-SXM3...  On   | 00000000:E2:00.0 Off |                    0 |\n",
      "| N/A   33C    P0    50W / 350W |      0MiB / 32510MiB |      0%      Default |\n",
      "|                               |                      |                  N/A |\n",
      "+-------------------------------+----------------------+----------------------+\n",
      "|  14  Tesla V100-SXM3...  On   | 00000000:E5:00.0 Off |                    0 |\n",
      "| N/A   37C    P0    50W / 350W |      0MiB / 32510MiB |      0%      Default |\n",
      "|                               |                      |                  N/A |\n",
      "+-------------------------------+----------------------+----------------------+\n",
      "|  15  Tesla V100-SXM3...  On   | 00000000:E7:00.0 Off |                    0 |\n",
      "| N/A   36C    P0    51W / 350W |      0MiB / 32510MiB |      0%      Default |\n",
      "|                               |                      |                  N/A |\n",
      "+-------------------------------+----------------------+----------------------+\n",
      "                                                                               \n",
      "+-----------------------------------------------------------------------------+\n",
      "| Processes:                                                                  |\n",
      "|  GPU   GI   CI        PID   Type   Process name                  GPU Memory |\n",
      "|        ID   ID                                                   Usage      |\n",
      "|=============================================================================|\n",
      "|  No running processes found                                                 |\n",
      "+-----------------------------------------------------------------------------+\n"
     ]
    }
   ],
   "source": [
    "import sys\n",
    "import torchvision\n",
    "\n",
    "# check environment\n",
    "print(\"Python version: \", sys.version)\n",
    "print(\"Pytorch version: \", torch.__version__)\n",
    "print(\"Torchvision version: \", torchvision.__version__)\n",
    "\n",
    "!nvidia-smi"
   ]
  },
  {
   "cell_type": "code",
   "execution_count": 4,
   "metadata": {},
   "outputs": [],
   "source": [
    "import os\n",
    "\n",
    "import numpy as np\n",
    "from PIL import Image\n",
    "\n",
    "import matplotlib.pyplot as plt\n",
    "\n",
    "import torch\n",
    "import torch.nn as nn\n",
    "import torch.nn.functional as F\n",
    "import torch.optim as optim\n",
    "from torch.autograd import grad\n",
    "from torchvision import transforms\n",
    "from torchvision import datasets\n",
    "import torchvision.datasets.utils as dataset_utils"
   ]
  },
  {
   "cell_type": "code",
   "execution_count": 5,
   "metadata": {},
   "outputs": [],
   "source": [
    "def color_grayscale_arr(arr, red=True):\n",
    "  \"\"\"Converts grayscale image to either red or green\"\"\"\n",
    "  assert arr.ndim == 2\n",
    "  dtype = arr.dtype\n",
    "  h, w = arr.shape\n",
    "  arr = np.reshape(arr, [h, w, 1])\n",
    "  if red:\n",
    "    arr = np.concatenate([arr,\n",
    "                          np.zeros((h, w, 2), dtype=dtype)], axis=2)\n",
    "  else:\n",
    "    arr = np.concatenate([np.zeros((h, w, 1), dtype=dtype),\n",
    "                          arr,\n",
    "                          np.zeros((h, w, 1), dtype=dtype)], axis=2)\n",
    "  return arr\n",
    "\n",
    "\n",
    "class ColoredMNIST(datasets.VisionDataset):\n",
    "  \"\"\"\n",
    "  Colored MNIST dataset for testing IRM. Prepared using procedure from https://arxiv.org/pdf/1907.02893.pdf\n",
    "\n",
    "  Args:\n",
    "    root (string): Root directory of dataset where ``ColoredMNIST/*.pt`` will exist.\n",
    "    env (string): Which environment to load. Must be 1 of 'train1', 'train2', 'test', or 'all_train'.\n",
    "    transform (callable, optional): A function/transform that  takes in an PIL image\n",
    "      and returns a transformed version. E.g, ``transforms.RandomCrop``\n",
    "    target_transform (callable, optional): A function/transform that takes in the\n",
    "      target and transforms it.\n",
    "  \"\"\"\n",
    "  def __init__(self, root='./data', env='train1', transform=None, target_transform=None):\n",
    "    super(ColoredMNIST, self).__init__(root, transform=transform,\n",
    "                                target_transform=target_transform)\n",
    "\n",
    "    self.prepare_colored_mnist()\n",
    "    if env in ['train1', 'train2', 'test']:\n",
    "      self.data_label_tuples = torch.load(os.path.join(self.root, 'ColoredMNIST', env) + '.pt')\n",
    "    elif env == 'all_train':\n",
    "      self.data_label_tuples = torch.load(os.path.join(self.root, 'ColoredMNIST', 'train1.pt')) + \\\n",
    "                               torch.load(os.path.join(self.root, 'ColoredMNIST', 'train2.pt'))\n",
    "    else:\n",
    "      raise RuntimeError(f'{env} env unknown. Valid envs are train1, train2, test, and all_train')\n",
    "\n",
    "  def __getitem__(self, index):\n",
    "    \"\"\"\n",
    "    Args:\n",
    "        index (int): Index\n",
    "\n",
    "    Returns:\n",
    "        tuple: (image, target) where target is index of the target class.\n",
    "    \"\"\"\n",
    "    img, target = self.data_label_tuples[index]\n",
    "\n",
    "    if self.transform is not None:\n",
    "      img = self.transform(img)\n",
    "\n",
    "    if self.target_transform is not None:\n",
    "      target = self.target_transform(target)\n",
    "\n",
    "    return img, target\n",
    "\n",
    "  def __len__(self):\n",
    "    return len(self.data_label_tuples)\n",
    "\n",
    "  def prepare_colored_mnist(self):\n",
    "    colored_mnist_dir = os.path.join(self.root, 'ColoredMNIST')\n",
    "    if os.path.exists(os.path.join(colored_mnist_dir, 'train1.pt')) \\\n",
    "        and os.path.exists(os.path.join(colored_mnist_dir, 'train2.pt')) \\\n",
    "        and os.path.exists(os.path.join(colored_mnist_dir, 'test.pt')):\n",
    "      print('Colored MNIST dataset already exists')\n",
    "      return\n",
    "\n",
    "    print('Preparing Colored MNIST')\n",
    "    train_mnist = datasets.mnist.MNIST(self.root, train=True, download=True)\n",
    "\n",
    "    train1_set = []\n",
    "    train2_set = []\n",
    "    test_set = []\n",
    "    for idx, (im, label) in enumerate(train_mnist):\n",
    "      if idx % 10000 == 0:\n",
    "        print(f'Converting image {idx}/{len(train_mnist)}')\n",
    "      im_array = np.array(im)\n",
    "\n",
    "      # Assign a binary label y to the image based on the digit\n",
    "      binary_label = 0 if label < 5 else 1\n",
    "\n",
    "      # Flip label with 25% probability\n",
    "      # if np.random.uniform() < 0.25:\n",
    "      #   binary_label = binary_label ^ 1\n",
    "\n",
    "      # Color the image either red or green according to its possibly flipped label\n",
    "      color_red = binary_label == 0\n",
    "\n",
    "      # Flip the color with a probability e that depends on the environment\n",
    "      # if idx < 20000:\n",
    "      #   # 20% in the first training environment\n",
    "      #   if np.random.uniform() < 0.2:\n",
    "      #     color_red = not color_red\n",
    "      # elif idx < 40000:\n",
    "      #   # 10% in the first training environment\n",
    "      #   if np.random.uniform() < 0.1:\n",
    "      #     color_red = not color_red\n",
    "      # else:\n",
    "      #   # 90% in the test environment\n",
    "      #   if np.random.uniform() < 0.9:\n",
    "      #     color_red = not color_red\n",
    "\n",
    "      colored_arr = color_grayscale_arr(im_array, red=color_red)\n",
    "\n",
    "      if idx < 20000:\n",
    "        train1_set.append((Image.fromarray(colored_arr), binary_label))\n",
    "      elif idx < 40000:\n",
    "        train2_set.append((Image.fromarray(colored_arr), binary_label))\n",
    "      else:\n",
    "        test_set.append((Image.fromarray(colored_arr), binary_label))\n",
    "\n",
    "      # Debug\n",
    "      # print('original label', type(label), label)\n",
    "      # print('binary label', binary_label)\n",
    "      # print('assigned color', 'red' if color_red else 'green')\n",
    "      # plt.imshow(colored_arr)\n",
    "      # plt.show()\n",
    "      # break\n",
    "\n",
    "    #os.mkdir(colored_mnist_dir)\n",
    "    torch.save(train1_set, os.path.join(colored_mnist_dir, 'train1.pt'))\n",
    "    torch.save(train2_set, os.path.join(colored_mnist_dir, 'train2.pt'))\n",
    "    torch.save(test_set, os.path.join(colored_mnist_dir, 'test.pt'))\n"
   ]
  },
  {
   "cell_type": "code",
   "execution_count": 6,
   "metadata": {},
   "outputs": [],
   "source": [
    "def plot_dataset_digits(dataset):\n",
    "  fig = plt.figure(figsize=(13, 8))\n",
    "  columns = 6\n",
    "  rows = 3\n",
    "  # ax enables access to manipulate each of subplots\n",
    "  ax = []\n",
    "\n",
    "  for i in range(columns * rows):\n",
    "    img, label = dataset[i]\n",
    "    # create subplot and append to ax\n",
    "    ax.append(fig.add_subplot(rows, columns, i + 1))\n",
    "    ax[-1].set_title(\"Label: \" + str(label))  # set title\n",
    "    plt.imshow(img)\n",
    "\n",
    "  plt.show()  # finally, render the plot"
   ]
  },
  {
   "cell_type": "code",
   "execution_count": 7,
   "metadata": {},
   "outputs": [
    {
     "name": "stdout",
     "output_type": "stream",
     "text": [
      "Colored MNIST dataset already exists\n"
     ]
    }
   ],
   "source": [
    "train1_set = ColoredMNIST(root='./data',\n",
    "                          env='train1',\n",
    "                          transform= transforms.Compose([transforms.ToTensor()]))\n",
    "                            #   [transforms.ToTensor(),\n",
    "                            #    transforms.Normalize(mean=(0.5,), std=(0.5,))]))\n",
    "#plot_dataset_digits(train1_set)"
   ]
  },
  {
   "cell_type": "code",
   "execution_count": 8,
   "metadata": {},
   "outputs": [
    {
     "name": "stdout",
     "output_type": "stream",
     "text": [
      "Colored MNIST dataset already exists\n"
     ]
    }
   ],
   "source": [
    "test_set = ColoredMNIST(root='./data',\n",
    "                          env='test',\n",
    "                          transform= transforms.Compose([transforms.ToTensor()]))\n",
    "                            #   [transforms.ToTensor(),\n",
    "                            #    transforms.Normalize(mean=(0.5,), std=(0.5,))]))\n",
    "#plot_dataset_digits(test_set)"
   ]
  },
  {
   "cell_type": "code",
   "execution_count": 9,
   "metadata": {},
   "outputs": [],
   "source": [
    "train_loader = torch.utils.data.DataLoader(dataset=train1_set,\n",
    "                                           batch_size=32,\n",
    "                                           shuffle=True)\n",
    "\n",
    "test_loader = torch.utils.data.DataLoader(dataset=test_set,\n",
    "                                           batch_size=32,\n",
    "                                           shuffle=True)"
   ]
  },
  {
   "cell_type": "code",
   "execution_count": 10,
   "metadata": {},
   "outputs": [
    {
     "data": {
      "text/plain": [
       "device(type='cuda')"
      ]
     },
     "execution_count": 10,
     "metadata": {},
     "output_type": "execute_result"
    }
   ],
   "source": [
    "device = torch.device(\"cuda\" if torch.cuda.is_available() else \"cpu\")\n",
    "device"
   ]
  },
  {
   "cell_type": "code",
   "execution_count": 11,
   "metadata": {},
   "outputs": [
    {
     "name": "stderr",
     "output_type": "stream",
     "text": [
      "/opt/conda/lib/python3.8/site-packages/torchvision/models/_utils.py:208: UserWarning: The parameter 'pretrained' is deprecated since 0.13 and will be removed in 0.15, please use 'weights' instead.\n",
      "  warnings.warn(\n",
      "/opt/conda/lib/python3.8/site-packages/torchvision/models/_utils.py:223: UserWarning: Arguments other than a weight enum or `None` for 'weights' are deprecated since 0.13 and will be removed in 0.15. The current behavior is equivalent to passing `weights=ResNet50_Weights.IMAGENET1K_V1`. You can also use `weights=ResNet50_Weights.DEFAULT` to get the most up-to-date weights.\n",
      "  warnings.warn(msg)\n"
     ]
    },
    {
     "data": {
      "text/plain": [
       "Parameter containing:\n",
       "tensor([[ 0.0034, -0.0084, -0.0088,  ..., -0.0114, -0.0158,  0.0195]],\n",
       "       device='cuda:0', requires_grad=True)"
      ]
     },
     "execution_count": 11,
     "metadata": {},
     "output_type": "execute_result"
    }
   ],
   "source": [
    "# https://discuss.pytorch.org/t/how-to-modify-the-final-fc-layer-based-on-the-torch-model/766/2\n",
    "model = models.resnet50(pretrained=True)\n",
    "for param in model.parameters():\n",
    "    param.requires_grad = False\n",
    "# replace the last fully-connected layer\n",
    "# parameters of newly constructed modules have required_grad=True by default\n",
    "model.fc = nn.Linear(2048, 1)\n",
    "model.to(device)\n",
    "model.fc.weight # initialized with random numbers - Requires grad is true"
   ]
  },
  {
   "cell_type": "code",
   "execution_count": 66,
   "metadata": {},
   "outputs": [],
   "source": [
    "def train_model(model, criterion, optimizer, num_epochs=3):\n",
    "    history = {'train'          : {'loss' : [],\n",
    "                                    'acc' : []},\n",
    "                'validation'    : {'loss' : [],\n",
    "                                    'acc' : []},\n",
    "                'test'          : {'loss' : [],\n",
    "                                    'acc' : []}}\n",
    "    \n",
    "    for epoch in range(num_epochs):\n",
    "        print('Epoch {}/{}'.format(epoch+1, num_epochs))\n",
    "        print('-' * 10)\n",
    "\n",
    "        for phase in ['train', 'validation', 'test']:\n",
    "            if phase == 'train':\n",
    "                model.train()\n",
    "                datasource = train_loader\n",
    "            else:\n",
    "                model.eval()\n",
    "                datasource = test_loader\n",
    "\n",
    "            running_loss = 0.0\n",
    "            running_corrects = 0\n",
    "\n",
    "            for inputs, labels in datasource:\n",
    "                inputs = inputs.to(device)\n",
    "                labels = labels.to(device)\n",
    "                outputs = model(inputs)\n",
    "                \n",
    "                labels = labels.unsqueeze(1)\n",
    "                labels = labels.float()\n",
    "                loss = criterion(outputs, labels)\n",
    "\n",
    "                if phase == 'train':\n",
    "                    optimizer.zero_grad()\n",
    "                    loss.backward()\n",
    "                    optimizer.step()\n",
    "\n",
    "                _, preds = torch.max(outputs, 1)\n",
    "                running_loss += loss.item() * inputs.size(0)\n",
    "                running_corrects += torch.sum(preds == labels.data)\n",
    "\n",
    "            epoch_loss = running_loss / len(datasource)\n",
    "            epoch_acc = (running_corrects.double() / len(datasource)).item()\n",
    "\n",
    "            print('{} loss: {:.4f}, acc: {:.4f}'.format(phase,\n",
    "                                                        epoch_loss,\n",
    "                                                        epoch_acc))\n",
    "            \n",
    "            history[phase]['loss'].append(epoch_loss)\n",
    "            history[phase]['acc'].append(epoch_acc)\n",
    "            \n",
    "    return model, history"
   ]
  },
  {
   "cell_type": "code",
   "execution_count": 67,
   "metadata": {},
   "outputs": [],
   "source": [
    "# criterion = F.binary_cross_entropy_with_logits\n",
    "# optimizer = optim.Adam(model.fc.parameters())\n",
    "\n",
    "criterion = nn.CrossEntropyLoss()\n",
    "optimizer = optim.SGD(model.parameters(), lr=0.001, momentum=0.9)\n",
    "# that's not possible ^^\n",
    "# Epoch 1/10\n",
    "# train loss: 0.0000, acc: 523.5200\n",
    "# validation loss: 0.0000, acc: 521.0112"
   ]
  },
  {
   "cell_type": "code",
   "execution_count": 68,
   "metadata": {},
   "outputs": [
    {
     "name": "stdout",
     "output_type": "stream",
     "text": [
      "Epoch 1/3\n",
      "----------\n",
      "train loss: 0.0000, acc: 523.5200\n",
      "validation loss: 0.0000, acc: 521.0112\n",
      "Epoch 2/3\n",
      "----------\n",
      "train loss: 0.0000, acc: 523.5200\n",
      "validation loss: 0.0000, acc: 521.0112\n",
      "Epoch 3/3\n",
      "----------\n",
      "train loss: 0.0000, acc: 523.5200\n",
      "validation loss: 0.0000, acc: 521.0112\n"
     ]
    }
   ],
   "source": [
    "mdl, hist = train_model(model, criterion, optimizer, num_epochs=3)"
   ]
  },
  {
   "cell_type": "code",
   "execution_count": 81,
   "metadata": {},
   "outputs": [
    {
     "data": {
      "image/png": "[encoded data removed]",
      "text/plain": [
       "<Figure size 640x480 with 2 Axes>"
      ]
     },
     "metadata": {},
     "output_type": "display_data"
    }
   ],
   "source": [
    "def plot_history(hist):\n",
    "    plt.subplot(1,2,1)\n",
    "    plt.plot(range(len(hist['train']['loss'])), hist['train']['loss'], label='Train')\n",
    "    plt.plot(range(len(hist['validation']['loss'])), hist['validation']['loss'], label='Validation')\n",
    "    plt.plot(range(len(hist['test']['loss'])), hist['test']['loss'], label='Test')\n",
    "    plt.xlabel('Epoch')\n",
    "    plt.ylabel('Loss')\n",
    "    plt.legend()\n",
    "\n",
    "    plt.subplot(1,2,2)\n",
    "    plt.plot(range(len(hist['train']['acc'])), hist['train']['acc'], label='Train')\n",
    "    plt.plot(range(len(hist['validation']['acc'])), hist['validation']['acc'], label='Validation')\n",
    "    plt.plot(range(len(hist['test']['acc'])), hist['test']['acc'], label='Test')\n",
    "    plt.xlabel('Epoch')\n",
    "    plt.ylabel('Accuracy')\n",
    "    plt.legend()\n",
    "\n",
    "    plt.tight_layout()\n",
    "    plt.show()\n",
    "    \n",
    "plot_history(hist)"
   ]
  },
  {
   "cell_type": "code",
   "execution_count": null,
   "metadata": {},
   "outputs": [],
   "source": []
  }
 ],
 "metadata": {
  "kernelspec": {
   "display_name": "Python 3 (ipykernel)",
   "language": "python",
   "name": "python3"
  },
  "language_info": {
   "codemirror_mode": {
    "name": "ipython",
    "version": 3
   },
   "file_extension": ".py",
   "mimetype": "text/x-python",
   "name": "python",
   "nbconvert_exporter": "python",
   "pygments_lexer": "ipython3",
   "version": "3.8.13"
  },
  "orig_nbformat": 4
 },
 "nbformat": 4,
 "nbformat_minor": 2
}
