{
 "cells": [
  {
   "cell_type": "code",
   "execution_count": 1,
   "metadata": {},
   "outputs": [
    {
     "name": "stdout",
     "output_type": "stream",
     "text": [
      "Hostname: sx-el-121920\n",
      "Torch version: 1.13.0a0+d0d6b1f\n"
     ]
    }
   ],
   "source": [
    "import pickle\n",
    "import clip\n",
    "import socket\n",
    "import numpy as np\n",
    "import torch\n",
    "from utils import nethook\n",
    "\n",
    "%reload_ext autoreload\n",
    "%autoreload 2\n",
    "\n",
    "print(\"Hostname: \" + socket.gethostname())\n",
    "print(\"Torch version:\", torch.__version__)\n",
    "torch.cuda.empty_cache()"
   ]
  },
  {
   "cell_type": "code",
   "execution_count": 2,
   "metadata": {},
   "outputs": [],
   "source": [
    "# general configuration\n",
    "ROOT_PATH = \"/mnt/data/patrick.koller/masterthesis/data\"\n",
    "\n",
    "# simplify problem\n",
    "USE_ALL_STANDALONE_LAYERS = True\n",
    "USE_ALL_CLIP_LAYERS = False\n",
    "LIMIT_NR_LAYERS = 100 # Active, if all layers are used with the configurations above = True\n",
    "\n",
    "# dataset parameters\n",
    "DATASET_BATCH_SIZE = 10\n",
    "DATASET_SHUFFLE = True\n",
    "DATASET_TEST_FOOL_RANDOM_COLORS = True"
   ]
  },
  {
   "cell_type": "markdown",
   "metadata": {},
   "source": [
    "# set device (for number crunching)"
   ]
  },
  {
   "cell_type": "code",
   "execution_count": 3,
   "metadata": {},
   "outputs": [
    {
     "data": {
      "text/plain": [
       "device(type='cuda')"
      ]
     },
     "execution_count": 3,
     "metadata": {},
     "output_type": "execute_result"
    }
   ],
   "source": [
    "device = torch.device(\"cuda\" if torch.cuda.is_available() else \"cpu\")\n",
    "device"
   ]
  },
  {
   "cell_type": "markdown",
   "metadata": {},
   "source": [
    "# load standalone model"
   ]
  },
  {
   "cell_type": "code",
   "execution_count": 4,
   "metadata": {},
   "outputs": [
    {
     "name": "stdout",
     "output_type": "stream",
     "text": [
      "Number of standalone layers: 49\n",
      "['conv1', 'layer1.0.conv1', 'layer1.0.conv2', 'layer1.0.conv3', 'layer1.1.conv1', 'layer1.1.conv2', 'layer1.1.conv3', 'layer1.2.conv1', 'layer1.2.conv2', 'layer1.2.conv3', 'layer2.0.conv1', 'layer2.0.conv2', 'layer2.0.conv3', 'layer2.1.conv1', 'layer2.1.conv2', 'layer2.1.conv3', 'layer2.2.conv1', 'layer2.2.conv2', 'layer2.2.conv3', 'layer2.3.conv1', 'layer2.3.conv2', 'layer2.3.conv3', 'layer3.0.conv1', 'layer3.0.conv2', 'layer3.0.conv3', 'layer3.1.conv1', 'layer3.1.conv2', 'layer3.1.conv3', 'layer3.2.conv1', 'layer3.2.conv2', 'layer3.2.conv3', 'layer3.3.conv1', 'layer3.3.conv2', 'layer3.3.conv3', 'layer3.4.conv1', 'layer3.4.conv2', 'layer3.4.conv3', 'layer3.5.conv1', 'layer3.5.conv2', 'layer3.5.conv3', 'layer4.0.conv1', 'layer4.0.conv2', 'layer4.0.conv3', 'layer4.1.conv1', 'layer4.1.conv2', 'layer4.1.conv3', 'layer4.2.conv1', 'layer4.2.conv2', 'layer4.2.conv3']\n"
     ]
    }
   ],
   "source": [
    "def setup_standalone(all_layers=True, all_layers_limit=100, print_config=False):\n",
    "\n",
    "    # load model\n",
    "    standalone_model = pickle.load(open(f\"{ROOT_PATH}/results/standalone_resnet50_biased.mdl\", 'rb'))\n",
    "    standalone_model.cuda()\n",
    "\n",
    "    # make sure that all standalone resnet50 parameters are floating point variables (paranoia)\n",
    "    for p in standalone_model.parameters(): \n",
    "        p.data = p.data.float()  \n",
    "        \n",
    "    # save layers to be swapped\n",
    "    if all_layers:\n",
    "        standalone_layers = []\n",
    "        counter = 0\n",
    "\n",
    "        for name, layer in standalone_model.named_modules():\n",
    "            if \"conv\" in name and counter < all_layers_limit:\n",
    "                standalone_layers.append(name)\n",
    "                counter += 1\n",
    "        # or\n",
    "        # clip_layers = [ \"model.layer1\", \"model.layer2\", \"model.layer3\", \"model.layer4\"]\n",
    "        del counter\n",
    "    else:\n",
    "        standalone_layers = ['layer1.0.conv1', 'layer1.0.conv2']\n",
    "        # standalone_layers = ['layer1.0.conv1', 'layer1.0.conv2', 'layer1.0.conv3', 'layer1.1.conv1', 'layer1.1.conv2']\n",
    "        \n",
    "    # additional info\n",
    "    if print_config:       \n",
    "        print(f\"Number of standalone layers: {len(standalone_layers)}\")\n",
    "        print(standalone_layers)\n",
    "\n",
    "    # hook layers for standalone model\n",
    "    standalone_model.eval()\n",
    "    standalone_model = nethook.InstrumentedModel(standalone_model)\n",
    "    standalone_model.retain_layers(standalone_layers)\n",
    "\n",
    "    return standalone_model, standalone_layers\n",
    "\n",
    "standalone_model, standalone_layers = setup_standalone(USE_ALL_STANDALONE_LAYERS, LIMIT_NR_LAYERS, print_config=True)"
   ]
  },
  {
   "cell_type": "markdown",
   "metadata": {},
   "source": [
    "# load CLIP model"
   ]
  },
  {
   "cell_type": "code",
   "execution_count": 5,
   "metadata": {},
   "outputs": [
    {
     "name": "stdout",
     "output_type": "stream",
     "text": [
      "Number of CLIP layers: 4\n",
      "['visual.layer1', 'visual.layer2', 'visual.layer3', 'visual.layer4']\n"
     ]
    }
   ],
   "source": [
    "def setup_clip(all_layers=True, all_layers_limit=100, print_config=False):\n",
    "    \n",
    "    # load model\n",
    "    clip_model, clip_preprocess = clip.load(\"RN50\")\n",
    "    clip_model.cuda().eval()\n",
    "\n",
    "    # make sure that all clip parameters are floating point variables (paranoia)\n",
    "    for p in clip_model.parameters(): \n",
    "        p.data = p.data.float() \n",
    "        \n",
    "    # save layers to be swapped\n",
    "    if all_layers:\n",
    "        clip_layers = []\n",
    "        counter = 0\n",
    "\n",
    "        for name, layer in clip_model.named_modules():\n",
    "            if \"conv\" in name and counter < all_layers_limit:\n",
    "                clip_layers.append(name)\n",
    "                counter += 1\n",
    "        # or\n",
    "        # clip_layers = [ \"visual.layer1\", \"visual.layer2\", \"visual.layer3\", \"visual.layer4\"]\n",
    "        del counter\n",
    "    else:\n",
    "        clip_layers = [\"visual.layer1\", \"visual.layer2\", \"visual.layer3\", \"visual.layer4\"]\n",
    "        # clip_layers = ['visual.layer1.0.conv1', 'visual.layer1.0.conv2', 'visual.layer1.0.conv3']\n",
    "        # clip_layers = ['visual.layer1.0.conv1', 'visual.layer1.0.conv2', 'visual.layer1.0.conv3', 'visual.layer1.1.conv1', 'visual.layer1.1.conv2', 'visual.layer1.1.conv3']\n",
    "    \n",
    "    # additional info\n",
    "    if print_config:       \n",
    "        print(f\"Number of CLIP layers: {len(clip_layers)}\")\n",
    "        print(clip_layers)\n",
    "\n",
    "    # hook layers for clip model\n",
    "    clip_model.eval()\n",
    "    clip_model = nethook.InstrumentedModel(clip_model)\n",
    "    clip_model.retain_layers(clip_layers)\n",
    "    \n",
    "    return clip_model, clip_preprocess, clip_layers\n",
    "\n",
    "clip_model, clip_preprocess, clip_layers = setup_clip(USE_ALL_CLIP_LAYERS, LIMIT_NR_LAYERS, print_config=True)"
   ]
  },
  {
   "cell_type": "markdown",
   "metadata": {},
   "source": [
    "# load datasets"
   ]
  },
  {
   "cell_type": "code",
   "execution_count": 6,
   "metadata": {},
   "outputs": [],
   "source": [
    "from utils.mnist_preprocessing import *\n",
    "from utils.mnist_plotting import *"
   ]
  },
  {
   "cell_type": "code",
   "execution_count": 7,
   "metadata": {},
   "outputs": [
    {
     "name": "stdout",
     "output_type": "stream",
     "text": [
      "MNIST dataset already exists\n"
     ]
    }
   ],
   "source": [
    "from torchvision import transforms\n",
    "\n",
    "# initialize dataset\n",
    "data_set = DatasetMNIST(root=ROOT_PATH,\n",
    "                        env='test',\n",
    "                        color=True,\n",
    "                        opt_postfix=\"2classes\",\n",
    "                        filter=[5,8],\n",
    "                        first_color_max_nr=5,\n",
    "                        preprocess=clip_preprocess,\n",
    "                        test_fool_random=DATASET_TEST_FOOL_RANDOM_COLORS,\n",
    "                        transform= transforms.Compose([transforms.ToTensor()]))\n",
    "\n",
    "# create dataloaders\n",
    "data_loader = torch.utils.data.DataLoader(dataset=data_set,\n",
    "                                            batch_size=DATASET_BATCH_SIZE,\n",
    "                                            shuffle=DATASET_SHUFFLE)\n",
    "\n",
    "if False:\n",
    "    print(f\"Number of samples: {len(data_loader.dataset.data_label_tuples)}\")\n",
    "    digit_distribution(data_set)\n",
    "    plot_digits(data_set, clip_preprocess)"
   ]
  },
  {
   "cell_type": "markdown",
   "metadata": {},
   "source": [
    "# compute statistics"
   ]
  },
  {
   "cell_type": "code",
   "execution_count": 8,
   "metadata": {},
   "outputs": [],
   "source": [
    "from torchvision import transforms\n",
    "\n",
    "def get_mean_std(standalone_model, standalone_layers, clip_model, clip_layers, dataloader, batch_size, device):\n",
    "    print(\"Collecting Dataset Statistics\")\n",
    "    \n",
    "    standalone_model_stats_list = []\n",
    "    clip_model_stats_list = []\n",
    "    \n",
    "    # batch processing\n",
    "    with torch.no_grad():\n",
    "        for iteration, data in enumerate(dataloader):\n",
    "            \n",
    "            # copy data to GPU\n",
    "            inputs, _, _, _ = data\n",
    "            inputs = inputs.to(device)\n",
    "            \n",
    "            print(f\"Batch {iteration} is being processed...\")\n",
    "            \n",
    "            ###############################################################################\n",
    "            # Compute activations and statistics for standalone model\n",
    "            ###############################################################################\n",
    "            \n",
    "            # inference\n",
    "            _ = standalone_model(inputs)\n",
    "\n",
    "            # store activations from current batch\n",
    "            standalone_model_activations = {}\n",
    "            for layer in standalone_layers:\n",
    "                standalone_model_activations[layer] = []    \n",
    "                standalone_model_activation = standalone_model.retained_layer(layer, clear = True)\n",
    "                standalone_model_activations[layer].append(standalone_model_activation)\n",
    "            \n",
    "            # compute statistics (mean and standard deviation)\n",
    "            batch_standalone_model_stats_list = []\n",
    "            for layer in standalone_layers:\n",
    "                standalone_model_activations[layer] = torch.cat(standalone_model_activations[layer], 0) # images x channels x m x m\n",
    "                standalone_model_activations[layer] = torch.permute(standalone_model_activations[layer], (1,0,2,3)).contiguous() # channels x images x m x m\n",
    "                standalone_model_activations[layer] = standalone_model_activations[layer].view(standalone_model_activations[layer].shape[0], -1) \n",
    "                batch_standalone_model_stats_list.append([torch.mean(standalone_model_activations[layer],dim=-1, dtype=torch.float64).unsqueeze(0).unsqueeze(2).unsqueeze(3).to(device),\\\n",
    "                                      torch.std(standalone_model_activations[layer], dim=-1).unsqueeze(0).unsqueeze(2).unsqueeze(3).to(device)])\n",
    "\n",
    "            # cleanup\n",
    "            del standalone_model_activations\n",
    "            standalone_model_stats_list.append(batch_standalone_model_stats_list)\n",
    "\n",
    "            ###############################################################################\n",
    "            # Compute activations and statistics for clip model\n",
    "            ###############################################################################\n",
    "\n",
    "            # inference\n",
    "            _ = clip_model.model.encode_image(inputs)\n",
    "\n",
    "            # store activations from current batch\n",
    "            clip_model_activations = {}\n",
    "            for layer in clip_layers:\n",
    "                clip_model_activations[layer] = []    \n",
    "                clip_model_activation = clip_model.retained_layer(layer, clear = True)\n",
    "                clip_model_activations[layer].append(clip_model_activation)\n",
    "\n",
    "            # compute statistics (mean and standard deviation)\n",
    "            batch_clip_model_stats_list = []\n",
    "            clip_model_stats_list.append(batch_clip_model_stats_list)\n",
    "            for layer in clip_layers:\n",
    "                clip_model_activations[layer] = torch.cat(clip_model_activations[layer], 0)\n",
    "                clip_model_activations[layer] = torch.permute(clip_model_activations[layer], (1,0,2,3)).contiguous()\n",
    "                clip_model_activations[layer] = clip_model_activations[layer].view(clip_model_activations[layer].shape[0], -1)\n",
    "                batch_clip_model_stats_list.append([torch.mean(clip_model_activations[layer], dim=-1, dtype=torch.float64).unsqueeze(0).unsqueeze(2).unsqueeze(3).to(device),\\\n",
    "                                      torch.std(clip_model_activations[layer], dim=-1).unsqueeze(0).unsqueeze(2).unsqueeze(3).to(device)])\n",
    "\n",
    "            # cleanup\n",
    "            del clip_model_activations\n",
    "            torch.cuda.empty_cache()\n",
    "            \n",
    "        print(\"Done Iteration for Stats\")\n",
    "\n",
    "        ###############################################################################\n",
    "        # All batches processed, create final statistics\n",
    "        ###############################################################################\n",
    "        # compute final stats for standalone model\n",
    "        final_standalone_model_stats_list = []\n",
    "\n",
    "        for iii in range(len(batch_standalone_model_stats_list)):\n",
    "            means = torch.zeros_like(batch_standalone_model_stats_list[iii][0])\n",
    "            stds = torch.zeros_like(batch_standalone_model_stats_list[iii][1])\n",
    "            for jjj in range((iteration+1)):\n",
    "                means+=standalone_model_stats_list[jjj][iii][0]\n",
    "                stds+=standalone_model_stats_list[jjj][iii][1]**2\n",
    "\n",
    "            final_standalone_model_stats_list.append([means/(iteration+1), torch.sqrt(stds/(iteration+1))])\n",
    "        \n",
    "        # compute final stats for clip model\n",
    "        final_clip_model_stats_list = []\n",
    "\n",
    "        for iii in range(len(batch_clip_model_stats_list)):\n",
    "            means = torch.zeros_like(batch_clip_model_stats_list[iii][0])\n",
    "            stds = torch.zeros_like(batch_clip_model_stats_list[iii][1])\n",
    "            for jjj in range((iteration+1)):\n",
    "                means+=clip_model_stats_list[jjj][iii][0]\n",
    "                stds+=clip_model_stats_list[jjj][iii][1]**2\n",
    "\n",
    "            final_clip_model_stats_list.append([means/(iteration+1), torch.sqrt(stds/(iteration+1))])\n",
    "\n",
    "    return final_standalone_model_stats_list, final_clip_model_stats_list"
   ]
  },
  {
   "cell_type": "code",
   "execution_count": 9,
   "metadata": {},
   "outputs": [],
   "source": [
    "def save_array(array, filename):\n",
    "    \"\"\"\n",
    "    Save array to disk.\n",
    "    \"\"\"\n",
    "    open_file = open(filename, \"wb\")\n",
    "    pickle.dump(array, open_file)\n",
    "    open_file.close()"
   ]
  },
  {
   "cell_type": "code",
   "execution_count": 10,
   "metadata": {},
   "outputs": [],
   "source": [
    "def store_activs(model, layers):\n",
    "    \"\"\"\n",
    "    Create list of retained activations for each layer.\n",
    "    \"\"\"\n",
    "    activs = []\n",
    "    for layer in layers:\n",
    "        activation = model.retained_layer(layer, clear = True)\n",
    "        activs.append(activation)\n",
    "        \n",
    "    return activs"
   ]
  },
  {
   "cell_type": "code",
   "execution_count": 11,
   "metadata": {},
   "outputs": [],
   "source": [
    "def dict_layers(activs):\n",
    "    \"\"\"\n",
    "    Create dictionary with activations of a layer as keys and the number of kernels in this layer as values.\n",
    "    \"\"\"\n",
    "    all_layers = {}\n",
    "    for iii, activ in enumerate(activs):\n",
    "        all_layers[activs[iii]] = activ.shape[1]\n",
    "    return all_layers"
   ]
  },
  {
   "cell_type": "code",
   "execution_count": 12,
   "metadata": {},
   "outputs": [],
   "source": [
    "def normalize(activation, stats_table):\n",
    "    \"\"\"\n",
    "    Normalize activations using standard scaling.\n",
    "    \"\"\"\n",
    "    eps = 0.00001\n",
    "    norm_input = (activation- stats_table[0])/(stats_table[1]+eps)\n",
    "    \n",
    "    return norm_input"
   ]
  },
  {
   "cell_type": "code",
   "execution_count": 13,
   "metadata": {},
   "outputs": [],
   "source": [
    "def create_final_table(all_match_table, standalone_dict, clip_dict, batch_size, device ):\n",
    "    \"\"\"\n",
    "    \"Flatten\" 4D-tensor all_match_table to large 2D-tensor final_match_table\n",
    "    for better indexing and usability.\n",
    "    \"\"\"\n",
    "    \n",
    "    # create empty table of size: \"number of convolution kernels in standalone_dict\" x \"number of convolution kernels in clip_dict\"\n",
    "    num_activs_standalone = sum(standalone_dict.values())\n",
    "    num_activs_clip = sum(clip_dict.values())\n",
    "    final_match_table = torch.zeros((num_activs_standalone, num_activs_clip)).to(device)\n",
    "    \n",
    "    # \"flatten\" 4D-tensor to large 2D-tensor\n",
    "    standalone_activ_count = 0 \n",
    "    for ii in range(len(all_match_table)):\n",
    "        clip_activ_count = 0\n",
    "        for jj in range(len(all_match_table[ii])):\n",
    "            num_standalone_activs = all_match_table[ii][0].shape[0]\n",
    "            num_clip_activs = all_match_table[0][jj].shape[1]\n",
    "            final_match_table[standalone_activ_count: standalone_activ_count + num_standalone_activs, \\\n",
    "                clip_activ_count:clip_activ_count + num_clip_activs] = all_match_table[ii][jj]\n",
    "            clip_activ_count += num_clip_activs\n",
    "        standalone_activ_count += num_standalone_activs\n",
    "    return final_match_table"
   ]
  },
  {
   "cell_type": "markdown",
   "metadata": {},
   "source": [
    "# activation matching"
   ]
  },
  {
   "cell_type": "code",
   "execution_count": 14,
   "metadata": {},
   "outputs": [],
   "source": [
    "from utils import matching, nethook, stats\n",
    "\n",
    "def activation_matching(standalone_model, standalone_layers, clip_model, clip_layers, dataloader, batch_size, save_path, device):\n",
    "    \n",
    "    # compute dataset statistics\n",
    "    standalone_model_statistics_table, clip_model_statistics_table = get_mean_std(standalone_model, standalone_layers, clip_model, clip_layers, dataloader, batch_size, device)\n",
    "    save_array(standalone_model_statistics_table, f\"{save_path}/standalone_model_statistics.pkl\")\n",
    "    save_array(clip_model_statistics_table, f\"{save_path}/clip_model_statistics.pkl\")\n",
    "    \n",
    "    print(\"Done\")\n",
    "    print(\"Starting Activation Matching\")\n",
    "    \n",
    "    for iteration, data in enumerate(dataloader):\n",
    "        with torch.no_grad():\n",
    "\n",
    "            # copy data to GPU\n",
    "            inputs, _, _, _ = data\n",
    "            inputs = inputs.to(device)\n",
    "            \n",
    "            print(f\"Batch {iteration} is being processed...\")\n",
    "            \n",
    "            # inference standalone model\n",
    "            _ = standalone_model(inputs)\n",
    "            \n",
    "            # append standalone model layer-activations for each layer\n",
    "            standalone_model_activations = store_activs(standalone_model, standalone_layers)\n",
    "\n",
    "            # inference clip model\n",
    "            _ = clip_model.model.encode_image(inputs)\n",
    "\n",
    "            # append clip model layer-activations for batch\n",
    "            clip_model_activations =  store_activs(clip_model, clip_layers)\n",
    "\n",
    "            # create dictionary of activations in layers and number of activations\n",
    "            all_standalone_layers = dict_layers(standalone_model_activations)\n",
    "            all_clip_layers = dict_layers(clip_model_activations)\n",
    "            \n",
    "            # create empty table of size: \"number of convolution kernels in standalone model\" x \"number of convolution kernels in clip model\"\n",
    "            if iteration == 0:\n",
    "                num_standalone_model_activations = sum(all_standalone_layers.values())\n",
    "                num_clip_model_activations = sum(all_clip_layers.values())\n",
    "                final_match_table = torch.zeros((num_standalone_model_activations, num_clip_model_activations)).to(device)\n",
    "\n",
    "            # matching\n",
    "            all_match_table = []\n",
    "\n",
    "            for ii, standalone_model_activation in enumerate(standalone_model_activations):\n",
    "                match_table = []\n",
    "                standalone_model_activation = normalize(standalone_model_activation, standalone_model_statistics_table[ii])\n",
    "\n",
    "                for jj, clip_model_activation in enumerate(clip_model_activations):\n",
    "                    clip_model_activation_scaled = normalize(clip_model_activation, clip_model_statistics_table[jj]) \n",
    "                    # scale maps to same size\n",
    "                    map_size = max((standalone_model_activation.shape[2], clip_model_activation.shape[2]))\n",
    "                    standalone_model_activation_scaled = torch.nn.Upsample(size=(map_size,map_size), mode='bilinear')(standalone_model_activation)\n",
    "                    clip_model_activation_scaled = torch.nn.Upsample(size=(map_size,map_size), mode='bilinear')(clip_model_activation_scaled)\n",
    "                    # einsum(..) sums the product of the elements of the input.\n",
    "                    # examples: https://stackoverflow.com/questions/55894693/understanding-pytorch-einsum\n",
    "                    scores = torch.einsum('aixy,ajxy->ij', standalone_model_activation_scaled, clip_model_activation_scaled)/(batch_size*map_size**2)  \n",
    "                    scores = scores.cpu()\n",
    "                    \n",
    "                    match_table.append(scores)\n",
    "                    del standalone_model_activation_scaled\n",
    "                    del clip_model_activation_scaled\n",
    "                    del scores\n",
    "                    \n",
    "                all_match_table.append(match_table)\n",
    "                del match_table\n",
    "\n",
    "            # create table\n",
    "            batch_match_table = create_final_table(all_match_table, all_standalone_layers, all_clip_layers, batch_size, device)\n",
    "            final_match_table += batch_match_table\n",
    "            save_array(final_match_table, f\"{save_path}/norm_table_\"+str(iteration)+\".pkl\")\n",
    "\n",
    "            # cleanup\n",
    "            del all_match_table\n",
    "            del batch_match_table\n",
    "            del standalone_model_activations\n",
    "            del clip_model_activations\n",
    "            torch.cuda.empty_cache()\n",
    "            \n",
    "    # average and save\n",
    "    final_match_table /= len(dataloader)\n",
    "    save_array(final_match_table, f\"{save_path}/table.pkl\")\n",
    "    "
   ]
  },
  {
   "cell_type": "code",
   "execution_count": 15,
   "metadata": {},
   "outputs": [
    {
     "name": "stdout",
     "output_type": "stream",
     "text": [
      "Runtime: 0.0s\n"
     ]
    }
   ],
   "source": [
    "import time\n",
    "\n",
    "start_time = time.time()\n",
    "\n",
    "if False:\n",
    "    activation_matching(standalone_model, standalone_layers,\n",
    "                        clip_model, clip_layers,\n",
    "                        dataloader=data_loader,\n",
    "                        batch_size=DATASET_BATCH_SIZE,\n",
    "                        save_path=f\"{ROOT_PATH}/results\",\n",
    "                        device=device\n",
    "                        )   \n",
    "\n",
    "end_time = time.time()\n",
    "\n",
    "print(f\"Runtime: {np.round(end_time - start_time, 3)}s\")"
   ]
  },
  {
   "cell_type": "code",
   "execution_count": 16,
   "metadata": {},
   "outputs": [],
   "source": [
    "def load_stats(root, device):\n",
    "\n",
    "    # load table\n",
    "    file_name = os.path.join(root, \"table.pkl\")\n",
    "    with open(file_name, 'rb') as f:\n",
    "        table = pickle.load(f)\n",
    "        table = table.to(device)\n",
    "    \n",
    "    # load statistics from standalone model\n",
    "    with open(os.path.join(root,\"standalone_model_statistics.pkl\"), 'rb') as f:\n",
    "        standalone_statistics = pickle.load(f)\n",
    "        for iii, item1 in enumerate(standalone_statistics):\n",
    "            for jjj, item2 in enumerate(standalone_statistics[iii]):\n",
    "                standalone_statistics[iii][jjj] = standalone_statistics[iii][jjj].to(device)\n",
    "                \n",
    "    # load statistics from clip model\n",
    "    with open(os.path.join(root,\"clip_model_statistics.pkl\"), 'rb') as f:\n",
    "        clip_statistics = pickle.load(f)\n",
    "        \n",
    "        for iii, item1 in enumerate(clip_statistics):\n",
    "            for jjj, item2 in enumerate(clip_statistics[iii]):\n",
    "                clip_statistics[iii][jjj] = clip_statistics[iii][jjj].to(device)\n",
    "        \n",
    "    return table, standalone_statistics, clip_statistics"
   ]
  },
  {
   "cell_type": "code",
   "execution_count": 17,
   "metadata": {},
   "outputs": [
    {
     "name": "stdout",
     "output_type": "stream",
     "text": [
      "table.shape=torch.Size([22720, 3840])\n",
      "Number of feature maps in standalone model:22720\n",
      "Number of feature maps in CLIP image-encoder:3840\n"
     ]
    }
   ],
   "source": [
    "table, standalone_statistics, clip_statistics = load_stats(f\"{ROOT_PATH}/results\", device)\n",
    "# table, standalone_statistics, clip_statistics = load_stats(f\"/mnt/data/patrick.koller/masterthesis/data/results/backup/results\", device)\n",
    "\n",
    "\n",
    "########################################\n",
    "# table\n",
    "########################################\n",
    "# number of kernels in standalone model x number of kernels in clip model\n",
    "# and therefore, since every kernel results in one activation/feature map:\n",
    "# num_standalone_model_activations x num_clip_model_activations\n",
    "print(f\"{table.shape=}\")\n",
    "\n",
    "\n",
    "########################################\n",
    "# Standalone statistics\n",
    "########################################\n",
    "# len(standalone_statistics) = 49 conv layers\n",
    "# len(standalone_statistics[0]) = 2 => Choose between mean [0] or std [1]\n",
    "# standalone_statistics[0][0].shape = torch.Size([1, 64, 1, 1]) => 64 activations maps of the 64 conv kernels in first layer\n",
    "\n",
    "nr_feature_maps_standalone = 0\n",
    "\n",
    "for i in range(len(standalone_statistics)):\n",
    "    nr_feature_maps_standalone += standalone_statistics[i][0].shape[1]\n",
    "    \n",
    "print(f\"Number of feature maps in standalone model:{nr_feature_maps_standalone}\")\n",
    "\n",
    "\n",
    "########################################\n",
    "# CLIP statistics\n",
    "########################################\n",
    "# for all layers:\n",
    "# len(clip_statistics) = 51 conv layers\n",
    "# len(clip_statistics[0]) = 2 => Choose between mean [0] or std [1]\n",
    "# clip_statistics[0][0].shape = torch.Size([1, 32, 1, 1]) => 32 activations maps of the 32 conv kernels in first layer\n",
    "#\n",
    "# for last layer of the last four stages:\n",
    "# len(clip_statistics) = 4 conv layers\n",
    "# len(clip_statistics[0]) = 2 => Choose between mean [0] or std [1]\n",
    "# clip_statistics[0][0].shape = torch.Size([1, 256, 1, 1]) => 256 activations maps of the 256 conv kernels in last layer of second stage\n",
    "nr_feature_maps_clip = 0\n",
    "\n",
    "for i in range(len(clip_statistics)):\n",
    "    nr_feature_maps_clip += clip_statistics[i][0].shape[1]\n",
    "    \n",
    "print(f\"Number of feature maps in CLIP image-encoder:{nr_feature_maps_clip}\")"
   ]
  },
  {
   "cell_type": "code",
   "execution_count": 18,
   "metadata": {},
   "outputs": [],
   "source": [
    "# find highest scores between standalone to clip kernels\n",
    "# (max possible index is equal to nr_feature_maps_standalone=22'720)\n",
    "# dim=0 searches max along the columns (vertical direction)\n",
    "# dim=1 searches max along the rows (horizontal direction)\n",
    "# (dim does not influence match_scores, but clip_idxs)\n",
    "match_scores, standalone_idxs = torch.max(table, dim=0)\n",
    "# same output as:\n",
    "# clip_idxs = torch.argmax(table, dim=1)\n",
    "# match_scores, _ = torch.max(table, dim=1)"
   ]
  },
  {
   "cell_type": "code",
   "execution_count": 19,
   "metadata": {},
   "outputs": [
    {
     "name": "stdout",
     "output_type": "stream",
     "text": [
      "Smallest index in standalone model to be swapped is 0\n",
      "Largest index in standalone model to be swapped is 22706\n",
      "1401 unique kernels to be swapped out of 3840\n"
     ]
    }
   ],
   "source": [
    "# sanity checks\n",
    "print(f\"Smallest index in standalone model to be swapped is {standalone_idxs.min()}\")\n",
    "print(f\"Largest index in standalone model to be swapped is {standalone_idxs.max()}\")\n",
    "print(f\"{standalone_idxs.unique().shape[0]} unique kernels to be swapped out of {standalone_idxs.shape[0]}\")"
   ]
  },
  {
   "cell_type": "code",
   "execution_count": 20,
   "metadata": {},
   "outputs": [],
   "source": [
    "# poor man's moving average\n",
    "WINDOW=40\n",
    "\n",
    "averaged_signal = []\n",
    "\n",
    "for i in range(WINDOW):\n",
    "    averaged_signal.append(0)\n",
    "\n",
    "for i in range(standalone_idxs.cpu().numpy().shape[0] - WINDOW):\n",
    "    asdf = standalone_idxs.cpu().numpy()[i:i+WINDOW].sum()/WINDOW\n",
    "    averaged_signal.append(asdf)"
   ]
  },
  {
   "cell_type": "code",
   "execution_count": 21,
   "metadata": {},
   "outputs": [],
   "source": [
    "# plots\n",
    "if False:\n",
    "    plt.plot(match_scores.cpu().numpy(), linewidth=.15)\n",
    "    plt.title(\"Activation matching scores\")\n",
    "    plt.xlabel(\"Unit index in standalone model\")\n",
    "    plt.ylabel(\"Score\")\n",
    "    plt.show()\n",
    "\n",
    "    plt.plot(standalone_idxs.cpu().numpy(), label='Unfiltered', linewidth=.15)\n",
    "    plt.plot(averaged_signal, label=f'Filtered with a window of size {WINDOW}')\n",
    "    plt.title(\"Activation matching\")\n",
    "    plt.xlabel(\"Unit in standalone model\")\n",
    "    plt.ylabel(\"Unit in CLIP model\")\n",
    "    plt.legend()\n",
    "    plt.show()"
   ]
  },
  {
   "cell_type": "markdown",
   "metadata": {},
   "source": [
    "# layer swapping"
   ]
  },
  {
   "cell_type": "code",
   "execution_count": 22,
   "metadata": {},
   "outputs": [],
   "source": [
    "def find_act(act_num, net_dict):\n",
    "    \"\"\"\n",
    "    Finding the index of the layer and the local index of a unit within that layer,\n",
    "    if all kernels within a model are stacked and the absolut index of the unit is \n",
    "    given.\n",
    "    \"\"\"\n",
    "    layers_list = list(net_dict)\n",
    "    \n",
    "    layer = 0\n",
    "    counter = 0\n",
    "    \n",
    "    while act_num >= counter:\n",
    "        layer += 1\n",
    "        counter += net_dict[layers_list[layer-1]]\n",
    "        \n",
    "    act = act_num-counter+net_dict[layers_list[layer-1]]\n",
    "    \n",
    "    del layers_list\n",
    "    torch.cuda.empty_cache()\n",
    "    \n",
    "    return (layer-1), act"
   ]
  },
  {
   "cell_type": "code",
   "execution_count": 23,
   "metadata": {},
   "outputs": [],
   "source": [
    "def resize_and_stack(curr_layer, table, gan_activs, clip_activs, all_clip_layers, idxs, k):\n",
    "    \"\"\"\n",
    "    Resize kernels from standalone model to the size of the kernels in clip model.\n",
    "    \"\"\"\n",
    "    scores = match_scores[idxs]\n",
    "    map_size = gan_activs.shape[2]\n",
    "    clip_activ_matches = torch.zeros_like(gan_activs)\n",
    "    \n",
    "    for i,idx in enumerate(idxs):\n",
    "        clip_act_name = find_act(idx, all_clip_layers)\n",
    "        activ = clip_activs[clip_act_name[0]][:,clip_act_name[1],:,:].unsqueeze(0)\n",
    "        activ = torch.nn.functional.interpolate(activ, size = (map_size,map_size), mode = \"bicubic\")\n",
    "        clip_activ_matches[:,i,:,:] = activ\n",
    "        \n",
    "    scores = torch.einsum('aixy,aixy->ai', gan_activs,clip_activ_matches)/(map_size**2)\n",
    "    k = clip_activ_matches.shape[1]\n",
    "    print(\"Layer\" + str(curr_layer)+\": Replace \"+str(k)+\" out of \"+ str(clip_activ_matches.shape[1])+\" units\")\n",
    "    vals, idxs = torch.topk(-1*scores,k=k)\n",
    "    \n",
    "    return (clip_activ_matches,idxs)"
   ]
  },
  {
   "cell_type": "code",
   "execution_count": 24,
   "metadata": {},
   "outputs": [],
   "source": [
    "def _swap_activs(clip_model, cliplayer_name, standalone_activ, idx, clip_stats):\n",
    "    \"\"\"\n",
    "    Use standalone layers to adapt clip layers.\n",
    "    \"\"\"\n",
    "    def edit_rule(data, model):\n",
    "        data[:,idx, :, :] = ((standalone_activ[:,idx,:,:].float()*clip_stats[1][:,idx,:,:])+ clip_stats[0][:,idx,:,:]).float()\n",
    "        return data\n",
    "    \n",
    "    clip_model.edit_layer(cliplayer_name, edit_rule)"
   ]
  },
  {
   "cell_type": "code",
   "execution_count": 25,
   "metadata": {},
   "outputs": [],
   "source": [
    "def compute_similarities(model_clip, image, text_features, logfile, similarities):\n",
    "    \"\"\"\n",
    "    Compute CLIP cosine similarities.\n",
    "    \"\"\"\n",
    "    \n",
    "    # compute CLIP similarities\n",
    "    with torch.no_grad():\n",
    "        image_features = model_clip.model.encode_image(image.to(device))\n",
    "        image_features /= image_features.norm(dim=-1, keepdim=True)\n",
    "    similarity = text_features.cpu().numpy() @ image_features.cpu().numpy().T\n",
    "\n",
    "    # log similarities (for debugging)\n",
    "    with open(logfile, \"a\") as f:\n",
    "        f.write(\"{}, {}, {}, {},\\n\".format(similarity[0].item(),\n",
    "                                            similarity[1].item(),\n",
    "                                            similarity[2].item(),\n",
    "                                            similarity[3].item()))\n",
    "\n",
    "    # save similarities\n",
    "    similarities = np.hstack((similarities, similarity)) if similarities.size else similarity\n",
    "    return similarities"
   ]
  },
  {
   "cell_type": "code",
   "execution_count": 38,
   "metadata": {},
   "outputs": [],
   "source": [
    "def swap_layers(img, table, standalone_model, standalone_layers, clip_model, clip_layers, standalone_statistics, clip_statistics, match_list, texts):\n",
    "    \"\"\"\n",
    "    Computes the CLIP cosine similarities after each swap of a layer in the CLIP model.\n",
    "    Returns the original image (Used to compute the activations) and a list of CLIP cosine\n",
    "    similarities after every swap. (Original CLIP cosine similarities before any swap\n",
    "    at index 0)\n",
    "    \"\"\"\n",
    "    # delete existing log-file\n",
    "    LOGFILE_SWAPPING = \"swapping.log\"\n",
    "    os.system(f\"rm {LOGFILE_SWAPPING}\")\n",
    "    \n",
    "    # local variables\n",
    "    similarities = np.array([])\n",
    "    \n",
    "    # inference\n",
    "    _ = standalone_model(img)\n",
    "    _ = clip_model.model.encode_image(img)\n",
    "    \n",
    "    # capture activations\n",
    "    standalone_activs = store_activs(standalone_model, standalone_layers)\n",
    "    all_standalone_layers = dict_layers(standalone_activs)\n",
    "    clip_activs = store_activs(clip_model, clip_layers)\n",
    "    all_clip_layers = dict_layers(clip_activs)\n",
    "    \n",
    "    # normalize activations\n",
    "    eps = 0.00001\n",
    "    \n",
    "    for i,_ in enumerate(standalone_activs):\n",
    "        standalone_activs[i] = (standalone_activs[i] - standalone_statistics[i][0])/(standalone_statistics[i][1] + eps)\n",
    "    \n",
    "    for i,_ in enumerate(clip_activs):\n",
    "        clip_activs[i] = (clip_activs[i] - clip_statistics[i][0]) / (clip_statistics[i][1] + eps)\n",
    "    \n",
    "    # texts\n",
    "    with torch.no_grad():\n",
    "        text_features = clip_model.model.encode_text(clip.tokenize(texts).to(device))\n",
    "        text_features /= text_features.norm(dim=-1, keepdim=True)\n",
    "        \n",
    "    # initial CLIP performance\n",
    "    similarities = compute_similarities(clip_model, img, text_features, LOGFILE_SWAPPING, similarities)\n",
    "    \n",
    "    # swap layers\n",
    "    if True:\n",
    "        j = 0 #j keeps track of activation\n",
    "        for i, _ in enumerate(clip_activs): # i iterates over CLIP layers\n",
    "            match_idxs = match_list[j:j + clip_activs[i].shape[1]] # slice of kernels for specific layer\n",
    "            j += clip_activs[i].shape[1] # add number of kernels in layer i; j holds number of kernels in layer i\n",
    "            \n",
    "            if True:\n",
    "                # resize kernel sizes\n",
    "                standalone_swaps, idxs = resize_and_stack(i, table, clip_activs[i], standalone_activs, all_standalone_layers, match_idxs, k = 0)\n",
    "\n",
    "            if False:\n",
    "                # update model\n",
    "                _swap_activs(clip_model, clip_layers[i], standalone_swaps, idxs, clip_statistics[i])        \n",
    "\n",
    "            if False:\n",
    "                # compute CLIP similarities\n",
    "                similarities = compute_similarities(clip_model, img, text_features, LOGFILE_SWAPPING, similarities)\n",
    "\n",
    "    # plot similarities over time\n",
    "    return img, similarities"
   ]
  },
  {
   "cell_type": "code",
   "execution_count": 39,
   "metadata": {},
   "outputs": [],
   "source": [
    "# sample image\n",
    "data = next(iter(data_loader))\n",
    "image = data[0][0].unsqueeze(dim=0).to(device)\n",
    "label = data[1][0].item()"
   ]
  },
  {
   "cell_type": "code",
   "execution_count": 40,
   "metadata": {},
   "outputs": [
    {
     "name": "stdout",
     "output_type": "stream",
     "text": [
      "image.device=device(type='cuda', index=0)\n",
      "table.device=device(type='cuda', index=0)\n",
      "standalone_idxs.device=device(type='cuda', index=0)\n"
     ]
    }
   ],
   "source": [
    "print(f\"{image.device=}\")\n",
    "print(f\"{table.device=}\")\n",
    "# print(f\"{standalone_model.model.device=}\")\n",
    "# print(f\"{standalone_layers.device=}\")\n",
    "# print(f\"{clip_model.device=}\")\n",
    "# print(f\"{clip_layers.device=}\")\n",
    "# print(f\"{standalone_statistics.device=}\")\n",
    "# print(f\"{clip_statistics.device=}\")\n",
    "print(f\"{standalone_idxs.device=}\")\n",
    "# print(f\"{captions.device=}\")"
   ]
  },
  {
   "cell_type": "code",
   "execution_count": 41,
   "metadata": {},
   "outputs": [
    {
     "name": "stdout",
     "output_type": "stream",
     "text": [
      "Number of CLIP layers: 4\n",
      "['visual.layer1', 'visual.layer2', 'visual.layer3', 'visual.layer4']\n",
      "i=0 and j=256\n",
      "i=1 and j=768\n",
      "i=2 and j=1792\n",
      "i=3 and j=3840\n"
     ]
    }
   ],
   "source": [
    "# setup captions\n",
    "captions = [\"a photo of a digit with the value 5.\",\n",
    "            \"a photo of a digit with the value 8.\",\n",
    "            \"a photo of a green digit.\",\n",
    "            \"a photo of a red digit.\"]\n",
    "\n",
    "# restore CLIP model\n",
    "clip_model, clip_preprocess, clip_layers = setup_clip(USE_ALL_CLIP_LAYERS,\n",
    "                                                      LIMIT_NR_LAYERS,\n",
    "                                                      print_config=True)\n",
    "\n",
    "# image = image.cpu()\n",
    "# table = table.cpu()\n",
    "# standalone_model = standalone_model.cpu()\n",
    "# # standalone_layers = standalone_layers.cpu()\n",
    "# clip_model = clip_model.cpu()\n",
    "# # clip_layers = clip_layers.cpu()\n",
    "# # standalone_statistics = standalone_statistics.cpu()\n",
    "# # clip_statistics = clip_statistics.cpu()\n",
    "# standalone_idxs = standalone_idxs.cpu()\n",
    "# # captions = captions.cpu()\n",
    "\n",
    "# swap layers (epoch 0 demonstrates the original CLIP output without any swapping)\n",
    "if True:\n",
    "    img, cos_sim = swap_layers(image, table,\n",
    "                               standalone_model, standalone_layers,\n",
    "                               clip_model, clip_layers,\n",
    "                               standalone_statistics, clip_statistics,\n",
    "                               standalone_idxs, captions)"
   ]
  },
  {
   "cell_type": "code",
   "execution_count": 30,
   "metadata": {},
   "outputs": [
    {
     "data": {
      "text/plain": [
       "torch.Size([3840])"
      ]
     },
     "execution_count": 30,
     "metadata": {},
     "output_type": "execute_result"
    }
   ],
   "source": [
    "standalone_idxs.shape"
   ]
  },
  {
   "cell_type": "code",
   "execution_count": null,
   "metadata": {},
   "outputs": [],
   "source": []
  },
  {
   "cell_type": "code",
   "execution_count": 31,
   "metadata": {},
   "outputs": [
    {
     "data": {
      "image/png": "[encoded data removed]",
      "text/plain": [
       "<Figure size 1500x500 with 3 Axes>"
      ]
     },
     "metadata": {},
     "output_type": "display_data"
    }
   ],
   "source": [
    "def display_layer_swapping_progress(img, cosine_similarities, labels, show_figure=[\"cosine similarities\", \"probabilites\"]):\n",
    "    \"\"\"\n",
    "    Display image, cosine similarity and class probabilities over the number of swapped layers.\n",
    "    \"\"\"\n",
    "    \n",
    "    # sanity check for valid figure names\n",
    "    for figure_name in show_figure:\n",
    "        if figure_name not in [\"cosine similarities\", \"probabilites\"]:\n",
    "            raise Exception(\"Invalid figure name!\")\n",
    "    \n",
    "    # sanity check to show at least one figure next to the image\n",
    "    if len(show_figure) < 1:\n",
    "        raise Exception(\"Need to display either cosine similarity or probabilies!\")\n",
    "    \n",
    "    # show original image\n",
    "    fig, axs = plt.subplots(1, 1+len(show_figure), figsize=(15, 5))\n",
    "    axs[0].imshow(img)\n",
    "    axs[0].set_title(f\"Digit {label}\")\n",
    "\n",
    "    # show selected figures\n",
    "    for i, figure_name in enumerate(show_figure):\n",
    "        i += 1\n",
    "        \n",
    "        if figure_name == \"cosine similarities\":\n",
    "            axs[i].plot(cosine_similarities, 'x-', label=labels)\n",
    "            axs[i].set_title(\"Layer swapping\")\n",
    "            axs[i].set_xlabel(\"Number of layers swapped\")\n",
    "            axs[i].set_ylabel(\"Cosine similarity\")\n",
    "            axs[i].legend()\n",
    "            axs[i].grid()\n",
    "\n",
    "        if figure_name == \"probabilites\":\n",
    "            axs[i].plot(100.0 * torch.tensor(cosine_similarities, dtype=torch.float32).softmax(dim=1), 'x-', label=labels)\n",
    "            axs[i].set_title(\"Layer swapping\")\n",
    "            axs[i].set_xlabel(\"Number of layers swapped\")\n",
    "            axs[i].set_ylabel(\"Probability in %\")\n",
    "            axs[i].legend()\n",
    "            axs[i].grid()\n",
    "\n",
    "    plt.tight_layout()\n",
    "    plt.show()\n",
    "\n",
    "display_layer_swapping_progress(clip_preprocess_inverse(img.cpu(), clip_preprocess),\n",
    "                                cos_sim.T,\n",
    "                                captions,\n",
    "                                show_figure=[\"cosine similarities\", \"probabilites\"])"
   ]
  },
  {
   "cell_type": "code",
   "execution_count": null,
   "metadata": {},
   "outputs": [],
   "source": []
  }
 ],
 "metadata": {
  "kernelspec": {
   "display_name": "Python 3 (ipykernel)",
   "language": "python",
   "name": "python3"
  },
  "language_info": {
   "codemirror_mode": {
    "name": "ipython",
    "version": 3
   },
   "file_extension": ".py",
   "mimetype": "text/x-python",
   "name": "python",
   "nbconvert_exporter": "python",
   "pygments_lexer": "ipython3",
   "version": "3.8.13"
  },
  "orig_nbformat": 4
 },
 "nbformat": 4,
 "nbformat_minor": 2
}
