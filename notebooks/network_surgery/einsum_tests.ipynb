{
 "cells": [
  {
   "cell_type": "code",
   "execution_count": 157,
   "metadata": {},
   "outputs": [],
   "source": [
    "import torch\n",
    "import numpy as np"
   ]
  },
  {
   "cell_type": "markdown",
   "metadata": {},
   "source": [
    "# einstein sum notation tests to get familiar with the notation\n",
    "\n",
    "einsum(..) sums the product of all elements of the input according to the setup.  \n",
    " \n",
    "examples:  \n",
    "https://stackoverflow.com/questions/55894693/understanding-pytorch-einsum  \n",
    "https://stackoverflow.com/questions/55894693/understanding-pytorch-einsum  \n",
    "https://rockt.github.io/2018/04/30/einsum  \n",
    "https://notebook.community/ESSS/notebooks/einsum-notebook\n"
   ]
  },
  {
   "cell_type": "markdown",
   "metadata": {},
   "source": [
    "## 1-dimensional einsum operations"
   ]
  },
  {
   "cell_type": "code",
   "execution_count": 158,
   "metadata": {},
   "outputs": [
    {
     "name": "stdout",
     "output_type": "stream",
     "text": [
      "a=tensor([[0, 1, 2]])\n",
      "a.shape=torch.Size([1, 3])\n",
      "\n",
      "b=tensor([[3, 4, 5]])\n",
      "b.shape=torch.Size([1, 3])\n",
      "\n",
      "Scalarproduct: 14\n"
     ]
    }
   ],
   "source": [
    "# inner product/scalar product\n",
    "# comma is a multiplication\n",
    "# indexes not used after arrow are summed over\n",
    "# the arrow indicates a multiplication\n",
    "a = torch.arange(3)\n",
    "b = torch.arange(3,6)\n",
    "\n",
    "a = a.unsqueeze(dim=0)\n",
    "b = b.unsqueeze(dim=0)\n",
    "\n",
    "print(f\"{a=}\")\n",
    "print(f\"{a.shape=}\\n\")\n",
    "print(f\"{b=}\")\n",
    "print(f\"{b.shape=}\\n\")\n",
    "\n",
    "print(f\"Scalarproduct: {torch.einsum('ij,ij->', a, b)}\")"
   ]
  },
  {
   "cell_type": "markdown",
   "metadata": {},
   "source": [
    "## 2-dimensional einsum operations"
   ]
  },
  {
   "cell_type": "code",
   "execution_count": 159,
   "metadata": {},
   "outputs": [
    {
     "name": "stdout",
     "output_type": "stream",
     "text": [
      "a=tensor([[7, 7],\n",
      "        [2, 4]])\n",
      "a.shape=torch.Size([2, 2])\n",
      "\n",
      "b=tensor([[9, 1],\n",
      "        [7, 5]])\n",
      "b.shape=torch.Size([2, 2])\n",
      "\n",
      "Outer product: tensor([[112,  42],\n",
      "        [ 46,  22]])\n",
      "\n",
      "Einsum outer product: tensor([[112,  42],\n",
      "        [ 46,  22]])\n",
      "\n"
     ]
    }
   ],
   "source": [
    "# setup\n",
    "a = torch.randint(0, 10, (2,2))\n",
    "b = torch.randint(0, 10, (2,2))\n",
    "\n",
    "print(f\"{a=}\")\n",
    "print(f\"{a.shape=}\\n\")\n",
    "print(f\"{b=}\")\n",
    "print(f\"{b.shape=}\\n\")\n",
    "\n",
    "# outer product\n",
    "print(f\"Outer product: {a@b}\\n\")\n",
    "print(f\"Einsum outer product: {torch.einsum('ik,kj->ij', a, b)}\\n\")\n"
   ]
  },
  {
   "cell_type": "markdown",
   "metadata": {},
   "source": [
    "## 3-dimensional einsum operations"
   ]
  },
  {
   "cell_type": "code",
   "execution_count": 160,
   "metadata": {},
   "outputs": [
    {
     "name": "stdout",
     "output_type": "stream",
     "text": [
      "a=tensor([[[0, 7],\n",
      "         [9, 3]],\n",
      "\n",
      "        [[2, 5],\n",
      "         [4, 4]]])\n",
      "a.shape=torch.Size([2, 2, 2])\n",
      "\n",
      "b=tensor([[[3, 7],\n",
      "         [6, 6]],\n",
      "\n",
      "        [[2, 0],\n",
      "         [9, 1]]])\n",
      "b.shape=torch.Size([2, 2, 2])\n",
      "\n",
      "Batch matrix product: tensor([[[42, 42],\n",
      "         [45, 81]],\n",
      "\n",
      "        [[49,  5],\n",
      "         [44,  4]]])\n",
      "\n",
      "Einsum batch matrix product: tensor([[[42, 42],\n",
      "         [45, 81]],\n",
      "\n",
      "        [[49,  5],\n",
      "         [44,  4]]])\n",
      "\n"
     ]
    }
   ],
   "source": [
    "# setup\n",
    "a = torch.randint(0, 10, (2,2,2))\n",
    "b = torch.randint(0, 10, (2,2,2))\n",
    "\n",
    "print(f\"{a=}\")\n",
    "print(f\"{a.shape=}\\n\")\n",
    "print(f\"{b=}\")\n",
    "print(f\"{b.shape=}\\n\")\n",
    "\n",
    "# batch matrix product\n",
    "print(f\"Batch matrix product: {a@b}\\n\")\n",
    "print(f\"Einsum batch matrix product: {torch.einsum('ijk,ikl->ijl', a, b)}\\n\")\n"
   ]
  },
  {
   "cell_type": "markdown",
   "metadata": {},
   "source": [
    "## 4-dimensional einsum operations"
   ]
  },
  {
   "cell_type": "code",
   "execution_count": 161,
   "metadata": {},
   "outputs": [
    {
     "name": "stdout",
     "output_type": "stream",
     "text": [
      "a=tensor([[[[0, 2],\n",
      "          [2, 9]],\n",
      "\n",
      "         [[1, 5],\n",
      "          [3, 9]]],\n",
      "\n",
      "\n",
      "        [[[7, 4],\n",
      "          [3, 2]],\n",
      "\n",
      "         [[3, 4],\n",
      "          [6, 8]]]])\n",
      "a.shape=torch.Size([2, 2, 2, 2])\n",
      "\n",
      "b=tensor([[[[6, 9],\n",
      "          [8, 4]],\n",
      "\n",
      "         [[7, 0],\n",
      "          [6, 2]]],\n",
      "\n",
      "\n",
      "        [[[2, 0],\n",
      "          [0, 9]],\n",
      "\n",
      "         [[9, 4],\n",
      "          [0, 8]]]])\n",
      "b.shape=torch.Size([2, 2, 2, 2])\n",
      "\n",
      "Batch matrix product: tensor([[[[16,  8],\n",
      "          [84, 54]],\n",
      "\n",
      "         [[37, 10],\n",
      "          [75, 18]]],\n",
      "\n",
      "\n",
      "        [[[14, 36],\n",
      "          [ 6, 18]],\n",
      "\n",
      "         [[27, 44],\n",
      "          [54, 88]]]])\n",
      "\n"
     ]
    }
   ],
   "source": [
    "# setup\n",
    "a = torch.randint(0, 10, (2, 2, 2, 2))\n",
    "b = torch.randint(0, 10, (2, 2, 2, 2))\n",
    "\n",
    "print(f\"{a=}\")\n",
    "print(f\"{a.shape=}\\n\")\n",
    "print(f\"{b=}\")\n",
    "print(f\"{b.shape=}\\n\")\n",
    "\n",
    "# batch matrix product\n",
    "print(f\"Batch matrix product: {a@b}\\n\")"
   ]
  },
  {
   "cell_type": "markdown",
   "metadata": {},
   "source": [
    "# einstein sum notation used in the project"
   ]
  },
  {
   "cell_type": "code",
   "execution_count": 162,
   "metadata": {},
   "outputs": [
    {
     "data": {
      "text/plain": [
       "tensor([[102, 125],\n",
       "        [189, 150]])"
      ]
     },
     "execution_count": 162,
     "metadata": {},
     "output_type": "execute_result"
    }
   ],
   "source": [
    "# torch.einsum('aixy,ajxy', a, b) -> same results\n",
    "torch.einsum('aixy,ajxy->ij', a, b)"
   ]
  },
  {
   "cell_type": "code",
   "execution_count": 163,
   "metadata": {},
   "outputs": [
    {
     "data": {
      "text/plain": [
       "tensor(566)"
      ]
     },
     "execution_count": 163,
     "metadata": {},
     "output_type": "execute_result"
    }
   ],
   "source": [
    "torch.einsum('aixy,ajxy->', a, b)"
   ]
  },
  {
   "cell_type": "code",
   "execution_count": 164,
   "metadata": {},
   "outputs": [
    {
     "data": {
      "text/plain": [
       "torch.Size([2, 2, 2, 2, 2])"
      ]
     },
     "execution_count": 164,
     "metadata": {},
     "output_type": "execute_result"
    }
   ],
   "source": [
    "torch.einsum('aixy,ajxy->aijxy', a, b).shape"
   ]
  },
  {
   "cell_type": "code",
   "execution_count": 165,
   "metadata": {},
   "outputs": [
    {
     "data": {
      "text/plain": [
       "tensor([[102, 125],\n",
       "        [189, 150]])"
      ]
     },
     "execution_count": 165,
     "metadata": {},
     "output_type": "execute_result"
    }
   ],
   "source": [
    "# torch.einsum('aixy,ajxy', a, b) -> same results\n",
    "torch.einsum('aixy,ajxy->ij', a, b)"
   ]
  },
  {
   "cell_type": "code",
   "execution_count": 166,
   "metadata": {},
   "outputs": [
    {
     "data": {
      "text/plain": [
       "tensor([[ 70,  43],\n",
       "        [ 32, 107]])"
      ]
     },
     "execution_count": 166,
     "metadata": {},
     "output_type": "execute_result"
    }
   ],
   "source": [
    "torch.einsum('aixy,aixy->ai', a, b)"
   ]
  },
  {
   "cell_type": "code",
   "execution_count": null,
   "metadata": {},
   "outputs": [],
   "source": []
  }
 ],
 "metadata": {
  "kernelspec": {
   "display_name": "Python 3 (ipykernel)",
   "language": "python",
   "name": "python3"
  },
  "orig_nbformat": 4
 },
 "nbformat": 4,
 "nbformat_minor": 2
}
