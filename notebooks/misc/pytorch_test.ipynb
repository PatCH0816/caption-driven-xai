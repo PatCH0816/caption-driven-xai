{
 "cells": [
  {
   "cell_type": "markdown",
   "metadata": {},
   "source": [
    "# Pytorch test\n",
    "Some random tests to get used to pytorch"
   ]
  },
  {
   "cell_type": "code",
   "execution_count": 2,
   "metadata": {
    "vscode": {
     "languageId": "python"
    }
   },
   "outputs": [
    {
     "name": "stdout",
     "output_type": "stream",
     "text": [
      "tensor([[ 1.1985e+36,  3.0673e-41,  6.5179e+37,  3.0673e-41],\n",
      "        [-4.0412e-21,  4.5768e-41,  1.4013e-45,  0.0000e+00],\n",
      "        [ 1.6816e-44,  0.0000e+00,  0.0000e+00,  0.0000e+00]])\n"
     ]
    }
   ],
   "source": [
    "import torch\n",
    "\n",
    "x = torch.empty(3,4)\n",
    "print(x)"
   ]
  },
  {
   "cell_type": "code",
   "execution_count": 3,
   "metadata": {
    "vscode": {
     "languageId": "python"
    }
   },
   "outputs": [
    {
     "data": {
      "text/plain": [
       "tensor([[0., 0., 0.],\n",
       "        [0., 0., 0.],\n",
       "        [0., 0., 0.],\n",
       "        [0., 0., 0.]])"
      ]
     },
     "execution_count": 3,
     "metadata": {},
     "output_type": "execute_result"
    }
   ],
   "source": [
    "torch.zeros(4,3)"
   ]
  },
  {
   "cell_type": "code",
   "execution_count": 4,
   "metadata": {
    "vscode": {
     "languageId": "python"
    }
   },
   "outputs": [
    {
     "data": {
      "text/plain": [
       "tensor([[5., 5., 5.],\n",
       "        [5., 5., 5.],\n",
       "        [5., 5., 5.],\n",
       "        [5., 5., 5.]])"
      ]
     },
     "execution_count": 4,
     "metadata": {},
     "output_type": "execute_result"
    }
   ],
   "source": [
    "torch.ones(4,3) * 5"
   ]
  },
  {
   "cell_type": "code",
   "execution_count": 5,
   "metadata": {
    "vscode": {
     "languageId": "python"
    }
   },
   "outputs": [
    {
     "data": {
      "text/plain": [
       "tensor([[0.8823, 0.9150, 0.3829, 0.9593],\n",
       "        [0.3904, 0.6009, 0.2566, 0.7936],\n",
       "        [0.9408, 0.1332, 0.9346, 0.5936]])"
      ]
     },
     "execution_count": 5,
     "metadata": {},
     "output_type": "execute_result"
    }
   ],
   "source": [
    "torch.manual_seed(42)\n",
    "\n",
    "torch.rand(3,4)"
   ]
  },
  {
   "cell_type": "code",
   "execution_count": 6,
   "metadata": {
    "vscode": {
     "languageId": "python"
    }
   },
   "outputs": [
    {
     "name": "stdout",
     "output_type": "stream",
     "text": [
      "Random tensor: \n",
      "tensor([[ 0.7388,  0.1354,  0.4822],\n",
      "        [-0.1412,  0.7709,  0.1478],\n",
      "        [-0.4668,  0.2549, -0.4607]]) \n",
      "\n",
      "Absolute values: \n",
      "tensor([[0.7388, 0.1354, 0.4822],\n",
      "        [0.1412, 0.7709, 0.1478],\n",
      "        [0.4668, 0.2549, 0.4607]]) \n",
      "\n",
      "Inverse sine values: \n",
      "tensor([[ 0.8313,  0.1358,  0.5032],\n",
      "        [-0.1417,  0.8802,  0.1484],\n",
      "        [-0.4857,  0.2577, -0.4788]]) \n",
      "\n",
      "Determinante: \n",
      "tensor(-0.1522) \n",
      "\n",
      "SVD: \n",
      "torch.return_types.svd(\n",
      "U=tensor([[-0.7804, -0.2772,  0.5604],\n",
      "        [ 0.1120, -0.9438, -0.3109],\n",
      "        [ 0.6151, -0.1799,  0.7676]]),\n",
      "S=tensor([1.0983, 0.8331, 0.1664]),\n",
      "V=tensor([[-0.8009,  0.0149,  0.5987],\n",
      "        [ 0.1251, -0.9735,  0.1917],\n",
      "        [-0.5856, -0.2284, -0.7777]])) \n",
      "\n",
      "Standard mean: \n",
      "(tensor(0.4597), tensor(0.1624)) \n",
      "\n",
      "Maximum: \n",
      "tensor(0.7709) \n",
      "\n"
     ]
    }
   ],
   "source": [
    "r = (torch.rand(3,3) - .5) *2\n",
    "\n",
    "print(\"Random tensor: \")\n",
    "print(r, \"\\n\")\n",
    "\n",
    "print(\"Absolute values: \")\n",
    "print(torch.abs(r), \"\\n\")\n",
    "\n",
    "print(\"Inverse sine values: \")\n",
    "print(torch.asin(r), \"\\n\")\n",
    "\n",
    "print(\"Determinante: \")\n",
    "print(torch.det(r), \"\\n\")\n",
    "\n",
    "print(\"SVD: \")\n",
    "print(torch.svd(r), \"\\n\")\n",
    "\n",
    "print(\"Standard mean: \")\n",
    "print(torch.std_mean(r), \"\\n\")\n",
    "\n",
    "print(\"Maximum: \")\n",
    "print(torch.max(r), \"\\n\")"
   ]
  },
  {
   "cell_type": "code",
   "execution_count": 8,
   "metadata": {
    "vscode": {
     "languageId": "python"
    }
   },
   "outputs": [
    {
     "data": {
      "text/plain": [
       "tensor([[0.1348, 0.5781, 0.2241],\n",
       "        [0.6528, 0.0103, 0.1230],\n",
       "        [0.3647, 0.4180, 0.7734]], dtype=torch.float16)"
      ]
     },
     "execution_count": 8,
     "metadata": {},
     "output_type": "execute_result"
    }
   ],
   "source": [
    "# random tensor in the shape of r\n",
    "torch.rand_like(r, dtype=torch.float16)"
   ]
  },
  {
   "cell_type": "code",
   "execution_count": 13,
   "metadata": {
    "vscode": {
     "languageId": "python"
    }
   },
   "outputs": [
    {
     "data": {
      "text/plain": [
       "tensor([[ 7., 10.],\n",
       "        [15., 22.]])"
      ]
     },
     "execution_count": 13,
     "metadata": {},
     "output_type": "execute_result"
    }
   ],
   "source": [
    "a = torch.Tensor([[1,2],\n",
    "                  [3,4]])\n",
    "\n",
    "torch.mm(a,a) # short for .matmul"
   ]
  },
  {
   "cell_type": "code",
   "execution_count": 14,
   "metadata": {
    "vscode": {
     "languageId": "python"
    }
   },
   "outputs": [
    {
     "data": {
      "text/plain": [
       "tensor([[ 1.,  4.],\n",
       "        [ 9., 16.]])"
      ]
     },
     "execution_count": 14,
     "metadata": {},
     "output_type": "execute_result"
    }
   ],
   "source": [
    "a = torch.Tensor([[1,2],\n",
    "                  [3,4]])\n",
    "\n",
    "a*a"
   ]
  },
  {
   "cell_type": "code",
   "execution_count": 15,
   "metadata": {
    "vscode": {
     "languageId": "python"
    }
   },
   "outputs": [
    {
     "data": {
      "text/plain": [
       "tensor([[True, True],\n",
       "        [True, True]])"
      ]
     },
     "execution_count": 15,
     "metadata": {},
     "output_type": "execute_result"
    }
   ],
   "source": [
    "torch.eq(a,a)"
   ]
  },
  {
   "cell_type": "code",
   "execution_count": 18,
   "metadata": {
    "vscode": {
     "languageId": "python"
    }
   },
   "outputs": [],
   "source": [
    "assert a is a"
   ]
  },
  {
   "cell_type": "code",
   "execution_count": 21,
   "metadata": {
    "vscode": {
     "languageId": "python"
    }
   },
   "outputs": [
    {
     "name": "stdout",
     "output_type": "stream",
     "text": [
      "ID of a:  140280552221808\n",
      "ID of b:  140280562802176\n",
      "ID of c:  140280552221808\n"
     ]
    }
   ],
   "source": [
    "b = a.clone()\n",
    "c = a\n",
    "\n",
    "print(\"ID of a: \", id(a))\n",
    "print(\"ID of b: \", id(b))\n",
    "print(\"ID of c: \", id(c))"
   ]
  },
  {
   "cell_type": "code",
   "execution_count": 24,
   "metadata": {
    "vscode": {
     "languageId": "python"
    }
   },
   "outputs": [
    {
     "name": "stdout",
     "output_type": "stream",
     "text": [
      "[[1. 1. 1.]\n",
      " [1. 1. 1.]]\n",
      "tensor([[1., 1., 1.],\n",
      "        [1., 1., 1.]], dtype=torch.float64)\n"
     ]
    }
   ],
   "source": [
    "import numpy as np\n",
    "\n",
    "# from numpy matrix to pytorch tensor\n",
    "numpy_array = np.ones((2,3))\n",
    "print(numpy_array)\n",
    "\n",
    "pytorch_tensor = torch.from_numpy(numpy_array)\n",
    "print(pytorch_tensor)"
   ]
  },
  {
   "cell_type": "code",
   "execution_count": 25,
   "metadata": {
    "vscode": {
     "languageId": "python"
    }
   },
   "outputs": [
    {
     "name": "stdout",
     "output_type": "stream",
     "text": [
      "tensor([[0.3423, 0.6343, 0.3644],\n",
      "        [0.7104, 0.9464, 0.7890]])\n",
      "[[0.3423134  0.63434184 0.36441028]\n",
      " [0.7104288  0.9464111  0.7890298 ]]\n"
     ]
    }
   ],
   "source": [
    "# from pytorch tensor to numpy matrix\n",
    "pytorch_rand = torch.rand(2,3)\n",
    "print(pytorch_rand)\n",
    "\n",
    "numpy_rand = pytorch_rand.numpy()\n",
    "print(numpy_rand)"
   ]
  },
  {
   "cell_type": "code",
   "execution_count": null,
   "metadata": {
    "vscode": {
     "languageId": "python"
    }
   },
   "outputs": [],
   "source": []
  }
 ],
 "metadata": {
  "kernelspec": {
   "display_name": "Python 3 (ipykernel)",
   "language": "python",
   "name": "python3"
  },
  "orig_nbformat": 4
 },
 "nbformat": 4,
 "nbformat_minor": 2
}
