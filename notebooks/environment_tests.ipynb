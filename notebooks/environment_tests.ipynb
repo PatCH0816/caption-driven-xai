{
 "cells": [
  {
   "cell_type": "markdown",
   "id": "2e33e313",
   "metadata": {},
   "source": [
    "# Test environment and GPU support"
   ]
  },
  {
   "cell_type": "code",
   "execution_count": 1,
   "id": "1b391d22",
   "metadata": {},
   "outputs": [
    {
     "name": "stderr",
     "output_type": "stream",
     "text": [
      "/opt/conda/lib/python3.8/site-packages/tqdm/auto.py:22: TqdmWarning: IProgress not found. Please update jupyter and ipywidgets. See https://ipywidgets.readthedocs.io/en/stable/user_install.html\n",
      "  from .autonotebook import tqdm as notebook_tqdm\n"
     ]
    },
    {
     "name": "stdout",
     "output_type": "stream",
     "text": [
      "Hostname: sx-el-121920\n"
     ]
    }
   ],
   "source": [
    "import socket\n",
    "import torch\n",
    "import torchvision\n",
    "\n",
    "print(\"Hostname: \" + socket.gethostname())"
   ]
  },
  {
   "cell_type": "code",
   "execution_count": 2,
   "id": "104b3640",
   "metadata": {},
   "outputs": [
    {
     "name": "stdout",
     "output_type": "stream",
     "text": [
      "Pytorch version:  1.13.0a0+d0d6b1f\n",
      "Torchvision version:  0.14.0a0\n"
     ]
    }
   ],
   "source": [
    "print(\"Pytorch version: \", torch.__version__)\n",
    "print(\"Torchvision version: \", torchvision.__version__)"
   ]
  },
  {
   "cell_type": "code",
   "execution_count": 3,
   "id": "cf3be1cb",
   "metadata": {},
   "outputs": [
    {
     "name": "stdout",
     "output_type": "stream",
     "text": [
      "CUDA available: True\n",
      "Number of GPUs visible:  1\n"
     ]
    }
   ],
   "source": [
    "print(\"CUDA available: \" + str(torch.cuda.is_available()))\n",
    "print(\"Number of GPUs visible: \", torch.cuda.device_count())"
   ]
  },
  {
   "cell_type": "code",
   "execution_count": null,
   "id": "5240d6b3",
   "metadata": {},
   "outputs": [],
   "source": [
    "# create matrix in gpu accessable memory\n",
    "if torch.cuda.is_available():\n",
    "    gpu_rand = torch.rand(2,2,device='cuda')\n",
    "    print(gpu_rand)"
   ]
  },
  {
   "cell_type": "code",
   "execution_count": null,
   "id": "5babb2c4",
   "metadata": {},
   "outputs": [],
   "source": [
    "# create matrix in gpu accessable memory\n",
    "if torch.cuda.is_available():\n",
    "    my_device = torch.device('cuda')\n",
    "else:\n",
    "    my_device = torch.device('cpu')\n",
    "    \n",
    "print('Device: {}'.format(my_device))\n",
    "\n",
    "x = torch.rand(2,2,device=my_device)\n",
    "print(x)"
   ]
  },
  {
   "cell_type": "code",
   "execution_count": null,
   "id": "bd967242",
   "metadata": {},
   "outputs": [],
   "source": [
    "# create matrix in cpu accessable memory and pass it to gpu accessable memory\n",
    "y = torch.rand(2,2)\n",
    "y = y.to(my_device)"
   ]
  },
  {
   "cell_type": "code",
   "execution_count": null,
   "id": "94077bf7",
   "metadata": {},
   "outputs": [],
   "source": []
  }
 ],
 "metadata": {
  "kernelspec": {
   "display_name": "Python 3 (ipykernel)",
   "language": "python",
   "name": "python3"
  },
  "language_info": {
   "codemirror_mode": {
    "name": "ipython",
    "version": 3
   },
   "file_extension": ".py",
   "mimetype": "text/x-python",
   "name": "python",
   "nbconvert_exporter": "python",
   "pygments_lexer": "ipython3",
   "version": "3.8.13"
  },
  "vscode": {
   "interpreter": {
    "hash": "31f2aee4e71d21fbe5cf8b01ff0e069b9275f58929596ceb00d14d90e3e16cd6"
   }
  }
 },
 "nbformat": 4,
 "nbformat_minor": 5
}
