{
 "cells": [
  {
   "cell_type": "code",
   "execution_count": 15,
   "metadata": {},
   "outputs": [
    {
     "name": "stdout",
     "output_type": "stream",
     "text": [
      "/home/patrickk/projects/private/masterthesis\n",
      "total 40\n",
      "drwxrwxr-x  7 patrickk patrickk 4096 Nov  7 17:54 .\n",
      "drwxrwxr-x 34 patrickk patrickk 4096 Oct  3 14:39 ..\n",
      "drwxrwxr-x  3 patrickk patrickk 4096 Nov  7 18:05 app\n",
      "drwxrwxr-x  3 patrickk patrickk 4096 Nov  7 17:58 code\n",
      "drwxrwxr-x  5 patrickk patrickk 4096 Sep 26 19:05 doc\n",
      "drwxrwxr-x  8 patrickk patrickk 4096 Nov  7 16:20 .git\n",
      "-rw-rw-r--  1 patrickk patrickk 3010 Jul  7 14:05 .gitignore\n",
      "-rw-rw-r--  1 patrickk patrickk    0 Nov  7 17:53 __init__.py\n",
      "-rw-rw-r--  1 patrickk patrickk 1071 Sep 26 17:12 LICENSE\n",
      "-rw-rw-r--  1 patrickk patrickk   14 Sep 26 17:12 README.md\n",
      "drwxrwxr-x  2 patrickk patrickk 4096 Oct 27 15:03 .vscode\n"
     ]
    },
    {
     "data": {
      "text/plain": [
       "0"
      ]
     },
     "execution_count": 15,
     "metadata": {},
     "output_type": "execute_result"
    }
   ],
   "source": [
    "import os\n",
    "\n",
    "os.system(\"pwd\")\n",
    "os.system(\"ls -la\")"
   ]
  },
  {
   "cell_type": "code",
   "execution_count": 16,
   "metadata": {},
   "outputs": [
    {
     "name": "stdout",
     "output_type": "stream",
     "text": [
      "['__builtins__', '__cached__', '__doc__', '__file__', '__loader__', '__name__', '__package__', '__spec__', 'greeting']\n",
      "Hello world 3!\n"
     ]
    }
   ],
   "source": [
    "from importlib import reload\n",
    "import app.mymodule\n",
    "reload(app.mymodule)\n",
    "\n",
    "print(dir(app.mymodule))\n",
    "\n",
    "app.mymodule.greeting()"
   ]
  },
  {
   "cell_type": "code",
   "execution_count": 17,
   "metadata": {},
   "outputs": [
    {
     "name": "stdout",
     "output_type": "stream",
     "text": [
      "['__builtins__', '__cached__', '__doc__', '__file__', '__loader__', '__name__', '__package__', '__spec__', 'greeting']\n",
      "Hello world 3!\n"
     ]
    }
   ],
   "source": [
    "from importlib import reload\n",
    "from app.mymodule import *\n",
    "reload(app.mymodule)\n",
    "\n",
    "print(dir(app.mymodule))\n",
    "\n",
    "greeting()"
   ]
  },
  {
   "cell_type": "code",
   "execution_count": null,
   "metadata": {},
   "outputs": [],
   "source": []
  },
  {
   "cell_type": "code",
   "execution_count": null,
   "metadata": {},
   "outputs": [],
   "source": []
  }
 ],
 "metadata": {
  "kernelspec": {
   "display_name": "Python 3.8.12 ('tf38')",
   "language": "python",
   "name": "python3"
  },
  "language_info": {
   "codemirror_mode": {
    "name": "ipython",
    "version": 3
   },
   "file_extension": ".py",
   "mimetype": "text/x-python",
   "name": "python",
   "nbconvert_exporter": "python",
   "pygments_lexer": "ipython3",
   "version": "3.8.12"
  },
  "orig_nbformat": 4,
  "vscode": {
   "interpreter": {
    "hash": "4970e4b695934d4c8057fb9814a5fc9d1acefab431f21ea67995a21a78a4c555"
   }
  }
 },
 "nbformat": 4,
 "nbformat_minor": 2
}
