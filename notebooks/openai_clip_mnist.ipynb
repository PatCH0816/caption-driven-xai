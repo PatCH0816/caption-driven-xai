{
 "cells": [
  {
   "cell_type": "code",
   "execution_count": 3,
   "metadata": {},
   "outputs": [
    {
     "name": "stdout",
     "output_type": "stream",
     "text": [
      "Hostname: sx-el-121920\n"
     ]
    }
   ],
   "source": [
    "import socket\n",
    "\n",
    "print(\"Hostname: \" + socket.gethostname())"
   ]
  },
  {
   "cell_type": "markdown",
   "metadata": {},
   "source": [
    "# CLIP"
   ]
  },
  {
   "cell_type": "code",
   "execution_count": 4,
   "metadata": {},
   "outputs": [
    {
     "name": "stdout",
     "output_type": "stream",
     "text": [
      "The autoreload extension is already loaded. To reload it, use:\n",
      "  %reload_ext autoreload\n",
      "Torch version: 1.13.0a0+d0d6b1f\n"
     ]
    }
   ],
   "source": [
    "import numpy as np\n",
    "import torch\n",
    "#from pkg_resources import packaging\n",
    "\n",
    "%load_ext autoreload\n",
    "%autoreload 2\n",
    "\n",
    "print(\"Torch version:\", torch.__version__)"
   ]
  },
  {
   "cell_type": "markdown",
   "metadata": {},
   "source": [
    "## Load datasets"
   ]
  },
  {
   "cell_type": "code",
   "execution_count": 5,
   "metadata": {},
   "outputs": [
    {
     "name": "stdout",
     "output_type": "stream",
     "text": [
      "Preparing Colored MNIST\n"
     ]
    },
    {
     "ename": "TypeError",
     "evalue": "argument of type 'type' is not iterable",
     "output_type": "error",
     "traceback": [
      "\u001b[0;31m---------------------------------------------------------------------------\u001b[0m",
      "\u001b[0;31mTypeError\u001b[0m                                 Traceback (most recent call last)",
      "Cell \u001b[0;32mIn [5], line 8\u001b[0m\n\u001b[1;32m      5\u001b[0m size_of_batch \u001b[39m=\u001b[39m \u001b[39m128\u001b[39m\n\u001b[1;32m      7\u001b[0m \u001b[39m# dataset preparation\u001b[39;00m\n\u001b[0;32m----> 8\u001b[0m train_set_gray \u001b[39m=\u001b[39m DatasetMNIST(root\u001b[39m=\u001b[39;49m\u001b[39m'\u001b[39;49m\u001b[39m./data\u001b[39;49m\u001b[39m'\u001b[39;49m,\n\u001b[1;32m      9\u001b[0m                        env\u001b[39m=\u001b[39;49m\u001b[39m'\u001b[39;49m\u001b[39mtrain\u001b[39;49m\u001b[39m'\u001b[39;49m,\n\u001b[1;32m     10\u001b[0m                        color\u001b[39m=\u001b[39;49m\u001b[39mFalse\u001b[39;49;00m,\n\u001b[1;32m     11\u001b[0m                        transform\u001b[39m=\u001b[39;49m transforms\u001b[39m.\u001b[39;49mCompose([transforms\u001b[39m.\u001b[39;49mToTensor()]))\n\u001b[1;32m     13\u001b[0m val_set_gray \u001b[39m=\u001b[39m DatasetMNIST(root\u001b[39m=\u001b[39m\u001b[39m'\u001b[39m\u001b[39m./data\u001b[39m\u001b[39m'\u001b[39m,\n\u001b[1;32m     14\u001b[0m                        env\u001b[39m=\u001b[39m\u001b[39m'\u001b[39m\u001b[39mval\u001b[39m\u001b[39m'\u001b[39m,\n\u001b[1;32m     15\u001b[0m                        color\u001b[39m=\u001b[39m\u001b[39mFalse\u001b[39;00m,\n\u001b[1;32m     16\u001b[0m                        transform\u001b[39m=\u001b[39m transforms\u001b[39m.\u001b[39mCompose([transforms\u001b[39m.\u001b[39mToTensor()]))\n\u001b[1;32m     18\u001b[0m test_set_gray \u001b[39m=\u001b[39m DatasetMNIST(root\u001b[39m=\u001b[39m\u001b[39m'\u001b[39m\u001b[39m./data\u001b[39m\u001b[39m'\u001b[39m,\n\u001b[1;32m     19\u001b[0m                        env\u001b[39m=\u001b[39m\u001b[39m'\u001b[39m\u001b[39mtest\u001b[39m\u001b[39m'\u001b[39m,\n\u001b[1;32m     20\u001b[0m                        color\u001b[39m=\u001b[39m\u001b[39mFalse\u001b[39;00m,\n\u001b[1;32m     21\u001b[0m                        transform\u001b[39m=\u001b[39m transforms\u001b[39m.\u001b[39mCompose([transforms\u001b[39m.\u001b[39mToTensor()]))\n",
      "File \u001b[0;32m~/masterthesis/utils/mnist_preprocessing.py:65\u001b[0m, in \u001b[0;36mDatasetMNIST.__init__\u001b[0;34m(self, root, env, transform, target_transform, color, filter, color_split)\u001b[0m\n\u001b[1;32m     62\u001b[0m \u001b[39melse\u001b[39;00m:\n\u001b[1;32m     63\u001b[0m   \u001b[39mself\u001b[39m\u001b[39m.\u001b[39mprefix \u001b[39m=\u001b[39m \u001b[39m'\u001b[39m\u001b[39mgrey_\u001b[39m\u001b[39m'\u001b[39m\n\u001b[0;32m---> 65\u001b[0m \u001b[39mself\u001b[39;49m\u001b[39m.\u001b[39;49mprepare_colored_mnist()\n\u001b[1;32m     66\u001b[0m \u001b[39mif\u001b[39;00m env \u001b[39min\u001b[39;00m [\u001b[39m'\u001b[39m\u001b[39mtrain\u001b[39m\u001b[39m'\u001b[39m, \u001b[39m'\u001b[39m\u001b[39mval\u001b[39m\u001b[39m'\u001b[39m, \u001b[39m'\u001b[39m\u001b[39mtest\u001b[39m\u001b[39m'\u001b[39m]:\n\u001b[1;32m     67\u001b[0m   \u001b[39mself\u001b[39m\u001b[39m.\u001b[39mdata_label_tuples \u001b[39m=\u001b[39m torch\u001b[39m.\u001b[39mload(os\u001b[39m.\u001b[39mpath\u001b[39m.\u001b[39mjoin(\u001b[39mself\u001b[39m\u001b[39m.\u001b[39mroot, \u001b[39m'\u001b[39m\u001b[39mmnist\u001b[39m\u001b[39m'\u001b[39m, \u001b[39mf\u001b[39m\u001b[39m\"\u001b[39m\u001b[39m{\u001b[39;00m\u001b[39mself\u001b[39m\u001b[39m.\u001b[39mprefix\u001b[39m}\u001b[39;00m\u001b[39m{\u001b[39;00menv\u001b[39m}\u001b[39;00m\u001b[39m.pt\u001b[39m\u001b[39m\"\u001b[39m))\n",
      "File \u001b[0;32m~/masterthesis/utils/mnist_preprocessing.py:165\u001b[0m, in \u001b[0;36mDatasetMNIST.prepare_colored_mnist\u001b[0;34m(self)\u001b[0m\n\u001b[1;32m    162\u001b[0m   \u001b[39mprint\u001b[39m(\u001b[39m'\u001b[39m\u001b[39mMNIST dataset already exists\u001b[39m\u001b[39m'\u001b[39m)\n\u001b[1;32m    163\u001b[0m   \u001b[39mreturn\u001b[39;00m\n\u001b[0;32m--> 165\u001b[0m train_set, val_set, test_set \u001b[39m=\u001b[39m mnist_grayscale_to_color()\n\u001b[1;32m    167\u001b[0m os\u001b[39m.\u001b[39mmakedirs(colored_mnist_dir, exist_ok\u001b[39m=\u001b[39m\u001b[39mTrue\u001b[39;00m)\n\u001b[1;32m    168\u001b[0m torch\u001b[39m.\u001b[39msave(train_set, os\u001b[39m.\u001b[39mpath\u001b[39m.\u001b[39mjoin(colored_mnist_dir, \u001b[39mf\u001b[39m\u001b[39m\"\u001b[39m\u001b[39m{\u001b[39;00m\u001b[39mself\u001b[39m\u001b[39m.\u001b[39mprefix\u001b[39m}\u001b[39;00m\u001b[39mtrain.pt\u001b[39m\u001b[39m\"\u001b[39m))\n",
      "File \u001b[0;32m~/masterthesis/utils/mnist_preprocessing.py:113\u001b[0m, in \u001b[0;36mDatasetMNIST.prepare_colored_mnist.<locals>.mnist_grayscale_to_color\u001b[0;34m()\u001b[0m\n\u001b[1;32m    110\u001b[0m datasource \u001b[39m=\u001b[39m train_mnist \u001b[39mif\u001b[39;00m (dataset \u001b[39m==\u001b[39m \u001b[39m'\u001b[39m\u001b[39mtrain_ds\u001b[39m\u001b[39m'\u001b[39m) \u001b[39melse\u001b[39;00m test_mnist\n\u001b[1;32m    112\u001b[0m \u001b[39mfor\u001b[39;00m idx, (im, ground_truth) \u001b[39min\u001b[39;00m \u001b[39menumerate\u001b[39m(datasource):\n\u001b[0;32m--> 113\u001b[0m   \u001b[39mif\u001b[39;00m ground_truth \u001b[39min\u001b[39;49;00m \u001b[39mfilter\u001b[39;49m:\n\u001b[1;32m    114\u001b[0m     \u001b[39m# determine train, validation, test phase/split\u001b[39;00m\n\u001b[1;32m    115\u001b[0m     \u001b[39mif\u001b[39;00m dataset \u001b[39m==\u001b[39m \u001b[39m'\u001b[39m\u001b[39mtrain_ds\u001b[39m\u001b[39m'\u001b[39m:\n\u001b[1;32m    116\u001b[0m       \u001b[39mif\u001b[39;00m idx \u001b[39m<\u001b[39m \u001b[39m50000\u001b[39m:\n",
      "\u001b[0;31mTypeError\u001b[0m: argument of type 'type' is not iterable"
     ]
    }
   ],
   "source": [
    "from utils.mnist_preprocessing import *\n",
    "from torchvision import transforms\n",
    "\n",
    "# parameters\n",
    "size_of_batch = 128\n",
    "\n",
    "# dataset preparation\n",
    "train_set_gray = DatasetMNIST(root='./data',\n",
    "                       env='train',\n",
    "                       color=False,\n",
    "                       transform= transforms.Compose([transforms.ToTensor()]))\n",
    "\n",
    "val_set_gray = DatasetMNIST(root='./data',\n",
    "                       env='val',\n",
    "                       color=False,\n",
    "                       transform= transforms.Compose([transforms.ToTensor()]))\n",
    "\n",
    "test_set_gray = DatasetMNIST(root='./data',\n",
    "                       env='test',\n",
    "                       color=False,\n",
    "                       transform= transforms.Compose([transforms.ToTensor()]))\n",
    "\n",
    "train_set_color = DatasetMNIST(root='./data',\n",
    "                       env='train',\n",
    "                       color=True,\n",
    "                       transform= transforms.Compose([transforms.ToTensor()]))\n",
    "\n",
    "val_set_color = DatasetMNIST(root='./data',\n",
    "                       env='val',\n",
    "                       color=True,\n",
    "                       transform= transforms.Compose([transforms.ToTensor()]))\n",
    "\n",
    "test_set_color = DatasetMNIST(root='./data',\n",
    "                       env='test',\n",
    "                       color=True,\n",
    "                       transform= transforms.Compose([transforms.ToTensor()]))\n",
    "\n",
    "# dataloaders\n",
    "train_loader_gray = torch.utils.data.DataLoader(dataset=train_set_gray,\n",
    "                                           batch_size=size_of_batch,\n",
    "                                           shuffle=True,\n",
    "                                           num_workers=10)\n",
    "\n",
    "val_loader_gray = torch.utils.data.DataLoader(dataset=val_set_gray,\n",
    "                                           batch_size=size_of_batch,\n",
    "                                           shuffle=True,\n",
    "                                           num_workers=10)\n",
    "\n",
    "test_loader_gray = torch.utils.data.DataLoader(dataset=test_set_gray,\n",
    "                                           batch_size=size_of_batch,\n",
    "                                           shuffle=True,\n",
    "                                           num_workers=10)\n",
    "\n",
    "train_loader_color = torch.utils.data.DataLoader(dataset=train_set_color,\n",
    "                                           batch_size=size_of_batch,\n",
    "                                           shuffle=True,\n",
    "                                           num_workers=10)\n",
    "\n",
    "val_loader_color = torch.utils.data.DataLoader(dataset=val_set_color,\n",
    "                                           batch_size=size_of_batch,\n",
    "                                           shuffle=True,\n",
    "                                           num_workers=10)\n",
    "\n",
    "test_loader_color = torch.utils.data.DataLoader(dataset=test_set_color,\n",
    "                                           batch_size=size_of_batch,\n",
    "                                           shuffle=True,\n",
    "                                           num_workers=10)\n"
   ]
  },
  {
   "cell_type": "code",
   "execution_count": 48,
   "metadata": {},
   "outputs": [
    {
     "name": "stdout",
     "output_type": "stream",
     "text": [
      "MNIST dataset already exists\n",
      "MNIST dataset already exists\n",
      "MNIST dataset already exists\n"
     ]
    }
   ],
   "source": [
    "from utils.mnist_preprocessing import *\n",
    "from torchvision import transforms\n",
    "\n",
    "# parameters\n",
    "size_of_batch = 128\n",
    "\n",
    "# dataset preparation\n",
    "train_set_color = DatasetMNIST(root='./data',\n",
    "                       env='train',\n",
    "                       color=True,\n",
    "                       transform= transforms.Compose([transforms.ToTensor()]))\n",
    "\n",
    "val_set_color = DatasetMNIST(root='./data',\n",
    "                       env='val',\n",
    "                       color=True,\n",
    "                       transform= transforms.Compose([transforms.ToTensor()]))\n",
    "\n",
    "test_set_color = DatasetMNIST(root='./data',\n",
    "                       env='test',\n",
    "                       color=True,\n",
    "                       transform= transforms.Compose([transforms.ToTensor()]))\n",
    "\n",
    "# dataloaders\n",
    "train_loader_color = torch.utils.data.DataLoader(dataset=train_set_color,\n",
    "                                           batch_size=size_of_batch,\n",
    "                                           shuffle=True,\n",
    "                                           num_workers=10)\n",
    "\n",
    "val_loader_color = torch.utils.data.DataLoader(dataset=val_set_color,\n",
    "                                           batch_size=size_of_batch,\n",
    "                                           shuffle=True,\n",
    "                                           num_workers=10)\n",
    "\n",
    "test_loader_color = torch.utils.data.DataLoader(dataset=test_set_color,\n",
    "                                           batch_size=size_of_batch,\n",
    "                                           shuffle=True,\n",
    "                                           num_workers=10)\n"
   ]
  },
  {
   "cell_type": "code",
   "execution_count": 82,
   "metadata": {},
   "outputs": [
    {
     "name": "stdout",
     "output_type": "stream",
     "text": [
      "Number of training samples: 9348\n",
      "Number of validation samples: 1924\n",
      "Number of testing samples: 1866\n"
     ]
    }
   ],
   "source": [
    "print(f\"Number of training samples: {len(train_loader_color.dataset.data_label_tuples)}\")\n",
    "print(f\"Number of validation samples: {len(val_loader_color.dataset.data_label_tuples)}\")\n",
    "print(f\"Number of testing samples: {len(test_loader_color.dataset.data_label_tuples)}\")"
   ]
  },
  {
   "cell_type": "markdown",
   "metadata": {},
   "source": [
    "## Choosing a model"
   ]
  },
  {
   "cell_type": "code",
   "execution_count": 4,
   "metadata": {},
   "outputs": [
    {
     "data": {
      "text/plain": [
       "['RN50',\n",
       " 'RN101',\n",
       " 'RN50x4',\n",
       " 'RN50x16',\n",
       " 'RN50x64',\n",
       " 'ViT-B/32',\n",
       " 'ViT-B/16',\n",
       " 'ViT-L/14',\n",
       " 'ViT-L/14@336px']"
      ]
     },
     "execution_count": 4,
     "metadata": {},
     "output_type": "execute_result"
    }
   ],
   "source": [
    "import clip\n",
    "\n",
    "clip.available_models()"
   ]
  },
  {
   "cell_type": "code",
   "execution_count": 5,
   "metadata": {},
   "outputs": [
    {
     "name": "stdout",
     "output_type": "stream",
     "text": [
      "Model parameters: 102,007,137\n",
      "Input resolution: 224\n",
      "Context length: 77\n",
      "Vocab size: 49408\n"
     ]
    }
   ],
   "source": [
    "model, preprocess = clip.load(\"RN50\")\n",
    "model.cuda().eval()\n",
    "input_resolution = model.visual.input_resolution\n",
    "context_length = model.context_length\n",
    "vocab_size = model.vocab_size\n",
    "\n",
    "print(\"Model parameters:\", f\"{np.sum([int(np.prod(p.shape)) for p in model.parameters()]):,}\")\n",
    "print(\"Input resolution:\", input_resolution)\n",
    "print(\"Context length:\", context_length)\n",
    "print(\"Vocab size:\", vocab_size)"
   ]
  },
  {
   "cell_type": "code",
   "execution_count": 6,
   "metadata": {},
   "outputs": [
    {
     "data": {
      "text/plain": [
       "CLIP(\n",
       "  (visual): ModifiedResNet(\n",
       "    (conv1): Conv2d(3, 32, kernel_size=(3, 3), stride=(2, 2), padding=(1, 1), bias=False)\n",
       "    (bn1): BatchNorm2d(32, eps=1e-05, momentum=0.1, affine=True, track_running_stats=True)\n",
       "    (relu1): ReLU(inplace=True)\n",
       "    (conv2): Conv2d(32, 32, kernel_size=(3, 3), stride=(1, 1), padding=(1, 1), bias=False)\n",
       "    (bn2): BatchNorm2d(32, eps=1e-05, momentum=0.1, affine=True, track_running_stats=True)\n",
       "    (relu2): ReLU(inplace=True)\n",
       "    (conv3): Conv2d(32, 64, kernel_size=(3, 3), stride=(1, 1), padding=(1, 1), bias=False)\n",
       "    (bn3): BatchNorm2d(64, eps=1e-05, momentum=0.1, affine=True, track_running_stats=True)\n",
       "    (relu3): ReLU(inplace=True)\n",
       "    (avgpool): AvgPool2d(kernel_size=2, stride=2, padding=0)\n",
       "    (layer1): Sequential(\n",
       "      (0): Bottleneck(\n",
       "        (conv1): Conv2d(64, 64, kernel_size=(1, 1), stride=(1, 1), bias=False)\n",
       "        (bn1): BatchNorm2d(64, eps=1e-05, momentum=0.1, affine=True, track_running_stats=True)\n",
       "        (relu1): ReLU(inplace=True)\n",
       "        (conv2): Conv2d(64, 64, kernel_size=(3, 3), stride=(1, 1), padding=(1, 1), bias=False)\n",
       "        (bn2): BatchNorm2d(64, eps=1e-05, momentum=0.1, affine=True, track_running_stats=True)\n",
       "        (relu2): ReLU(inplace=True)\n",
       "        (avgpool): Identity()\n",
       "        (conv3): Conv2d(64, 256, kernel_size=(1, 1), stride=(1, 1), bias=False)\n",
       "        (bn3): BatchNorm2d(256, eps=1e-05, momentum=0.1, affine=True, track_running_stats=True)\n",
       "        (relu3): ReLU(inplace=True)\n",
       "        (downsample): Sequential(\n",
       "          (-1): AvgPool2d(kernel_size=1, stride=1, padding=0)\n",
       "          (0): Conv2d(64, 256, kernel_size=(1, 1), stride=(1, 1), bias=False)\n",
       "          (1): BatchNorm2d(256, eps=1e-05, momentum=0.1, affine=True, track_running_stats=True)\n",
       "        )\n",
       "      )\n",
       "      (1): Bottleneck(\n",
       "        (conv1): Conv2d(256, 64, kernel_size=(1, 1), stride=(1, 1), bias=False)\n",
       "        (bn1): BatchNorm2d(64, eps=1e-05, momentum=0.1, affine=True, track_running_stats=True)\n",
       "        (relu1): ReLU(inplace=True)\n",
       "        (conv2): Conv2d(64, 64, kernel_size=(3, 3), stride=(1, 1), padding=(1, 1), bias=False)\n",
       "        (bn2): BatchNorm2d(64, eps=1e-05, momentum=0.1, affine=True, track_running_stats=True)\n",
       "        (relu2): ReLU(inplace=True)\n",
       "        (avgpool): Identity()\n",
       "        (conv3): Conv2d(64, 256, kernel_size=(1, 1), stride=(1, 1), bias=False)\n",
       "        (bn3): BatchNorm2d(256, eps=1e-05, momentum=0.1, affine=True, track_running_stats=True)\n",
       "        (relu3): ReLU(inplace=True)\n",
       "      )\n",
       "      (2): Bottleneck(\n",
       "        (conv1): Conv2d(256, 64, kernel_size=(1, 1), stride=(1, 1), bias=False)\n",
       "        (bn1): BatchNorm2d(64, eps=1e-05, momentum=0.1, affine=True, track_running_stats=True)\n",
       "        (relu1): ReLU(inplace=True)\n",
       "        (conv2): Conv2d(64, 64, kernel_size=(3, 3), stride=(1, 1), padding=(1, 1), bias=False)\n",
       "        (bn2): BatchNorm2d(64, eps=1e-05, momentum=0.1, affine=True, track_running_stats=True)\n",
       "        (relu2): ReLU(inplace=True)\n",
       "        (avgpool): Identity()\n",
       "        (conv3): Conv2d(64, 256, kernel_size=(1, 1), stride=(1, 1), bias=False)\n",
       "        (bn3): BatchNorm2d(256, eps=1e-05, momentum=0.1, affine=True, track_running_stats=True)\n",
       "        (relu3): ReLU(inplace=True)\n",
       "      )\n",
       "    )\n",
       "    (layer2): Sequential(\n",
       "      (0): Bottleneck(\n",
       "        (conv1): Conv2d(256, 128, kernel_size=(1, 1), stride=(1, 1), bias=False)\n",
       "        (bn1): BatchNorm2d(128, eps=1e-05, momentum=0.1, affine=True, track_running_stats=True)\n",
       "        (relu1): ReLU(inplace=True)\n",
       "        (conv2): Conv2d(128, 128, kernel_size=(3, 3), stride=(1, 1), padding=(1, 1), bias=False)\n",
       "        (bn2): BatchNorm2d(128, eps=1e-05, momentum=0.1, affine=True, track_running_stats=True)\n",
       "        (relu2): ReLU(inplace=True)\n",
       "        (avgpool): AvgPool2d(kernel_size=2, stride=2, padding=0)\n",
       "        (conv3): Conv2d(128, 512, kernel_size=(1, 1), stride=(1, 1), bias=False)\n",
       "        (bn3): BatchNorm2d(512, eps=1e-05, momentum=0.1, affine=True, track_running_stats=True)\n",
       "        (relu3): ReLU(inplace=True)\n",
       "        (downsample): Sequential(\n",
       "          (-1): AvgPool2d(kernel_size=2, stride=2, padding=0)\n",
       "          (0): Conv2d(256, 512, kernel_size=(1, 1), stride=(1, 1), bias=False)\n",
       "          (1): BatchNorm2d(512, eps=1e-05, momentum=0.1, affine=True, track_running_stats=True)\n",
       "        )\n",
       "      )\n",
       "      (1): Bottleneck(\n",
       "        (conv1): Conv2d(512, 128, kernel_size=(1, 1), stride=(1, 1), bias=False)\n",
       "        (bn1): BatchNorm2d(128, eps=1e-05, momentum=0.1, affine=True, track_running_stats=True)\n",
       "        (relu1): ReLU(inplace=True)\n",
       "        (conv2): Conv2d(128, 128, kernel_size=(3, 3), stride=(1, 1), padding=(1, 1), bias=False)\n",
       "        (bn2): BatchNorm2d(128, eps=1e-05, momentum=0.1, affine=True, track_running_stats=True)\n",
       "        (relu2): ReLU(inplace=True)\n",
       "        (avgpool): Identity()\n",
       "        (conv3): Conv2d(128, 512, kernel_size=(1, 1), stride=(1, 1), bias=False)\n",
       "        (bn3): BatchNorm2d(512, eps=1e-05, momentum=0.1, affine=True, track_running_stats=True)\n",
       "        (relu3): ReLU(inplace=True)\n",
       "      )\n",
       "      (2): Bottleneck(\n",
       "        (conv1): Conv2d(512, 128, kernel_size=(1, 1), stride=(1, 1), bias=False)\n",
       "        (bn1): BatchNorm2d(128, eps=1e-05, momentum=0.1, affine=True, track_running_stats=True)\n",
       "        (relu1): ReLU(inplace=True)\n",
       "        (conv2): Conv2d(128, 128, kernel_size=(3, 3), stride=(1, 1), padding=(1, 1), bias=False)\n",
       "        (bn2): BatchNorm2d(128, eps=1e-05, momentum=0.1, affine=True, track_running_stats=True)\n",
       "        (relu2): ReLU(inplace=True)\n",
       "        (avgpool): Identity()\n",
       "        (conv3): Conv2d(128, 512, kernel_size=(1, 1), stride=(1, 1), bias=False)\n",
       "        (bn3): BatchNorm2d(512, eps=1e-05, momentum=0.1, affine=True, track_running_stats=True)\n",
       "        (relu3): ReLU(inplace=True)\n",
       "      )\n",
       "      (3): Bottleneck(\n",
       "        (conv1): Conv2d(512, 128, kernel_size=(1, 1), stride=(1, 1), bias=False)\n",
       "        (bn1): BatchNorm2d(128, eps=1e-05, momentum=0.1, affine=True, track_running_stats=True)\n",
       "        (relu1): ReLU(inplace=True)\n",
       "        (conv2): Conv2d(128, 128, kernel_size=(3, 3), stride=(1, 1), padding=(1, 1), bias=False)\n",
       "        (bn2): BatchNorm2d(128, eps=1e-05, momentum=0.1, affine=True, track_running_stats=True)\n",
       "        (relu2): ReLU(inplace=True)\n",
       "        (avgpool): Identity()\n",
       "        (conv3): Conv2d(128, 512, kernel_size=(1, 1), stride=(1, 1), bias=False)\n",
       "        (bn3): BatchNorm2d(512, eps=1e-05, momentum=0.1, affine=True, track_running_stats=True)\n",
       "        (relu3): ReLU(inplace=True)\n",
       "      )\n",
       "    )\n",
       "    (layer3): Sequential(\n",
       "      (0): Bottleneck(\n",
       "        (conv1): Conv2d(512, 256, kernel_size=(1, 1), stride=(1, 1), bias=False)\n",
       "        (bn1): BatchNorm2d(256, eps=1e-05, momentum=0.1, affine=True, track_running_stats=True)\n",
       "        (relu1): ReLU(inplace=True)\n",
       "        (conv2): Conv2d(256, 256, kernel_size=(3, 3), stride=(1, 1), padding=(1, 1), bias=False)\n",
       "        (bn2): BatchNorm2d(256, eps=1e-05, momentum=0.1, affine=True, track_running_stats=True)\n",
       "        (relu2): ReLU(inplace=True)\n",
       "        (avgpool): AvgPool2d(kernel_size=2, stride=2, padding=0)\n",
       "        (conv3): Conv2d(256, 1024, kernel_size=(1, 1), stride=(1, 1), bias=False)\n",
       "        (bn3): BatchNorm2d(1024, eps=1e-05, momentum=0.1, affine=True, track_running_stats=True)\n",
       "        (relu3): ReLU(inplace=True)\n",
       "        (downsample): Sequential(\n",
       "          (-1): AvgPool2d(kernel_size=2, stride=2, padding=0)\n",
       "          (0): Conv2d(512, 1024, kernel_size=(1, 1), stride=(1, 1), bias=False)\n",
       "          (1): BatchNorm2d(1024, eps=1e-05, momentum=0.1, affine=True, track_running_stats=True)\n",
       "        )\n",
       "      )\n",
       "      (1): Bottleneck(\n",
       "        (conv1): Conv2d(1024, 256, kernel_size=(1, 1), stride=(1, 1), bias=False)\n",
       "        (bn1): BatchNorm2d(256, eps=1e-05, momentum=0.1, affine=True, track_running_stats=True)\n",
       "        (relu1): ReLU(inplace=True)\n",
       "        (conv2): Conv2d(256, 256, kernel_size=(3, 3), stride=(1, 1), padding=(1, 1), bias=False)\n",
       "        (bn2): BatchNorm2d(256, eps=1e-05, momentum=0.1, affine=True, track_running_stats=True)\n",
       "        (relu2): ReLU(inplace=True)\n",
       "        (avgpool): Identity()\n",
       "        (conv3): Conv2d(256, 1024, kernel_size=(1, 1), stride=(1, 1), bias=False)\n",
       "        (bn3): BatchNorm2d(1024, eps=1e-05, momentum=0.1, affine=True, track_running_stats=True)\n",
       "        (relu3): ReLU(inplace=True)\n",
       "      )\n",
       "      (2): Bottleneck(\n",
       "        (conv1): Conv2d(1024, 256, kernel_size=(1, 1), stride=(1, 1), bias=False)\n",
       "        (bn1): BatchNorm2d(256, eps=1e-05, momentum=0.1, affine=True, track_running_stats=True)\n",
       "        (relu1): ReLU(inplace=True)\n",
       "        (conv2): Conv2d(256, 256, kernel_size=(3, 3), stride=(1, 1), padding=(1, 1), bias=False)\n",
       "        (bn2): BatchNorm2d(256, eps=1e-05, momentum=0.1, affine=True, track_running_stats=True)\n",
       "        (relu2): ReLU(inplace=True)\n",
       "        (avgpool): Identity()\n",
       "        (conv3): Conv2d(256, 1024, kernel_size=(1, 1), stride=(1, 1), bias=False)\n",
       "        (bn3): BatchNorm2d(1024, eps=1e-05, momentum=0.1, affine=True, track_running_stats=True)\n",
       "        (relu3): ReLU(inplace=True)\n",
       "      )\n",
       "      (3): Bottleneck(\n",
       "        (conv1): Conv2d(1024, 256, kernel_size=(1, 1), stride=(1, 1), bias=False)\n",
       "        (bn1): BatchNorm2d(256, eps=1e-05, momentum=0.1, affine=True, track_running_stats=True)\n",
       "        (relu1): ReLU(inplace=True)\n",
       "        (conv2): Conv2d(256, 256, kernel_size=(3, 3), stride=(1, 1), padding=(1, 1), bias=False)\n",
       "        (bn2): BatchNorm2d(256, eps=1e-05, momentum=0.1, affine=True, track_running_stats=True)\n",
       "        (relu2): ReLU(inplace=True)\n",
       "        (avgpool): Identity()\n",
       "        (conv3): Conv2d(256, 1024, kernel_size=(1, 1), stride=(1, 1), bias=False)\n",
       "        (bn3): BatchNorm2d(1024, eps=1e-05, momentum=0.1, affine=True, track_running_stats=True)\n",
       "        (relu3): ReLU(inplace=True)\n",
       "      )\n",
       "      (4): Bottleneck(\n",
       "        (conv1): Conv2d(1024, 256, kernel_size=(1, 1), stride=(1, 1), bias=False)\n",
       "        (bn1): BatchNorm2d(256, eps=1e-05, momentum=0.1, affine=True, track_running_stats=True)\n",
       "        (relu1): ReLU(inplace=True)\n",
       "        (conv2): Conv2d(256, 256, kernel_size=(3, 3), stride=(1, 1), padding=(1, 1), bias=False)\n",
       "        (bn2): BatchNorm2d(256, eps=1e-05, momentum=0.1, affine=True, track_running_stats=True)\n",
       "        (relu2): ReLU(inplace=True)\n",
       "        (avgpool): Identity()\n",
       "        (conv3): Conv2d(256, 1024, kernel_size=(1, 1), stride=(1, 1), bias=False)\n",
       "        (bn3): BatchNorm2d(1024, eps=1e-05, momentum=0.1, affine=True, track_running_stats=True)\n",
       "        (relu3): ReLU(inplace=True)\n",
       "      )\n",
       "      (5): Bottleneck(\n",
       "        (conv1): Conv2d(1024, 256, kernel_size=(1, 1), stride=(1, 1), bias=False)\n",
       "        (bn1): BatchNorm2d(256, eps=1e-05, momentum=0.1, affine=True, track_running_stats=True)\n",
       "        (relu1): ReLU(inplace=True)\n",
       "        (conv2): Conv2d(256, 256, kernel_size=(3, 3), stride=(1, 1), padding=(1, 1), bias=False)\n",
       "        (bn2): BatchNorm2d(256, eps=1e-05, momentum=0.1, affine=True, track_running_stats=True)\n",
       "        (relu2): ReLU(inplace=True)\n",
       "        (avgpool): Identity()\n",
       "        (conv3): Conv2d(256, 1024, kernel_size=(1, 1), stride=(1, 1), bias=False)\n",
       "        (bn3): BatchNorm2d(1024, eps=1e-05, momentum=0.1, affine=True, track_running_stats=True)\n",
       "        (relu3): ReLU(inplace=True)\n",
       "      )\n",
       "    )\n",
       "    (layer4): Sequential(\n",
       "      (0): Bottleneck(\n",
       "        (conv1): Conv2d(1024, 512, kernel_size=(1, 1), stride=(1, 1), bias=False)\n",
       "        (bn1): BatchNorm2d(512, eps=1e-05, momentum=0.1, affine=True, track_running_stats=True)\n",
       "        (relu1): ReLU(inplace=True)\n",
       "        (conv2): Conv2d(512, 512, kernel_size=(3, 3), stride=(1, 1), padding=(1, 1), bias=False)\n",
       "        (bn2): BatchNorm2d(512, eps=1e-05, momentum=0.1, affine=True, track_running_stats=True)\n",
       "        (relu2): ReLU(inplace=True)\n",
       "        (avgpool): AvgPool2d(kernel_size=2, stride=2, padding=0)\n",
       "        (conv3): Conv2d(512, 2048, kernel_size=(1, 1), stride=(1, 1), bias=False)\n",
       "        (bn3): BatchNorm2d(2048, eps=1e-05, momentum=0.1, affine=True, track_running_stats=True)\n",
       "        (relu3): ReLU(inplace=True)\n",
       "        (downsample): Sequential(\n",
       "          (-1): AvgPool2d(kernel_size=2, stride=2, padding=0)\n",
       "          (0): Conv2d(1024, 2048, kernel_size=(1, 1), stride=(1, 1), bias=False)\n",
       "          (1): BatchNorm2d(2048, eps=1e-05, momentum=0.1, affine=True, track_running_stats=True)\n",
       "        )\n",
       "      )\n",
       "      (1): Bottleneck(\n",
       "        (conv1): Conv2d(2048, 512, kernel_size=(1, 1), stride=(1, 1), bias=False)\n",
       "        (bn1): BatchNorm2d(512, eps=1e-05, momentum=0.1, affine=True, track_running_stats=True)\n",
       "        (relu1): ReLU(inplace=True)\n",
       "        (conv2): Conv2d(512, 512, kernel_size=(3, 3), stride=(1, 1), padding=(1, 1), bias=False)\n",
       "        (bn2): BatchNorm2d(512, eps=1e-05, momentum=0.1, affine=True, track_running_stats=True)\n",
       "        (relu2): ReLU(inplace=True)\n",
       "        (avgpool): Identity()\n",
       "        (conv3): Conv2d(512, 2048, kernel_size=(1, 1), stride=(1, 1), bias=False)\n",
       "        (bn3): BatchNorm2d(2048, eps=1e-05, momentum=0.1, affine=True, track_running_stats=True)\n",
       "        (relu3): ReLU(inplace=True)\n",
       "      )\n",
       "      (2): Bottleneck(\n",
       "        (conv1): Conv2d(2048, 512, kernel_size=(1, 1), stride=(1, 1), bias=False)\n",
       "        (bn1): BatchNorm2d(512, eps=1e-05, momentum=0.1, affine=True, track_running_stats=True)\n",
       "        (relu1): ReLU(inplace=True)\n",
       "        (conv2): Conv2d(512, 512, kernel_size=(3, 3), stride=(1, 1), padding=(1, 1), bias=False)\n",
       "        (bn2): BatchNorm2d(512, eps=1e-05, momentum=0.1, affine=True, track_running_stats=True)\n",
       "        (relu2): ReLU(inplace=True)\n",
       "        (avgpool): Identity()\n",
       "        (conv3): Conv2d(512, 2048, kernel_size=(1, 1), stride=(1, 1), bias=False)\n",
       "        (bn3): BatchNorm2d(2048, eps=1e-05, momentum=0.1, affine=True, track_running_stats=True)\n",
       "        (relu3): ReLU(inplace=True)\n",
       "      )\n",
       "    )\n",
       "    (attnpool): AttentionPool2d(\n",
       "      (k_proj): Linear(in_features=2048, out_features=2048, bias=True)\n",
       "      (q_proj): Linear(in_features=2048, out_features=2048, bias=True)\n",
       "      (v_proj): Linear(in_features=2048, out_features=2048, bias=True)\n",
       "      (c_proj): Linear(in_features=2048, out_features=1024, bias=True)\n",
       "    )\n",
       "  )\n",
       "  (transformer): Transformer(\n",
       "    (resblocks): Sequential(\n",
       "      (0): ResidualAttentionBlock(\n",
       "        (attn): MultiheadAttention(\n",
       "          (out_proj): NonDynamicallyQuantizableLinear(in_features=512, out_features=512, bias=True)\n",
       "        )\n",
       "        (ln_1): LayerNorm((512,), eps=1e-05, elementwise_affine=True)\n",
       "        (mlp): Sequential(\n",
       "          (c_fc): Linear(in_features=512, out_features=2048, bias=True)\n",
       "          (gelu): QuickGELU()\n",
       "          (c_proj): Linear(in_features=2048, out_features=512, bias=True)\n",
       "        )\n",
       "        (ln_2): LayerNorm((512,), eps=1e-05, elementwise_affine=True)\n",
       "      )\n",
       "      (1): ResidualAttentionBlock(\n",
       "        (attn): MultiheadAttention(\n",
       "          (out_proj): NonDynamicallyQuantizableLinear(in_features=512, out_features=512, bias=True)\n",
       "        )\n",
       "        (ln_1): LayerNorm((512,), eps=1e-05, elementwise_affine=True)\n",
       "        (mlp): Sequential(\n",
       "          (c_fc): Linear(in_features=512, out_features=2048, bias=True)\n",
       "          (gelu): QuickGELU()\n",
       "          (c_proj): Linear(in_features=2048, out_features=512, bias=True)\n",
       "        )\n",
       "        (ln_2): LayerNorm((512,), eps=1e-05, elementwise_affine=True)\n",
       "      )\n",
       "      (2): ResidualAttentionBlock(\n",
       "        (attn): MultiheadAttention(\n",
       "          (out_proj): NonDynamicallyQuantizableLinear(in_features=512, out_features=512, bias=True)\n",
       "        )\n",
       "        (ln_1): LayerNorm((512,), eps=1e-05, elementwise_affine=True)\n",
       "        (mlp): Sequential(\n",
       "          (c_fc): Linear(in_features=512, out_features=2048, bias=True)\n",
       "          (gelu): QuickGELU()\n",
       "          (c_proj): Linear(in_features=2048, out_features=512, bias=True)\n",
       "        )\n",
       "        (ln_2): LayerNorm((512,), eps=1e-05, elementwise_affine=True)\n",
       "      )\n",
       "      (3): ResidualAttentionBlock(\n",
       "        (attn): MultiheadAttention(\n",
       "          (out_proj): NonDynamicallyQuantizableLinear(in_features=512, out_features=512, bias=True)\n",
       "        )\n",
       "        (ln_1): LayerNorm((512,), eps=1e-05, elementwise_affine=True)\n",
       "        (mlp): Sequential(\n",
       "          (c_fc): Linear(in_features=512, out_features=2048, bias=True)\n",
       "          (gelu): QuickGELU()\n",
       "          (c_proj): Linear(in_features=2048, out_features=512, bias=True)\n",
       "        )\n",
       "        (ln_2): LayerNorm((512,), eps=1e-05, elementwise_affine=True)\n",
       "      )\n",
       "      (4): ResidualAttentionBlock(\n",
       "        (attn): MultiheadAttention(\n",
       "          (out_proj): NonDynamicallyQuantizableLinear(in_features=512, out_features=512, bias=True)\n",
       "        )\n",
       "        (ln_1): LayerNorm((512,), eps=1e-05, elementwise_affine=True)\n",
       "        (mlp): Sequential(\n",
       "          (c_fc): Linear(in_features=512, out_features=2048, bias=True)\n",
       "          (gelu): QuickGELU()\n",
       "          (c_proj): Linear(in_features=2048, out_features=512, bias=True)\n",
       "        )\n",
       "        (ln_2): LayerNorm((512,), eps=1e-05, elementwise_affine=True)\n",
       "      )\n",
       "      (5): ResidualAttentionBlock(\n",
       "        (attn): MultiheadAttention(\n",
       "          (out_proj): NonDynamicallyQuantizableLinear(in_features=512, out_features=512, bias=True)\n",
       "        )\n",
       "        (ln_1): LayerNorm((512,), eps=1e-05, elementwise_affine=True)\n",
       "        (mlp): Sequential(\n",
       "          (c_fc): Linear(in_features=512, out_features=2048, bias=True)\n",
       "          (gelu): QuickGELU()\n",
       "          (c_proj): Linear(in_features=2048, out_features=512, bias=True)\n",
       "        )\n",
       "        (ln_2): LayerNorm((512,), eps=1e-05, elementwise_affine=True)\n",
       "      )\n",
       "      (6): ResidualAttentionBlock(\n",
       "        (attn): MultiheadAttention(\n",
       "          (out_proj): NonDynamicallyQuantizableLinear(in_features=512, out_features=512, bias=True)\n",
       "        )\n",
       "        (ln_1): LayerNorm((512,), eps=1e-05, elementwise_affine=True)\n",
       "        (mlp): Sequential(\n",
       "          (c_fc): Linear(in_features=512, out_features=2048, bias=True)\n",
       "          (gelu): QuickGELU()\n",
       "          (c_proj): Linear(in_features=2048, out_features=512, bias=True)\n",
       "        )\n",
       "        (ln_2): LayerNorm((512,), eps=1e-05, elementwise_affine=True)\n",
       "      )\n",
       "      (7): ResidualAttentionBlock(\n",
       "        (attn): MultiheadAttention(\n",
       "          (out_proj): NonDynamicallyQuantizableLinear(in_features=512, out_features=512, bias=True)\n",
       "        )\n",
       "        (ln_1): LayerNorm((512,), eps=1e-05, elementwise_affine=True)\n",
       "        (mlp): Sequential(\n",
       "          (c_fc): Linear(in_features=512, out_features=2048, bias=True)\n",
       "          (gelu): QuickGELU()\n",
       "          (c_proj): Linear(in_features=2048, out_features=512, bias=True)\n",
       "        )\n",
       "        (ln_2): LayerNorm((512,), eps=1e-05, elementwise_affine=True)\n",
       "      )\n",
       "      (8): ResidualAttentionBlock(\n",
       "        (attn): MultiheadAttention(\n",
       "          (out_proj): NonDynamicallyQuantizableLinear(in_features=512, out_features=512, bias=True)\n",
       "        )\n",
       "        (ln_1): LayerNorm((512,), eps=1e-05, elementwise_affine=True)\n",
       "        (mlp): Sequential(\n",
       "          (c_fc): Linear(in_features=512, out_features=2048, bias=True)\n",
       "          (gelu): QuickGELU()\n",
       "          (c_proj): Linear(in_features=2048, out_features=512, bias=True)\n",
       "        )\n",
       "        (ln_2): LayerNorm((512,), eps=1e-05, elementwise_affine=True)\n",
       "      )\n",
       "      (9): ResidualAttentionBlock(\n",
       "        (attn): MultiheadAttention(\n",
       "          (out_proj): NonDynamicallyQuantizableLinear(in_features=512, out_features=512, bias=True)\n",
       "        )\n",
       "        (ln_1): LayerNorm((512,), eps=1e-05, elementwise_affine=True)\n",
       "        (mlp): Sequential(\n",
       "          (c_fc): Linear(in_features=512, out_features=2048, bias=True)\n",
       "          (gelu): QuickGELU()\n",
       "          (c_proj): Linear(in_features=2048, out_features=512, bias=True)\n",
       "        )\n",
       "        (ln_2): LayerNorm((512,), eps=1e-05, elementwise_affine=True)\n",
       "      )\n",
       "      (10): ResidualAttentionBlock(\n",
       "        (attn): MultiheadAttention(\n",
       "          (out_proj): NonDynamicallyQuantizableLinear(in_features=512, out_features=512, bias=True)\n",
       "        )\n",
       "        (ln_1): LayerNorm((512,), eps=1e-05, elementwise_affine=True)\n",
       "        (mlp): Sequential(\n",
       "          (c_fc): Linear(in_features=512, out_features=2048, bias=True)\n",
       "          (gelu): QuickGELU()\n",
       "          (c_proj): Linear(in_features=2048, out_features=512, bias=True)\n",
       "        )\n",
       "        (ln_2): LayerNorm((512,), eps=1e-05, elementwise_affine=True)\n",
       "      )\n",
       "      (11): ResidualAttentionBlock(\n",
       "        (attn): MultiheadAttention(\n",
       "          (out_proj): NonDynamicallyQuantizableLinear(in_features=512, out_features=512, bias=True)\n",
       "        )\n",
       "        (ln_1): LayerNorm((512,), eps=1e-05, elementwise_affine=True)\n",
       "        (mlp): Sequential(\n",
       "          (c_fc): Linear(in_features=512, out_features=2048, bias=True)\n",
       "          (gelu): QuickGELU()\n",
       "          (c_proj): Linear(in_features=2048, out_features=512, bias=True)\n",
       "        )\n",
       "        (ln_2): LayerNorm((512,), eps=1e-05, elementwise_affine=True)\n",
       "      )\n",
       "    )\n",
       "  )\n",
       "  (token_embedding): Embedding(49408, 512)\n",
       "  (ln_final): LayerNorm((512,), eps=1e-05, elementwise_affine=True)\n",
       ")"
      ]
     },
     "execution_count": 6,
     "metadata": {},
     "output_type": "execute_result"
    }
   ],
   "source": [
    "model"
   ]
  },
  {
   "cell_type": "markdown",
   "metadata": {},
   "source": [
    "## Image preprocessing"
   ]
  },
  {
   "cell_type": "code",
   "execution_count": 7,
   "metadata": {},
   "outputs": [
    {
     "data": {
      "text/plain": [
       "Compose(\n",
       "    Resize(size=224, interpolation=bicubic, max_size=None, antialias=None)\n",
       "    CenterCrop(size=(224, 224))\n",
       "    <function _convert_image_to_rgb at 0x7fec4b2655e0>\n",
       "    ToTensor()\n",
       "    Normalize(mean=(0.48145466, 0.4578275, 0.40821073), std=(0.26862954, 0.26130258, 0.27577711))\n",
       ")"
      ]
     },
     "execution_count": 7,
     "metadata": {},
     "output_type": "execute_result"
    }
   ],
   "source": [
    "preprocess"
   ]
  },
  {
   "cell_type": "markdown",
   "metadata": {},
   "source": [
    "## Text preprocessing"
   ]
  },
  {
   "cell_type": "code",
   "execution_count": 8,
   "metadata": {},
   "outputs": [
    {
     "data": {
      "text/plain": [
       "tensor([[49406,  3306,  1002,   256, 49407,     0,     0,     0,     0,     0,\n",
       "             0,     0,     0,     0,     0,     0,     0,     0,     0,     0,\n",
       "             0,     0,     0,     0,     0,     0,     0,     0,     0,     0,\n",
       "             0,     0,     0,     0,     0,     0,     0,     0,     0,     0,\n",
       "             0,     0,     0,     0,     0,     0,     0,     0,     0,     0,\n",
       "             0,     0,     0,     0,     0,     0,     0,     0,     0,     0,\n",
       "             0,     0,     0,     0,     0,     0,     0,     0,     0,     0,\n",
       "             0,     0,     0,     0,     0,     0,     0]], dtype=torch.int32)"
      ]
     },
     "execution_count": 8,
     "metadata": {},
     "output_type": "execute_result"
    }
   ],
   "source": [
    "clip.tokenize(\"Hello World!\")"
   ]
  },
  {
   "cell_type": "code",
   "execution_count": 9,
   "metadata": {},
   "outputs": [
    {
     "data": {
      "text/plain": [
       "tensor([[49406,  3306,  1002,   256,   607,  1981,   533,  5286,   269, 49407,\n",
       "             0,     0,     0,     0,     0,     0,     0,     0,     0,     0,\n",
       "             0,     0,     0,     0,     0,     0,     0,     0,     0,     0,\n",
       "             0,     0,     0,     0,     0,     0,     0,     0,     0,     0,\n",
       "             0,     0,     0,     0,     0,     0,     0,     0,     0,     0,\n",
       "             0,     0,     0,     0,     0,     0,     0,     0,     0,     0,\n",
       "             0,     0,     0,     0,     0,     0,     0,     0,     0,     0,\n",
       "             0,     0,     0,     0,     0,     0,     0]], dtype=torch.int32)"
      ]
     },
     "execution_count": 9,
     "metadata": {},
     "output_type": "execute_result"
    }
   ],
   "source": [
    "clip.tokenize(\"Hello World! My name is Patrick.\")"
   ]
  },
  {
   "cell_type": "code",
   "execution_count": 10,
   "metadata": {},
   "outputs": [
    {
     "data": {
      "text/plain": [
       "tensor([[49406,  3306,  1002,   256,   607,  1981,   533,  8625,   269, 49407,\n",
       "             0,     0,     0,     0,     0,     0,     0,     0,     0,     0,\n",
       "             0,     0,     0,     0,     0,     0,     0,     0,     0,     0,\n",
       "             0,     0,     0,     0,     0,     0,     0,     0,     0,     0,\n",
       "             0,     0,     0,     0,     0,     0,     0,     0,     0,     0,\n",
       "             0,     0,     0,     0,     0,     0,     0,     0,     0,     0,\n",
       "             0,     0,     0,     0,     0,     0,     0,     0,     0,     0,\n",
       "             0,     0,     0,     0,     0,     0,     0]], dtype=torch.int32)"
      ]
     },
     "execution_count": 10,
     "metadata": {},
     "output_type": "execute_result"
    }
   ],
   "source": [
    "clip.tokenize(\"Hello World! My name is Michelle.\")"
   ]
  },
  {
   "cell_type": "markdown",
   "metadata": {},
   "source": [
    "## Test performance of the clip model on the mnist dataset"
   ]
  },
  {
   "cell_type": "code",
   "execution_count": 13,
   "metadata": {},
   "outputs": [],
   "source": [
    "mnist_template = 'a photo of the number: \"{}\".'\n",
    "# mnist_classes = [\"0\", \"1\", \"2\", \"3\", \"4\", \"5\", \"6\", \"7\", \"8\", \"9\"]\n",
    "mnist_classes = [\"5\", \"8\"]"
   ]
  },
  {
   "cell_type": "code",
   "execution_count": 49,
   "metadata": {},
   "outputs": [],
   "source": [
    "def clip_accuracy2(output, target, topk=(1,)):\n",
    "    \"\"\"\n",
    "    Compute top-k accuracy of a classifier given the predictions (logits) and the ground-truth labels (target).\n",
    "    \"\"\"\n",
    "    pred = output.topk(max(topk), 1, True, True)[1].t()\n",
    "    pred[pred == 0] = 5\n",
    "    pred[pred == 1] = 8\n",
    "    correct = pred.eq(target.view(1, -1).expand_as(pred))\n",
    "    return [float(correct[:k].reshape(-1).float().sum(0, keepdim=True).cpu().numpy()) for k in topk]\n",
    "\n",
    "def assess_performance2(clip_version, model, preprocess, class_labels, class_template, dataset_loader, dataset_name=\"Dataset name\"):\n",
    "    transform = transforms.ToPILImage()\n",
    "    \n",
    "    # building text features\n",
    "    text_features = text_feature_generator(clip_version, model, class_labels, class_template)\n",
    "    \n",
    "    with torch.no_grad():\n",
    "        top1, top3, n = 0., 0., 0.\n",
    "        for images, ground_truth_label, _, _ in dataset_loader:\n",
    "            \n",
    "            # preprocess images\n",
    "            images_new = []\n",
    "            for img in images:\n",
    "                images_new.append(preprocess(transform(img)))\n",
    "\n",
    "            # building image features\n",
    "            images = torch.tensor(np.stack(images_new)).cuda()\n",
    "            \n",
    "            # predict\n",
    "            image_features = model.encode_image(images)\n",
    "            image_features /= image_features.norm(dim=-1, keepdim=True)\n",
    "            similarities = image_features @ text_features\n",
    "\n",
    "            # measure accuracy\n",
    "            acc1, acc3 = clip_accuracy2(similarities, ground_truth_label.cuda(), topk=(1, 2))\n",
    "            top1 += acc1\n",
    "            top3 += acc3\n",
    "            n += images.size(0)\n",
    "\n",
    "    top1 = (top1 / n) * 100\n",
    "    top3 = (top3 / n) * 100 \n",
    "\n",
    "    print(f\"{dataset_name} -> Top-1 accuracy: {top1:.2f}\")\n",
    "    print(f\"{dataset_name} -> Top-3 accuracy: {top3:.2f}\")\n",
    "\n",
    "    return similarities, ground_truth_label"
   ]
  },
  {
   "cell_type": "code",
   "execution_count": 50,
   "metadata": {},
   "outputs": [
    {
     "name": "stdout",
     "output_type": "stream",
     "text": [
      "Training color -> Top-1 accuracy: 94.19\n",
      "Training color -> Top-3 accuracy: 100.00\n",
      "Validation color -> Top-1 accuracy: 94.80\n",
      "Validation color -> Top-3 accuracy: 100.00\n",
      "Test color -> Top-1 accuracy: 93.14\n",
      "Test color -> Top-3 accuracy: 100.00\n"
     ]
    },
    {
     "data": {
      "text/plain": [
       "(tensor([[0.1835, 0.1840],\n",
       "         [0.2296, 0.2081],\n",
       "         [0.1953, 0.2094],\n",
       "         [0.1948, 0.2274],\n",
       "         [0.2014, 0.1857],\n",
       "         [0.1964, 0.2104],\n",
       "         [0.1801, 0.1926],\n",
       "         [0.2269, 0.2749],\n",
       "         [0.2186, 0.2119],\n",
       "         [0.2327, 0.2048],\n",
       "         [0.2162, 0.2566],\n",
       "         [0.1862, 0.1664],\n",
       "         [0.1929, 0.2039],\n",
       "         [0.2092, 0.2017],\n",
       "         [0.1904, 0.1808],\n",
       "         [0.1869, 0.1831],\n",
       "         [0.1993, 0.1825],\n",
       "         [0.1754, 0.1703],\n",
       "         [0.2046, 0.2217],\n",
       "         [0.2073, 0.2559],\n",
       "         [0.1765, 0.1797],\n",
       "         [0.1798, 0.1881],\n",
       "         [0.1726, 0.1787],\n",
       "         [0.2081, 0.1855],\n",
       "         [0.1771, 0.1866],\n",
       "         [0.1882, 0.1823],\n",
       "         [0.2048, 0.1815],\n",
       "         [0.1989, 0.1852],\n",
       "         [0.1825, 0.1959],\n",
       "         [0.1857, 0.1748],\n",
       "         [0.2257, 0.2032],\n",
       "         [0.2379, 0.2095],\n",
       "         [0.1829, 0.1844],\n",
       "         [0.1711, 0.1726],\n",
       "         [0.2015, 0.2247],\n",
       "         [0.1879, 0.2072],\n",
       "         [0.1768, 0.1876],\n",
       "         [0.1948, 0.1901],\n",
       "         [0.1862, 0.1863],\n",
       "         [0.2057, 0.2217],\n",
       "         [0.1896, 0.2106],\n",
       "         [0.2549, 0.2371],\n",
       "         [0.1863, 0.1991],\n",
       "         [0.1935, 0.2064],\n",
       "         [0.1820, 0.1863],\n",
       "         [0.1785, 0.1910],\n",
       "         [0.1801, 0.1893],\n",
       "         [0.1915, 0.1965],\n",
       "         [0.2200, 0.2195],\n",
       "         [0.1815, 0.2037],\n",
       "         [0.1844, 0.1823],\n",
       "         [0.1787, 0.2012],\n",
       "         [0.1991, 0.2170],\n",
       "         [0.1989, 0.2163],\n",
       "         [0.1810, 0.1777],\n",
       "         [0.1848, 0.1902],\n",
       "         [0.1941, 0.1870],\n",
       "         [0.2404, 0.2222],\n",
       "         [0.1843, 0.2135],\n",
       "         [0.1887, 0.2098],\n",
       "         [0.1879, 0.1929],\n",
       "         [0.2404, 0.2183],\n",
       "         [0.1846, 0.2036],\n",
       "         [0.1948, 0.1838],\n",
       "         [0.1945, 0.2085],\n",
       "         [0.2241, 0.2067],\n",
       "         [0.1959, 0.2028],\n",
       "         [0.1985, 0.1917],\n",
       "         [0.2411, 0.2241],\n",
       "         [0.1869, 0.1776],\n",
       "         [0.1945, 0.1857],\n",
       "         [0.2362, 0.2175],\n",
       "         [0.2167, 0.2140],\n",
       "         [0.2434, 0.2213]], device='cuda:0', dtype=torch.float16),\n",
       " tensor([5, 5, 8, 8, 5, 8, 8, 8, 5, 5, 8, 5, 8, 5, 5, 5, 5, 5, 5, 8, 5, 8, 8, 5,\n",
       "         8, 5, 5, 5, 8, 5, 5, 5, 5, 8, 8, 8, 8, 5, 5, 8, 8, 5, 8, 8, 8, 8, 8, 8,\n",
       "         5, 8, 5, 8, 8, 8, 5, 8, 5, 5, 8, 8, 8, 5, 8, 5, 8, 5, 5, 5, 5, 5, 5, 5,\n",
       "         5, 5]))"
      ]
     },
     "execution_count": 50,
     "metadata": {},
     "output_type": "execute_result"
    }
   ],
   "source": [
    "from utils.clip_utils import *\n",
    "\n",
    "# assess_performance(clip, model, preprocess, mnist_classes, mnist_template, train_loader_gray, \"Training gray\")\n",
    "# assess_performance(clip, model, preprocess, mnist_classes, mnist_template, val_loader_gray, \"Validation gray\")\n",
    "# assess_performance(clip, model, preprocess, mnist_classes, mnist_template, test_loader_gray, \"Test gray\")\n",
    "\n",
    "asdf, asdf2 = assess_performance2(clip, model, preprocess, mnist_classes, mnist_template, train_loader_color, \"Training color\")\n",
    "assess_performance2(clip, model, preprocess, mnist_classes, mnist_template, val_loader_color, \"Validation color\")\n",
    "assess_performance2(clip, model, preprocess, mnist_classes, mnist_template, test_loader_color, \"Test color\")"
   ]
  },
  {
   "cell_type": "code",
   "execution_count": 39,
   "metadata": {},
   "outputs": [
    {
     "data": {
      "text/plain": [
       "tensor([8, 5, 8, 5])"
      ]
     },
     "execution_count": 39,
     "metadata": {},
     "output_type": "execute_result"
    }
   ],
   "source": [
    "asdf3 = asdf.argmax(axis=1)\n",
    "asdf3[asdf3 == 0] = 5\n",
    "asdf3[asdf3 == 1] = 8\n",
    "asdf3.cpu()"
   ]
  },
  {
   "cell_type": "code",
   "execution_count": 40,
   "metadata": {},
   "outputs": [
    {
     "data": {
      "text/plain": [
       "tensor([8, 5, 8, 5])"
      ]
     },
     "execution_count": 40,
     "metadata": {},
     "output_type": "execute_result"
    }
   ],
   "source": [
    "asdf2"
   ]
  },
  {
   "cell_type": "code",
   "execution_count": 41,
   "metadata": {},
   "outputs": [
    {
     "data": {
      "text/plain": [
       "tensor(1.)"
      ]
     },
     "execution_count": 41,
     "metadata": {},
     "output_type": "execute_result"
    }
   ],
   "source": [
    "(asdf3.cpu() == asdf2.cpu()).sum() / len(asdf3.cpu())"
   ]
  },
  {
   "cell_type": "code",
   "execution_count": 202,
   "metadata": {},
   "outputs": [],
   "source": [
    "# images in skimage to use and their textual descriptions\n",
    "\n",
    "# Results in:\n",
    "# Training accuracy:  33.85%\n",
    "# Validation accuracy:  36.16%\n",
    "# Test accuracy:  34.16%\n",
    "descriptions1 = {\n",
    "    \"0\": \"a number with the value zero\",\n",
    "    \"1\": \"a number with the value one\",\n",
    "    \"2\": \"a number with the value two\",\n",
    "    \"3\": \"a number with the value three\",\n",
    "    \"4\": \"a number with the value four\",\n",
    "    \"5\": \"a number with the value five\",\n",
    "    \"6\": \"a number with the value six\",\n",
    "    \"7\": \"a number with the value seven\",\n",
    "    \"8\": \"a number with the value eight\",\n",
    "    \"9\": \"a number with the value nine\"\n",
    "}\n",
    "\n",
    "# Results in:\n",
    "# Training accuracy:  33.85%\n",
    "# Validation accuracy:  36.16%\n",
    "# Test accuracy:  34.16%\n",
    "descriptions2 = {\n",
    "    \"0\": 'a photo of the number: \"0\".',\n",
    "    \"1\": 'a photo of the number: \"1\".',\n",
    "    \"2\": 'a photo of the number: \"2\".',\n",
    "    \"3\": 'a photo of the number: \"3\".',\n",
    "    \"4\": 'a photo of the number: \"4\".',\n",
    "    \"5\": 'a photo of the number: \"5\".',\n",
    "    \"6\": 'a photo of the number: \"6\".',\n",
    "    \"7\": 'a photo of the number: \"7\".',\n",
    "    \"8\": 'a photo of the number: \"8\".',\n",
    "    \"9\": 'a photo of the number: \"9\".',\n",
    "}\n",
    "\n",
    "descriptions3 = {\n",
    "    \"0\": '0',\n",
    "    \"1\": '1',\n",
    "    \"2\": '2',\n",
    "    \"3\": '3',\n",
    "    \"4\": '4',\n",
    "    \"5\": '5',\n",
    "    \"6\": '6',\n",
    "    \"7\": '7',\n",
    "    \"8\": '8',\n",
    "    \"9\": '9',\n",
    "}\n",
    "\n",
    "descriptions4 = {\n",
    "    \"0\": 'zero',\n",
    "    \"1\": 'one',\n",
    "    \"2\": 'two',\n",
    "    \"3\": 'three',\n",
    "    \"4\": 'four',\n",
    "    \"5\": 'five',\n",
    "    \"6\": 'six',\n",
    "    \"7\": 'seven',\n",
    "    \"8\": 'eight',\n",
    "    \"9\": 'nine',\n",
    "}\n",
    "\n",
    "descriptions = descriptions4"
   ]
  },
  {
   "cell_type": "code",
   "execution_count": 203,
   "metadata": {},
   "outputs": [
    {
     "data": {
      "text/plain": [
       "tensor(True)"
      ]
     },
     "execution_count": 203,
     "metadata": {},
     "output_type": "execute_result"
    }
   ],
   "source": [
    "# exact same text tokens result in the same performance!(for descriptions 1-4)\n",
    "(clip.tokenize(descriptions) == clip.tokenize(descriptions2)).all()"
   ]
  },
  {
   "cell_type": "markdown",
   "metadata": {},
   "source": [
    "Images vom eigenen Dataloader in das externe model einspeisen\n",
    "\n",
    "https://stackoverflow.com/questions/53623472/how-do-i-display-a-single-image-in-pytorch\n",
    "\n",
    "https://pytorch.org/docs/stable/generated/torch.nn.Conv2d.html\n",
    "\n",
    "https://pillow.readthedocs.io/en/stable/reference/Image.html\n",
    "\n"
   ]
  },
  {
   "cell_type": "code",
   "execution_count": 204,
   "metadata": {},
   "outputs": [
    {
     "ename": "IndexError",
     "evalue": "Dimension out of range (expected to be in range of [-1, 0], but got 1)",
     "output_type": "error",
     "traceback": [
      "\u001b[0;31m---------------------------------------------------------------------------\u001b[0m",
      "\u001b[0;31mIndexError\u001b[0m                                Traceback (most recent call last)",
      "Cell \u001b[0;32mIn [204], line 36\u001b[0m\n\u001b[1;32m     33\u001b[0m     class_embedding \u001b[39m/\u001b[39m\u001b[39m=\u001b[39m class_embedding\u001b[39m.\u001b[39mnorm() \n\u001b[1;32m     34\u001b[0m     text_probs \u001b[39m=\u001b[39m (\u001b[39m100.0\u001b[39m \u001b[39m*\u001b[39m image_features \u001b[39m@\u001b[39m class_embedding\u001b[39m.\u001b[39mT)\u001b[39m.\u001b[39msoftmax(dim\u001b[39m=\u001b[39m\u001b[39m-\u001b[39m\u001b[39m1\u001b[39m)\n\u001b[0;32m---> 36\u001b[0m     running_corrects \u001b[39m+\u001b[39m\u001b[39m=\u001b[39m torch\u001b[39m.\u001b[39msum(text_probs\u001b[39m.\u001b[39;49margmax(axis\u001b[39m=\u001b[39;49m\u001b[39m1\u001b[39;49m) \u001b[39m==\u001b[39m ground_truth_label\u001b[39m.\u001b[39mcuda())\u001b[39m.\u001b[39mitem()\n\u001b[1;32m     38\u001b[0m \u001b[39mprint\u001b[39m(\u001b[39mf\u001b[39m\u001b[39m\"\u001b[39m\u001b[39mValidation gray accuracy: \u001b[39m\u001b[39m{\u001b[39;00m\u001b[39m100.0\u001b[39m \u001b[39m*\u001b[39m running_corrects \u001b[39m/\u001b[39m nr_of_images\u001b[39m}\u001b[39;00m\u001b[39m%\u001b[39m\u001b[39m\"\u001b[39m)\n",
      "\u001b[0;31mIndexError\u001b[0m: Dimension out of range (expected to be in range of [-1, 0], but got 1)"
     ]
    }
   ],
   "source": [
    "from torchvision import transforms\n",
    "\n",
    "# build text tokens\n",
    "text_tokens = clip.tokenize(descriptions).cuda()\n",
    "\n",
    "# variables\n",
    "running_corrects = 0\n",
    "nr_of_images = 0\n",
    "\n",
    "# transformation\n",
    "transform = transforms.ToPILImage()\n",
    "\n",
    "# preprocess images in batches\n",
    "for img_batch, ground_truth_label, _, _ in val_loader_gray:\n",
    "    images_new = []\n",
    "    for img in img_batch:\n",
    "        # process a batch of images\n",
    "        images_new.append(preprocess(transform(img)))\n",
    "        nr_of_images += 1\n",
    "    \n",
    "    # building image features\n",
    "    image_input = torch.tensor(np.stack(images_new)).cuda()\n",
    "\n",
    "    # inference\n",
    "    with torch.no_grad():\n",
    "        image_features = model.encode_image(image_input).float()\n",
    "        text_features = model.encode_text(text_tokens).float()\n",
    "    \n",
    "    # compute cosine similarity\n",
    "    image_features /= image_features.norm(dim=-1, keepdim=True)\n",
    "    text_features /= text_features.norm(dim=-1, keepdim=True)   \n",
    "    class_embedding = text_features.mean(dim=0)\n",
    "    class_embedding /= class_embedding.norm() \n",
    "    text_probs = (100.0 * image_features @ class_embedding.T).softmax(dim=-1)\n",
    "    \n",
    "    running_corrects += torch.sum(text_probs.argmax(axis=1) == ground_truth_label.cuda()).item()\n",
    "\n",
    "print(f\"Validation gray accuracy: {100.0 * running_corrects / nr_of_images}%\")"
   ]
  },
  {
   "cell_type": "code",
   "execution_count": 227,
   "metadata": {},
   "outputs": [
    {
     "name": "stdout",
     "output_type": "stream",
     "text": [
      "torch.Size([10, 1024])\n",
      "torch.Size([1024])\n"
     ]
    }
   ],
   "source": [
    "text_features /= text_features.norm(dim=-1, keepdim=True)\n",
    "print(f\"{text_features.shape}\")\n",
    "print(f\"{class_embedding.shape}\")"
   ]
  },
  {
   "cell_type": "code",
   "execution_count": 224,
   "metadata": {},
   "outputs": [
    {
     "data": {
      "text/plain": [
       "torch.Size([10, 1024])"
      ]
     },
     "execution_count": 224,
     "metadata": {},
     "output_type": "execute_result"
    }
   ],
   "source": []
  },
  {
   "cell_type": "code",
   "execution_count": 214,
   "metadata": {},
   "outputs": [
    {
     "data": {
      "text/plain": [
       "torch.Size([128, 1024])"
      ]
     },
     "execution_count": 214,
     "metadata": {},
     "output_type": "execute_result"
    }
   ],
   "source": [
    "image_features.shape"
   ]
  },
  {
   "cell_type": "code",
   "execution_count": 215,
   "metadata": {},
   "outputs": [
    {
     "data": {
      "text/plain": [
       "torch.Size([10, 1024])"
      ]
     },
     "execution_count": 215,
     "metadata": {},
     "output_type": "execute_result"
    }
   ],
   "source": [
    "text_features.shape"
   ]
  },
  {
   "cell_type": "code",
   "execution_count": 217,
   "metadata": {},
   "outputs": [
    {
     "data": {
      "text/plain": [
       "torch.Size([1, 512])"
      ]
     },
     "execution_count": 217,
     "metadata": {},
     "output_type": "execute_result"
    }
   ],
   "source": [
    "class_embeddings.shape"
   ]
  },
  {
   "cell_type": "code",
   "execution_count": 213,
   "metadata": {},
   "outputs": [
    {
     "data": {
      "text/plain": [
       "torch.Size([128])"
      ]
     },
     "execution_count": 213,
     "metadata": {},
     "output_type": "execute_result"
    }
   ],
   "source": [
    "text_probs.shape"
   ]
  },
  {
   "cell_type": "code",
   "execution_count": 206,
   "metadata": {},
   "outputs": [
    {
     "data": {
      "text/plain": [
       "torch.Size([128])"
      ]
     },
     "execution_count": 206,
     "metadata": {},
     "output_type": "execute_result"
    }
   ],
   "source": [
    "text_probs.shape"
   ]
  },
  {
   "cell_type": "code",
   "execution_count": 207,
   "metadata": {},
   "outputs": [
    {
     "data": {
      "text/plain": [
       "torch.Size([128])"
      ]
     },
     "execution_count": 207,
     "metadata": {},
     "output_type": "execute_result"
    }
   ],
   "source": [
    "ground_truth_label.shape"
   ]
  },
  {
   "cell_type": "code",
   "execution_count": null,
   "metadata": {},
   "outputs": [],
   "source": [
    "image_features.size()"
   ]
  },
  {
   "cell_type": "code",
   "execution_count": null,
   "metadata": {},
   "outputs": [],
   "source": [
    "text_features.size()"
   ]
  },
  {
   "cell_type": "code",
   "execution_count": null,
   "metadata": {},
   "outputs": [],
   "source": [
    "text_features.mean(dim=1).size()"
   ]
  },
  {
   "cell_type": "code",
   "execution_count": null,
   "metadata": {},
   "outputs": [],
   "source": [
    "torch.sum(text_probs.argmax == ground_truth_label.cuda()).item()"
   ]
  },
  {
   "cell_type": "code",
   "execution_count": null,
   "metadata": {},
   "outputs": [],
   "source": [
    "text_probs.argmax == ground_truth_label.cuda()"
   ]
  },
  {
   "cell_type": "code",
   "execution_count": null,
   "metadata": {},
   "outputs": [],
   "source": [
    "ground_truth_label"
   ]
  },
  {
   "cell_type": "code",
   "execution_count": null,
   "metadata": {},
   "outputs": [],
   "source": [
    "text_probs.argmax()"
   ]
  },
  {
   "cell_type": "code",
   "execution_count": null,
   "metadata": {},
   "outputs": [],
   "source": [
    "text_probs.size()"
   ]
  },
  {
   "cell_type": "code",
   "execution_count": null,
   "metadata": {},
   "outputs": [],
   "source": [
    "ground_truth_label.size()"
   ]
  },
  {
   "cell_type": "code",
   "execution_count": null,
   "metadata": {},
   "outputs": [],
   "source": [
    "running_corrects"
   ]
  },
  {
   "cell_type": "code",
   "execution_count": null,
   "metadata": {},
   "outputs": [],
   "source": [
    "from utils.clip_utils import *\n",
    "\n",
    "# len(=nr_of_batches)*batch_size=nr_of_samples\n",
    "# len(val_loader)-1 full batches with a size of 128 images\n",
    "# one last batch with the remaining <128 images\n",
    "#(len(val_loader)-1) * 128 + 16 \n",
    "\n",
    "asses_clip_performance(model, preprocess, train_loader_gray, descriptions, dataset_name=\"Training gray\")\n",
    "asses_clip_performance(model, preprocess, val_loader_gray, descriptions, dataset_name=\"Validation gray\")\n",
    "asses_clip_performance(model, preprocess, test_loader_gray, descriptions, dataset_name=\"Test gray\")"
   ]
  },
  {
   "cell_type": "code",
   "execution_count": null,
   "metadata": {},
   "outputs": [],
   "source": [
    "asses_clip_performance(model, preprocess, train_loader_color, descriptions, dataset_name=\"Training color\")\n",
    "asses_clip_performance(model, preprocess, val_loader_color, descriptions, dataset_name=\"Validation color\")\n",
    "asses_clip_performance(model, preprocess, test_loader_color, descriptions, dataset_name=\"Test color\")"
   ]
  },
  {
   "cell_type": "code",
   "execution_count": null,
   "metadata": {},
   "outputs": [],
   "source": [
    "image.size"
   ]
  },
  {
   "cell_type": "code",
   "execution_count": null,
   "metadata": {},
   "outputs": [],
   "source": [
    "image"
   ]
  },
  {
   "cell_type": "code",
   "execution_count": null,
   "metadata": {},
   "outputs": [],
   "source": [
    "preprocess(image).permute(1, 2, 0).size()"
   ]
  },
  {
   "cell_type": "code",
   "execution_count": null,
   "metadata": {},
   "outputs": [],
   "source": [
    "import matplotlib.pyplot as plt\n",
    "\n",
    "plt.imshow(preprocess(image).permute(1, 2, 0))"
   ]
  },
  {
   "cell_type": "markdown",
   "metadata": {},
   "source": [
    "## Sample random examples from dataset"
   ]
  },
  {
   "cell_type": "code",
   "execution_count": null,
   "metadata": {},
   "outputs": [],
   "source": [
    "from utils.mnist_preprocessing import *\n",
    "from utils.mnist_plotting import *"
   ]
  },
  {
   "cell_type": "code",
   "execution_count": null,
   "metadata": {},
   "outputs": [],
   "source": [
    "import os\n",
    "import skimage\n",
    "import IPython.display\n",
    "import matplotlib.pyplot as plt\n",
    "from PIL import Image\n",
    "import numpy as np\n",
    "\n",
    "from collections import OrderedDict\n",
    "import torch"
   ]
  },
  {
   "cell_type": "code",
   "execution_count": null,
   "metadata": {},
   "outputs": [],
   "source": [
    "from utils.mnist_general import *\n",
    "\n",
    "original_gray_images, gray_images, texts = show_examples_0_to_9(val_set_gray, preprocess, descriptions)"
   ]
  },
  {
   "cell_type": "code",
   "execution_count": null,
   "metadata": {},
   "outputs": [],
   "source": [
    "from utils.mnist_general import *\n",
    "\n",
    "original_color_images, color_images, texts = show_examples_0_to_9(val_set_color, preprocess, descriptions)"
   ]
  },
  {
   "cell_type": "markdown",
   "metadata": {},
   "source": [
    "## Compute similarities"
   ]
  },
  {
   "cell_type": "code",
   "execution_count": null,
   "metadata": {},
   "outputs": [],
   "source": [
    "from utils.clip_utils import *\n",
    "\n",
    "similarity = clip_inference(model, gray_images, texts)\n",
    "show_cosine_similarities(similarity.cpu(), original_gray_images, texts)\n",
    "\n",
    "# displaying cosine similarity with a softmax does not make any sense, because every probability is 10%!\n",
    "# show_cosine_similarities(np.exp(similarity.cpu())/np.exp(similarity.cpu()).sum(axis=0), original_gray_images, texts)"
   ]
  },
  {
   "cell_type": "code",
   "execution_count": null,
   "metadata": {},
   "outputs": [],
   "source": [
    "from utils.clip_utils import *\n",
    "\n",
    "similarity = clip_inference(model, color_images, texts)\n",
    "show_cosine_similarities(similarity.cpu(), original_color_images, texts)"
   ]
  },
  {
   "cell_type": "markdown",
   "metadata": {},
   "source": [
    "## Inspect top-k performance"
   ]
  },
  {
   "cell_type": "code",
   "execution_count": null,
   "metadata": {},
   "outputs": [],
   "source": [
    "text_probs = clip_inference(model, gray_images, texts, probabilities=True)\n",
    "top_probs, top_labels = text_probs.cpu().topk(5, dim=-1)\n",
    "show_text_img_probs(original_gray_images, top_probs, top_labels, texts)"
   ]
  },
  {
   "cell_type": "code",
   "execution_count": null,
   "metadata": {},
   "outputs": [],
   "source": [
    "text_probs = clip_inference(model, color_images, texts, probabilities=True)\n",
    "top_probs, top_labels = text_probs.cpu().topk(5, dim=-1)\n",
    "show_text_img_probs(original_color_images, top_probs, top_labels, texts)"
   ]
  },
  {
   "cell_type": "markdown",
   "metadata": {},
   "source": [
    "top-1 accuracy for MNIST test dataset: 57.840  \n",
    "top-1 accuracy for MNIST train dataset: 57.703   \n",
    "top-1 accuracy for CIFAR10 dataset: 71.540\n",
    "\n",
    "top-1 accuracy for MNIST dataset (test_set_gray): 57.840  \n",
    "top-1 accuracy for MNIST dataset (train_set_gray): 57.462\n"
   ]
  },
  {
   "cell_type": "code",
   "execution_count": null,
   "metadata": {},
   "outputs": [
    {
     "ename": "",
     "evalue": "",
     "output_type": "error",
     "traceback": [
      "\u001b[1;31mFailed to connect to the remote Jupyter Server 'http://152.96.60.56:8897/'. Verify the server is running and reachable. (request to http://152.96.60.56:8897/api/kernels?1668638884978 failed, reason: connect ETIMEDOUT 152.96.60.56:8897)."
     ]
    }
   ],
   "source": [
    "import torch\n",
    "import clip\n",
    "import os\n",
    "from torchvision.datasets import  MNIST, CIFAR10\n",
    "import numpy as np\n",
    "\n",
    "device = \"cuda\" if torch.cuda.is_available() else \"cpu\"\n",
    "model, preprocess = clip.load('RN50', device)\n",
    "\n",
    "# from https://github.com/openai/CLIP/blob/main/data/prompts.md\n",
    "mnist_classes = ['0','1','2','3','4','5','6','7','8','9',]\n",
    "mnist_templates = ['a photo of the number: \"{}\".',]\n",
    "cifar10_classes = ['airplane','automobile','bird','cat','deer','dog','frog','horse','ship','truck',]\n",
    "cifar10_templates = [\n",
    "    'a photo of a {}.',\n",
    "    'a blurry photo of a {}.',\n",
    "    'a black and white photo of a {}.',\n",
    "    'a low contrast photo of a {}.',\n",
    "    'a high contrast photo of a {}.',\n",
    "    'a bad photo of a {}.',\n",
    "    'a good photo of a {}.',\n",
    "    'a photo of a small {}.',\n",
    "    'a photo of a big {}.',\n",
    "    'a photo of the {}.',\n",
    "    'a blurry photo of the {}.',\n",
    "    'a black and white photo of the {}.',\n",
    "    'a low contrast photo of the {}.',\n",
    "    'a high contrast photo of the {}.',\n",
    "    'a bad photo of the {}.',\n",
    "    'a good photo of the {}.',\n",
    "    'a photo of the small {}.',\n",
    "    'a photo of the big {}.',\n",
    "]\n",
    "\n",
    "\n",
    "class_map = {'MNIST': mnist_classes, 'CIFAR10': cifar10_classes}\n",
    "template_map = {'MNIST': mnist_templates, 'CIFAR10': cifar10_templates}\n",
    "\n",
    "@torch.no_grad()\n",
    "def accuracy(output, target, topk=(1,)):\n",
    "    maxk = max(topk)\n",
    "    batch_size = target.size(0)\n",
    "\n",
    "    _, pred = output.topk(maxk, 1, True, True)\n",
    "    pred = pred.t()\n",
    "    correct = pred.eq(target.reshape(1, -1).expand_as(pred))\n",
    "\n",
    "    res = []\n",
    "    for k in topk:\n",
    "        correct_k = correct[:k].reshape(-1).float().sum(0, keepdim=True)\n",
    "        res.append(correct_k.mul_(100.0 / batch_size).item())\n",
    "    return res\n",
    "\n",
    "\n",
    "@torch.no_grad()\n",
    "def extract_text_features(dataset_name):\n",
    "    # code borrowed from: https://github.com/openai/CLIP/blob/fcab8b6eb92af684e7ff0a904464be7b99b49b88/notebooks/Prompt_Engineering_for_ImageNet.ipynb\n",
    "    class_names = class_map[dataset_name]\n",
    "    templates = template_map[dataset_name]\n",
    "    model.to(device)\n",
    "    model.eval()\n",
    "\n",
    "    zeroshot_weights = []\n",
    "    for classname in class_names:\n",
    "        texts = [template.format(classname) for template in templates]\n",
    "        texts = clip.tokenize(texts).to(device)\n",
    "        class_embeddings = model.encode_text(texts)\n",
    "        class_embeddings /= class_embeddings.norm(dim=-1, keepdim=True)\n",
    "        class_embedding = class_embeddings.mean(dim=0)\n",
    "        class_embedding /= class_embedding.norm()\n",
    "        zeroshot_weights.append(class_embedding)\n",
    "        # class_embeddings = model.encode_text(texts)\n",
    "        # class_embeddings /= class_embeddings.norm(dim=-1, keepdim=True)\n",
    "        # zeroshot_weights.append(class_embeddings)\n",
    "    zeroshot_weights = torch.stack(zeroshot_weights, dim=1).to(device)\n",
    "    return zeroshot_weights\n",
    "\n",
    "mnist = MNIST(root=os.path.expanduser(\"~/.cache\"), download=True, train=False)\n",
    "mnist_train = MNIST(root=os.path.expanduser(\"~/.cache\"), download=True, train=True)\n",
    "#cifar10 = CIFAR10(root=os.path.expanduser(\"~/.cache\"), download=True, train=False)\n",
    "\n",
    "for dataset in [mnist]:\n",
    "    # extract image feature, code borrowed from: https://github.com/openai/CLIP#zero-shot-prediction\n",
    "    image_features = []\n",
    "    image_labels = []\n",
    "    for image, class_id in dataset:\n",
    "        \n",
    "        print(image)\n",
    "        print(type(image))\n",
    "        print(image.size)\n",
    "        print(class_id)\n",
    "        \n",
    "        image_input = preprocess(image).unsqueeze(0).to(device)\n",
    "        \n",
    "        print(image_input)\n",
    "        print(type(image_input))\n",
    "        print(image_input.size())\n",
    "        break\n",
    "    \n",
    "        with torch.no_grad():\n",
    "            image_feature = model.encode_image(image_input)\n",
    "        image_feature /= image_feature.norm()\n",
    "        image_features.append(image_feature)\n",
    "        image_labels.append(class_id)\n",
    "    image_features = torch.stack(image_features, dim=1).to(device)\n",
    "    image_features = image_features.squeeze()\n",
    "    # extract text feature\n",
    "    dataset_name = 'MNIST'\n",
    "    text_features = extract_text_features(dataset_name)\n",
    "    \n",
    "    # compute top-1 accuracy\n",
    "    logits = (100. * image_features @ text_features).softmax(dim=-1)\n",
    "    image_labels = torch.tensor(image_labels).unsqueeze(dim=1).to(device)\n",
    "    top1_acc = accuracy(logits, image_labels, (1,))\n",
    "    print(f'top-1 accuracy for {dataset_name} dataset: {top1_acc[0]:.3f}')\n"
   ]
  },
  {
   "cell_type": "code",
   "execution_count": 112,
   "metadata": {},
   "outputs": [
    {
     "name": "stdout",
     "output_type": "stream",
     "text": [
      "Files already downloaded and verified\n",
      "['0', '1', '2', '3', '4', '5', '6', '7', '8', '9']\n",
      "top-1 accuracy for MNIST dataset: 57.840\n",
      "['airplane', 'automobile', 'bird', 'cat', 'deer', 'dog', 'frog', 'horse', 'ship', 'truck']\n",
      "top-1 accuracy for CIFAR10 dataset: 71.540\n"
     ]
    }
   ],
   "source": [
    "import torch\n",
    "import clip\n",
    "import os\n",
    "from torchvision.datasets import  MNIST, CIFAR10\n",
    "import numpy as np\n",
    "\n",
    "device = \"cuda\" if torch.cuda.is_available() else \"cpu\"\n",
    "model, preprocess = clip.load('RN50', device)\n",
    "\n",
    "# from https://github.com/openai/CLIP/blob/main/data/prompts.md\n",
    "mnist_classes = ['0','1','2','3','4','5','6','7','8','9',]\n",
    "mnist_templates = ['a photo of the number: \"{}\".',]\n",
    "cifar10_classes = ['airplane','automobile','bird','cat','deer','dog','frog','horse','ship','truck',]\n",
    "cifar10_templates = [\n",
    "    'a photo of a {}.',\n",
    "    'a blurry photo of a {}.',\n",
    "    'a black and white photo of a {}.',\n",
    "    'a low contrast photo of a {}.',\n",
    "    'a high contrast photo of a {}.',\n",
    "    'a bad photo of a {}.',\n",
    "    'a good photo of a {}.',\n",
    "    'a photo of a small {}.',\n",
    "    'a photo of a big {}.',\n",
    "    'a photo of the {}.',\n",
    "    'a blurry photo of the {}.',\n",
    "    'a black and white photo of the {}.',\n",
    "    'a low contrast photo of the {}.',\n",
    "    'a high contrast photo of the {}.',\n",
    "    'a bad photo of the {}.',\n",
    "    'a good photo of the {}.',\n",
    "    'a photo of the small {}.',\n",
    "    'a photo of the big {}.',\n",
    "]\n",
    "\n",
    "\n",
    "class_map = {'MNIST': mnist_classes, 'CIFAR10': cifar10_classes}\n",
    "template_map = {'MNIST': mnist_templates, 'CIFAR10': cifar10_templates}\n",
    "\n",
    "@torch.no_grad()\n",
    "def accuracy(output, target, topk=(1,)):\n",
    "    maxk = max(topk)\n",
    "    batch_size = target.size(0)\n",
    "\n",
    "    _, pred = output.topk(maxk, 1, True, True)\n",
    "    pred = pred.t()\n",
    "    correct = pred.eq(target.reshape(1, -1).expand_as(pred))\n",
    "\n",
    "    res = []\n",
    "    for k in topk:\n",
    "        correct_k = correct[:k].reshape(-1).float().sum(0, keepdim=True)\n",
    "        res.append(correct_k.mul_(100.0 / batch_size).item())\n",
    "    return res\n",
    "\n",
    "\n",
    "mnist = MNIST(root=os.path.expanduser(\"~/.cache\"), download=True, train=False)\n",
    "cifar10 = CIFAR10(root=os.path.expanduser(\"~/.cache\"), download=True, train=False)\n",
    "\n",
    "for dataset in [mnist, cifar10]:\n",
    "    # extract image feature, code borrowed from: https://github.com/openai/CLIP#zero-shot-prediction\n",
    "    image_features = []\n",
    "    image_labels = []\n",
    "    for image, class_id in dataset:\n",
    "        image_input = preprocess(image).unsqueeze(0).to(device)\n",
    "        with torch.no_grad():\n",
    "            image_feature = model.encode_image(image_input)\n",
    "        image_feature /= image_feature.norm()\n",
    "        image_features.append(image_feature)\n",
    "        image_labels.append(class_id)\n",
    "    image_features = torch.stack(image_features, dim=1).to(device)\n",
    "    image_features = image_features.squeeze()\n",
    "    \n",
    "    # extract text feature\n",
    "    dataset_name = 'MNIST' if dataset == mnist else 'CIFAR10'\n",
    "    text_features = extract_text_features(dataset_name)\n",
    "    \n",
    "    with torch.no_grad():\n",
    "        # code borrowed from: https://github.com/openai/CLIP/blob/fcab8b6eb92af684e7ff0a904464be7b99b49b88/notebooks/Prompt_Engineering_for_ImageNet.ipynb\n",
    "        class_names = class_map[dataset_name]\n",
    "        templates = template_map[dataset_name]\n",
    "        model.to(device)\n",
    "        model.eval()\n",
    "        \n",
    "        print(class_names)\n",
    "\n",
    "        zeroshot_weights = []\n",
    "        for classname in class_names:\n",
    "            texts = [template.format(classname) for template in templates]\n",
    "            texts = clip.tokenize(texts).to(device)\n",
    "            class_embeddings = model.encode_text(texts)\n",
    "            class_embeddings /= class_embeddings.norm(p=2, dim=-1, keepdim=True)\n",
    "            class_embedding = class_embeddings.mean(dim=0)\n",
    "            class_embedding /= class_embedding.norm(p=2)\n",
    "            zeroshot_weights.append(class_embedding)\n",
    "        text_features = torch.stack(zeroshot_weights, dim=1).to(device)\n",
    "    \n",
    "    # compute top-1 accuracy\n",
    "    logits = (100. * image_features @ text_features).softmax(dim=-1)\n",
    "    image_labels = torch.tensor(image_labels).unsqueeze(dim=1).to(device)\n",
    "    top1_acc = accuracy(logits, image_labels, (1,))\n",
    "    print(f'top-1 accuracy for {dataset_name} dataset: {top1_acc[0]:.3f}')"
   ]
  },
  {
   "cell_type": "code",
   "execution_count": 113,
   "metadata": {},
   "outputs": [
    {
     "data": {
      "text/plain": [
       "torch.Size([1024, 10])"
      ]
     },
     "execution_count": 113,
     "metadata": {},
     "output_type": "execute_result"
    }
   ],
   "source": [
    "text_features.shape"
   ]
  },
  {
   "cell_type": "code",
   "execution_count": null,
   "metadata": {},
   "outputs": [],
   "source": [
    "model"
   ]
  },
  {
   "cell_type": "code",
   "execution_count": null,
   "metadata": {},
   "outputs": [],
   "source": [
    "print(image_features[0].min())\n",
    "print(image_features[0].max())\n",
    "print(image_features[0].mean())\n",
    "print(image_features[0].median())\n",
    "print(image_features[0].sum())"
   ]
  },
  {
   "cell_type": "code",
   "execution_count": null,
   "metadata": {},
   "outputs": [],
   "source": [
    "for i in test_loader_gray:\n",
    "    img, ground_truth_label, low_high_label, color_label = i\n",
    "    print(img)\n",
    "    print(ground_truth_label)\n",
    "    break"
   ]
  },
  {
   "cell_type": "code",
   "execution_count": null,
   "metadata": {},
   "outputs": [],
   "source": [
    "img.shape"
   ]
  },
  {
   "cell_type": "code",
   "execution_count": null,
   "metadata": {},
   "outputs": [],
   "source": [
    "ground_truth_label.shape"
   ]
  },
  {
   "cell_type": "code",
   "execution_count": 103,
   "metadata": {},
   "outputs": [
    {
     "name": "stdout",
     "output_type": "stream",
     "text": [
      "top-1 accuracy for MNIST dataset: 45.060\n"
     ]
    }
   ],
   "source": [
    "import torch\n",
    "import clip\n",
    "import os\n",
    "from torchvision.datasets import  MNIST, CIFAR10\n",
    "import numpy as np\n",
    "\n",
    "device = \"cuda\" if torch.cuda.is_available() else \"cpu\"\n",
    "model, preprocess = clip.load('RN50', device)\n",
    "\n",
    "@torch.no_grad()\n",
    "def accuracy(output, target, topk=(1,)):\n",
    "    maxk = max(topk)\n",
    "    batch_size = target.size(0)\n",
    "\n",
    "    _, pred = output.topk(maxk, 1, True, True)\n",
    "    pred = pred.t()\n",
    "    correct = pred.eq(target.reshape(1, -1).expand_as(pred))\n",
    "\n",
    "    res = []\n",
    "    for k in topk:\n",
    "        correct_k = correct[:k].reshape(-1).float().sum(0, keepdim=True)\n",
    "        res.append(correct_k.mul_(100.0 / batch_size).item())\n",
    "    return res\n",
    "\n",
    "\n",
    "@torch.no_grad()\n",
    "def extract_text_features(dataset_name):\n",
    "    # code borrowed from: https://github.com/openai/CLIP/blob/fcab8b6eb92af684e7ff0a904464be7b99b49b88/notebooks/Prompt_Engineering_for_ImageNet.ipynb\n",
    "    class_names = class_map[dataset_name]\n",
    "    templates = template_map[dataset_name]\n",
    "    model.to(device)\n",
    "    model.eval()\n",
    "\n",
    "    zeroshot_weights = []\n",
    "    for classname in class_names:\n",
    "        texts = [template.format(classname) for template in templates]\n",
    "        texts = clip.tokenize(texts).to(device)\n",
    "        class_embeddings = model.encode_text(texts)\n",
    "        class_embeddings /= class_embeddings.norm(dim=-1, keepdim=True)\n",
    "        class_embedding = class_embeddings.mean(dim=0)\n",
    "        class_embedding /= class_embedding.norm()\n",
    "        zeroshot_weights.append(class_embedding)\n",
    "        # class_embeddings = model.encode_text(texts)\n",
    "        # class_embeddings /= class_embeddings.norm(dim=-1, keepdim=True)\n",
    "        # zeroshot_weights.append(class_embeddings)\n",
    "    zeroshot_weights = torch.stack(zeroshot_weights, dim=1).to(device)\n",
    "    return zeroshot_weights\n",
    "\n",
    "# extract image feature, code borrowed from: https://github.com/openai/CLIP#zero-shot-prediction\n",
    "image_features = []\n",
    "image_labels = []\n",
    "for image, class_id, _, _ in test_set_gray: # img, ground_truth_label, low_high_label, color_label\n",
    "    \n",
    "    # print(image)\n",
    "    # print(type(image))\n",
    "    # print(image.shape)\n",
    "    # print(class_id)\n",
    "    image_input = preprocess(transform(image)).unsqueeze(0).to(device)\n",
    "    \n",
    "    with torch.no_grad():\n",
    "        image_feature = model.encode_image(image_input)\n",
    "    image_feature /= image_feature.norm()\n",
    "    image_features.append(image_feature)\n",
    "    image_labels.append(class_id)\n",
    "image_features = torch.stack(image_features, dim=1).to(device)\n",
    "image_features = image_features.squeeze()\n",
    "# extract text feature\n",
    "dataset_name = 'MNIST'\n",
    "# replace this\n",
    "# text_features = extract_text_features(dataset_name)\n",
    "# with this\n",
    "text_tokens = clip.tokenize(descriptions2).cuda()\n",
    "with torch.no_grad():\n",
    "    text_features = model.encode_text(text_tokens).double()\n",
    "text_features /= text_features.norm(dim=-1, keepdim=True)  \n",
    "text_features = text_features.T\n",
    "\n",
    "# compute top-1 accuracy\n",
    "logits = (100. * image_features.double() @ text_features.double()).softmax(dim=-1)\n",
    "image_labels = torch.tensor(image_labels).unsqueeze(dim=1).to(device)\n",
    "top1_acc = accuracy(logits, image_labels, (1,))\n",
    "print(f'top-1 accuracy for {dataset_name} dataset: {top1_acc[0]:.3f}')\n"
   ]
  },
  {
   "cell_type": "code",
   "execution_count": 110,
   "metadata": {},
   "outputs": [
    {
     "data": {
      "text/plain": [
       "tensor(0.9802, device='cuda:0', dtype=torch.float64)"
      ]
     },
     "execution_count": 110,
     "metadata": {},
     "output_type": "execute_result"
    }
   ],
   "source": [
    "text_features.mean(dim=1).norm()"
   ]
  },
  {
   "cell_type": "code",
   "execution_count": null,
   "metadata": {},
   "outputs": [],
   "source": []
  },
  {
   "cell_type": "code",
   "execution_count": 96,
   "metadata": {},
   "outputs": [
    {
     "data": {
      "text/plain": [
       "tensor([[-0.0051, -0.0002, -0.0193,  ..., -0.0250, -0.0024,  0.0133],\n",
       "        [ 0.0013,  0.0041, -0.0175,  ..., -0.0153, -0.0010,  0.0127],\n",
       "        [-0.0122, -0.0090, -0.0158,  ..., -0.0217,  0.0108,  0.0004],\n",
       "        ...,\n",
       "        [-0.0135,  0.0072, -0.0182,  ..., -0.0142,  0.0086, -0.0184],\n",
       "        [-0.0098,  0.0011, -0.0131,  ..., -0.0136,  0.0150, -0.0083],\n",
       "        [-0.0071, -0.0054, -0.0126,  ..., -0.0150,  0.0014, -0.0031]],\n",
       "       device='cuda:0', dtype=torch.float16)"
      ]
     },
     "execution_count": 96,
     "metadata": {},
     "output_type": "execute_result"
    }
   ],
   "source": [
    "image_features"
   ]
  },
  {
   "cell_type": "code",
   "execution_count": 102,
   "metadata": {},
   "outputs": [
    {
     "data": {
      "text/plain": [
       "tensor([[-1.6719e-03,  4.5942e-03,  7.7758e-03,  ...,  1.4802e-02,\n",
       "         -7.3520e-04, -8.8227e-04],\n",
       "        [ 1.9620e-02,  2.8473e-02,  3.0190e-02,  ...,  2.1610e-02,\n",
       "          2.1146e-02,  2.3085e-02],\n",
       "        [ 3.4248e-03, -8.9793e-03, -4.1723e-03,  ...,  9.2404e-05,\n",
       "         -1.2647e-02, -1.1973e-02],\n",
       "        ...,\n",
       "        [-9.2012e-03, -1.5708e-02, -1.3152e-02,  ..., -1.0091e-02,\n",
       "         -1.0765e-02, -1.3354e-02],\n",
       "        [-1.2440e-03,  4.3249e-03,  7.0825e-03,  ..., -8.8794e-03,\n",
       "          6.1004e-03, -3.2623e-03],\n",
       "        [ 1.0932e-02,  5.8482e-03,  4.1266e-03,  ...,  7.3493e-03,\n",
       "          8.3322e-03,  6.5514e-03]], device='cuda:0', dtype=torch.float64)"
      ]
     },
     "execution_count": 102,
     "metadata": {},
     "output_type": "execute_result"
    }
   ],
   "source": [
    "text_features.double()"
   ]
  },
  {
   "cell_type": "code",
   "execution_count": 98,
   "metadata": {},
   "outputs": [
    {
     "data": {
      "text/plain": [
       "tensor([[0.1861, 0.1835, 0.1923,  ..., 0.2289, 0.2035, 0.2085],\n",
       "        [0.1813, 0.1798, 0.1999,  ..., 0.2007, 0.1841, 0.1799],\n",
       "        [0.1744, 0.1748, 0.1757,  ..., 0.1813, 0.1814, 0.1764],\n",
       "        ...,\n",
       "        [0.1770, 0.1744, 0.1732,  ..., 0.1904, 0.1869, 0.1868],\n",
       "        [0.1795, 0.1770, 0.1791,  ..., 0.1896, 0.1875, 0.1826],\n",
       "        [0.1726, 0.1706, 0.1786,  ..., 0.1823, 0.1789, 0.1749]],\n",
       "       device='cuda:0')"
      ]
     },
     "execution_count": 98,
     "metadata": {},
     "output_type": "execute_result"
    }
   ],
   "source": [
    "image_features.float() @ text_features.float()"
   ]
  },
  {
   "cell_type": "code",
   "execution_count": 90,
   "metadata": {},
   "outputs": [
    {
     "data": {
      "text/plain": [
       "torch.Size([1024, 10])"
      ]
     },
     "execution_count": 90,
     "metadata": {},
     "output_type": "execute_result"
    }
   ],
   "source": []
  },
  {
   "cell_type": "code",
   "execution_count": 87,
   "metadata": {},
   "outputs": [
    {
     "name": "stdout",
     "output_type": "stream",
     "text": [
      "<class 'torch.Tensor'>\n",
      "torch.Size([1024, 10])\n"
     ]
    },
    {
     "data": {
      "text/plain": [
       "tensor([[-1.6719e-03,  4.5942e-03,  7.7758e-03,  ...,  1.4802e-02,\n",
       "         -7.3520e-04, -8.8227e-04],\n",
       "        [ 1.9620e-02,  2.8473e-02,  3.0190e-02,  ...,  2.1610e-02,\n",
       "          2.1146e-02,  2.3085e-02],\n",
       "        [ 3.4248e-03, -8.9793e-03, -4.1723e-03,  ...,  9.2404e-05,\n",
       "         -1.2647e-02, -1.1973e-02],\n",
       "        ...,\n",
       "        [-9.2012e-03, -1.5708e-02, -1.3152e-02,  ..., -1.0091e-02,\n",
       "         -1.0765e-02, -1.3354e-02],\n",
       "        [-1.2440e-03,  4.3249e-03,  7.0825e-03,  ..., -8.8794e-03,\n",
       "          6.1004e-03, -3.2623e-03],\n",
       "        [ 1.0932e-02,  5.8482e-03,  4.1266e-03,  ...,  7.3493e-03,\n",
       "          8.3322e-03,  6.5514e-03]], device='cuda:0',\n",
       "       grad_fn=<PermuteBackward0>)"
      ]
     },
     "execution_count": 87,
     "metadata": {},
     "output_type": "execute_result"
    }
   ],
   "source": [
    "# neu\n",
    "print(type(text_features.T))\n",
    "print(text_features.T.shape)\n",
    "text_features.T"
   ]
  },
  {
   "cell_type": "code",
   "execution_count": 83,
   "metadata": {},
   "outputs": [
    {
     "name": "stdout",
     "output_type": "stream",
     "text": [
      "<class 'torch.Tensor'>\n",
      "torch.Size([1024, 10])\n"
     ]
    },
    {
     "data": {
      "text/plain": [
       "tensor([[ 0.0074,  0.0242,  0.0262,  ...,  0.0374,  0.0075,  0.0101],\n",
       "        [ 0.0266,  0.0250,  0.0255,  ...,  0.0295,  0.0195,  0.0208],\n",
       "        [ 0.0256,  0.0160,  0.0174,  ...,  0.0154, -0.0002,  0.0079],\n",
       "        ...,\n",
       "        [-0.0182, -0.0243, -0.0136,  ..., -0.0111, -0.0190, -0.0184],\n",
       "        [-0.0012, -0.0005,  0.0009,  ..., -0.0216,  0.0034, -0.0095],\n",
       "        [ 0.0072,  0.0074,  0.0079,  ...,  0.0077,  0.0066,  0.0050]],\n",
       "       device='cuda:0', dtype=torch.float16)"
      ]
     },
     "execution_count": 83,
     "metadata": {},
     "output_type": "execute_result"
    }
   ],
   "source": [
    "#original\n",
    "print(type(text_features))\n",
    "print(text_features.shape)\n",
    "text_features"
   ]
  },
  {
   "cell_type": "code",
   "execution_count": 59,
   "metadata": {},
   "outputs": [
    {
     "data": {
      "text/plain": [
       "torch.Size([1, 3, 224, 224])"
      ]
     },
     "execution_count": 59,
     "metadata": {},
     "output_type": "execute_result"
    }
   ],
   "source": [
    "# one image with 224x224 pixels with three RGB channels\n",
    "image_input.shape"
   ]
  },
  {
   "cell_type": "code",
   "execution_count": 57,
   "metadata": {},
   "outputs": [
    {
     "data": {
      "text/plain": [
       "torch.Size([10000, 1024])"
      ]
     },
     "execution_count": 57,
     "metadata": {},
     "output_type": "execute_result"
    }
   ],
   "source": [
    "# 10k dataset times 1024 features\n",
    "image_features.shape"
   ]
  },
  {
   "cell_type": "code",
   "execution_count": 60,
   "metadata": {},
   "outputs": [
    {
     "data": {
      "text/plain": [
       "torch.Size([10000, 10])"
      ]
     },
     "execution_count": 60,
     "metadata": {},
     "output_type": "execute_result"
    }
   ],
   "source": [
    "# probabilites for each digit of the 10k test samples\n",
    "logits.shape"
   ]
  },
  {
   "cell_type": "code",
   "execution_count": 58,
   "metadata": {},
   "outputs": [
    {
     "data": {
      "text/plain": [
       "torch.Size([1024, 10])"
      ]
     },
     "execution_count": 58,
     "metadata": {},
     "output_type": "execute_result"
    }
   ],
   "source": [
    "text_features.shape"
   ]
  },
  {
   "cell_type": "code",
   "execution_count": 54,
   "metadata": {},
   "outputs": [],
   "source": [
    "text_features_github = text_features"
   ]
  },
  {
   "cell_type": "code",
   "execution_count": 56,
   "metadata": {},
   "outputs": [
    {
     "data": {
      "text/plain": [
       "torch.Size([1024, 10])"
      ]
     },
     "execution_count": 56,
     "metadata": {},
     "output_type": "execute_result"
    }
   ],
   "source": [
    "text_features_github.shape"
   ]
  },
  {
   "cell_type": "markdown",
   "metadata": {},
   "source": []
  },
  {
   "cell_type": "code",
   "execution_count": 45,
   "metadata": {},
   "outputs": [
    {
     "data": {
      "text/plain": [
       "torch.Size([3, 28, 28])"
      ]
     },
     "execution_count": 45,
     "metadata": {},
     "output_type": "execute_result"
    }
   ],
   "source": [
    "image.size()"
   ]
  },
  {
   "cell_type": "code",
   "execution_count": 19,
   "metadata": {},
   "outputs": [
    {
     "ename": "TypeError",
     "evalue": "Cannot handle this data type: (1, 1, 28), <f4",
     "output_type": "error",
     "traceback": [
      "\u001b[0;31m---------------------------------------------------------------------------\u001b[0m",
      "\u001b[0;31mKeyError\u001b[0m                                  Traceback (most recent call last)",
      "File \u001b[0;32m/opt/conda/lib/python3.8/site-packages/PIL/Image.py:2813\u001b[0m, in \u001b[0;36mfromarray\u001b[0;34m(obj, mode)\u001b[0m\n\u001b[1;32m   2812\u001b[0m \u001b[39mtry\u001b[39;00m:\n\u001b[0;32m-> 2813\u001b[0m     mode, rawmode \u001b[39m=\u001b[39m _fromarray_typemap[typekey]\n\u001b[1;32m   2814\u001b[0m \u001b[39mexcept\u001b[39;00m \u001b[39mKeyError\u001b[39;00m \u001b[39mas\u001b[39;00m e:\n",
      "\u001b[0;31mKeyError\u001b[0m: ((1, 1, 28), '<f4')",
      "\nThe above exception was the direct cause of the following exception:\n",
      "\u001b[0;31mTypeError\u001b[0m                                 Traceback (most recent call last)",
      "Cell \u001b[0;32mIn [19], line 1\u001b[0m\n\u001b[0;32m----> 1\u001b[0m Image\u001b[39m.\u001b[39;49mfromarray(image\u001b[39m.\u001b[39;49mnumpy())\n",
      "File \u001b[0;32m/opt/conda/lib/python3.8/site-packages/PIL/Image.py:2815\u001b[0m, in \u001b[0;36mfromarray\u001b[0;34m(obj, mode)\u001b[0m\n\u001b[1;32m   2813\u001b[0m         mode, rawmode \u001b[39m=\u001b[39m _fromarray_typemap[typekey]\n\u001b[1;32m   2814\u001b[0m     \u001b[39mexcept\u001b[39;00m \u001b[39mKeyError\u001b[39;00m \u001b[39mas\u001b[39;00m e:\n\u001b[0;32m-> 2815\u001b[0m         \u001b[39mraise\u001b[39;00m \u001b[39mTypeError\u001b[39;00m(\u001b[39m\"\u001b[39m\u001b[39mCannot handle this data type: \u001b[39m\u001b[39m%s\u001b[39;00m\u001b[39m, \u001b[39m\u001b[39m%s\u001b[39;00m\u001b[39m\"\u001b[39m \u001b[39m%\u001b[39m typekey) \u001b[39mfrom\u001b[39;00m \u001b[39me\u001b[39;00m\n\u001b[1;32m   2816\u001b[0m \u001b[39melse\u001b[39;00m:\n\u001b[1;32m   2817\u001b[0m     rawmode \u001b[39m=\u001b[39m mode\n",
      "\u001b[0;31mTypeError\u001b[0m: Cannot handle this data type: (1, 1, 28), <f4"
     ]
    }
   ],
   "source": [
    "Image.fromarray(image.numpy())"
   ]
  },
  {
   "cell_type": "code",
   "execution_count": 22,
   "metadata": {},
   "outputs": [
    {
     "data": {
      "text/plain": [
       "torch.Size([28, 28, 3])"
      ]
     },
     "execution_count": 22,
     "metadata": {},
     "output_type": "execute_result"
    }
   ],
   "source": [
    "(image).permute(1, 2, 0).shape"
   ]
  },
  {
   "cell_type": "code",
   "execution_count": 23,
   "metadata": {},
   "outputs": [
    {
     "data": {
      "text/plain": [
       "torch.Size([3, 28, 28])"
      ]
     },
     "execution_count": 23,
     "metadata": {},
     "output_type": "execute_result"
    }
   ],
   "source": [
    "(image).shape"
   ]
  },
  {
   "cell_type": "code",
   "execution_count": 33,
   "metadata": {},
   "outputs": [
    {
     "data": {
      "text/plain": [
       "torch.Tensor"
      ]
     },
     "execution_count": 33,
     "metadata": {},
     "output_type": "execute_result"
    }
   ],
   "source": [
    "type(image)"
   ]
  },
  {
   "cell_type": "code",
   "execution_count": 34,
   "metadata": {},
   "outputs": [
    {
     "data": {
      "image/png": "[encoded data removed]",
      "text/plain": [
       "<Figure size 640x480 with 1 Axes>"
      ]
     },
     "metadata": {},
     "output_type": "display_data"
    }
   ],
   "source": []
  },
  {
   "cell_type": "code",
   "execution_count": 37,
   "metadata": {},
   "outputs": [
    {
     "data": {
      "image/png": "[encoded data removed]",
      "text/plain": [
       "<Figure size 640x480 with 1 Axes>"
      ]
     },
     "metadata": {},
     "output_type": "display_data"
    },
    {
     "data": {
      "image/png": "[encoded data removed]",
      "text/plain": [
       "<Figure size 640x480 with 1 Axes>"
      ]
     },
     "metadata": {},
     "output_type": "display_data"
    },
    {
     "name": "stderr",
     "output_type": "stream",
     "text": [
      "Clipping input data to the valid range for imshow with RGB data ([0..1] for floats or [0..255] for integers).\n"
     ]
    },
    {
     "data": {
      "image/png": "[encoded data removed]",
      "text/plain": [
       "<Figure size 640x480 with 1 Axes>"
      ]
     },
     "metadata": {},
     "output_type": "display_data"
    }
   ],
   "source": [
    "import  matplotlib.pyplot as plt\n",
    "\n",
    "# display tensor image\n",
    "plt.imshow(image.permute(1, 2, 0))\n",
    "plt.show()\n",
    "\n",
    "# display numpy image\n",
    "plt.imshow(image.permute(1, 2, 0).numpy())\n",
    "plt.show()\n",
    "\n",
    "# display PIL image\n",
    "transform = transforms.ToPILImage()\n",
    "plt.imshow(preprocess(transform(image)).permute(1, 2, 0))\n",
    "plt.show()"
   ]
  },
  {
   "cell_type": "code",
   "execution_count": 37,
   "metadata": {},
   "outputs": [
    {
     "name": "stdout",
     "output_type": "stream",
     "text": [
      "Files already downloaded and verified\n",
      "0 -> class_embeddings: tensor([[ 0.1016,  0.3667,  0.3521,  ..., -0.2512, -0.0161,  0.0999]],\n",
      "       device='cuda:0', dtype=torch.float16)\n",
      "0 -> Norm of class_embeddings from model: 189.75\n",
      "0 -> Norm of class_embeddings after first normalization: 1.0\n",
      "0 -> Norm of class_embeddings after second normalization: 1.0\n",
      "\n",
      "\n",
      "1 -> class_embeddings: tensor([[ 0.3337,  0.3447,  0.2211,  ..., -0.3357, -0.0073,  0.1019]],\n",
      "       device='cuda:0', dtype=torch.float16)\n",
      "1 -> Norm of class_embeddings from model: 190.125\n",
      "1 -> Norm of class_embeddings after first normalization: 0.99951171875\n",
      "1 -> Norm of class_embeddings after second normalization: 0.99951171875\n",
      "\n",
      "\n",
      "2 -> class_embeddings: tensor([[ 0.3525,  0.3438,  0.2346,  ..., -0.1827,  0.0124,  0.1069]],\n",
      "       device='cuda:0', dtype=torch.float16)\n",
      "2 -> Norm of class_embeddings from model: 181.5\n",
      "2 -> Norm of class_embeddings after first normalization: 1.0\n",
      "2 -> Norm of class_embeddings after second normalization: 1.0\n",
      "\n",
      "\n",
      "3 -> class_embeddings: tensor([[ 0.1731,  0.3125,  0.0979,  ..., -0.2581,  0.1953,  0.0992]],\n",
      "       device='cuda:0', dtype=torch.float16)\n",
      "3 -> Norm of class_embeddings from model: 178.125\n",
      "3 -> Norm of class_embeddings after first normalization: 1.0\n",
      "3 -> Norm of class_embeddings after second normalization: 1.0\n",
      "\n",
      "\n",
      "4 -> class_embeddings: tensor([[ 0.1304,  0.3655,  0.2915,  ..., -0.3298, -0.0916,  0.1132]],\n",
      "       device='cuda:0', dtype=torch.float16)\n",
      "4 -> Norm of class_embeddings from model: 173.0\n",
      "4 -> Norm of class_embeddings after first normalization: 1.0\n",
      "4 -> Norm of class_embeddings after second normalization: 1.0\n",
      "\n",
      "\n",
      "5 -> class_embeddings: tensor([[ 0.2703,  0.3669,  0.3066,  ..., -0.1682,  0.0884,  0.1373]],\n",
      "       device='cuda:0', dtype=torch.float16)\n",
      "5 -> Norm of class_embeddings from model: 171.375\n",
      "5 -> Norm of class_embeddings after first normalization: 1.0\n",
      "5 -> Norm of class_embeddings after second normalization: 1.0\n",
      "\n",
      "\n",
      "6 -> class_embeddings: tensor([[ 0.2281,  0.3472,  0.1812,  ..., -0.2012,  0.0357,  0.1335]],\n",
      "       device='cuda:0', dtype=torch.float16)\n",
      "6 -> Norm of class_embeddings from model: 163.5\n",
      "6 -> Norm of class_embeddings after first normalization: 1.0009765625\n",
      "6 -> Norm of class_embeddings after second normalization: 1.0009765625\n",
      "\n",
      "\n",
      "7 -> class_embeddings: tensor([[ 0.4800,  0.3792,  0.1973,  ..., -0.1423, -0.2771,  0.0988]],\n",
      "       device='cuda:0', dtype=torch.float16)\n",
      "7 -> Norm of class_embeddings from model: 164.875\n",
      "7 -> Norm of class_embeddings after first normalization: 0.99951171875\n",
      "7 -> Norm of class_embeddings after second normalization: 1.0009765625\n",
      "\n",
      "\n",
      "8 -> class_embeddings: tensor([[ 0.0971,  0.2515, -0.0019,  ..., -0.2451,  0.0443,  0.0851]],\n",
      "       device='cuda:0', dtype=torch.float16)\n",
      "8 -> Norm of class_embeddings from model: 167.125\n",
      "8 -> Norm of class_embeddings after first normalization: 0.99951171875\n",
      "8 -> Norm of class_embeddings after second normalization: 1.0009765625\n",
      "\n",
      "\n",
      "9 -> class_embeddings: tensor([[ 0.1313,  0.2695,  0.1028,  ..., -0.2388, -0.1234,  0.0644]],\n",
      "       device='cuda:0', dtype=torch.float16)\n",
      "9 -> Norm of class_embeddings from model: 168.375\n",
      "9 -> Norm of class_embeddings after first normalization: 1.0\n",
      "9 -> Norm of class_embeddings after second normalization: 1.0\n",
      "\n",
      "\n",
      "tensor([[ 0.0074,  0.0242,  0.0262,  ...,  0.0374,  0.0075,  0.0101],\n",
      "        [ 0.0266,  0.0250,  0.0255,  ...,  0.0295,  0.0195,  0.0208],\n",
      "        [ 0.0256,  0.0160,  0.0174,  ...,  0.0154, -0.0002,  0.0079],\n",
      "        ...,\n",
      "        [-0.0182, -0.0243, -0.0136,  ..., -0.0111, -0.0190, -0.0184],\n",
      "        [-0.0012, -0.0005,  0.0009,  ..., -0.0216,  0.0034, -0.0095],\n",
      "        [ 0.0072,  0.0074,  0.0079,  ...,  0.0077,  0.0066,  0.0050]],\n",
      "       device='cuda:0', dtype=torch.float16)\n",
      "torch.Size([1024, 10])\n",
      "top-1 accuracy for MNIST dataset: 57.840\n"
     ]
    }
   ],
   "source": [
    "import torch\n",
    "import clip\n",
    "import os\n",
    "from torchvision.datasets import  MNIST, CIFAR10\n",
    "import numpy as np\n",
    "import sys\n",
    "\n",
    "device = \"cuda\" if torch.cuda.is_available() else \"cpu\"\n",
    "model, preprocess = clip.load('RN50', device)\n",
    "\n",
    "# from https://github.com/openai/CLIP/blob/main/data/prompts.md\n",
    "mnist_classes = ['0','1','2','3','4','5','6','7','8','9',]\n",
    "mnist_templates = ['a photo of the number: \"{}\".',]\n",
    "cifar10_classes = ['airplane','automobile','bird','cat','deer','dog','frog','horse','ship','truck',]\n",
    "cifar10_templates = [\n",
    "    'a photo of a {}.',\n",
    "    'a blurry photo of a {}.',\n",
    "    'a black and white photo of a {}.',\n",
    "    'a low contrast photo of a {}.',\n",
    "    'a high contrast photo of a {}.',\n",
    "    'a bad photo of a {}.',\n",
    "    'a good photo of a {}.',\n",
    "    'a photo of a small {}.',\n",
    "    'a photo of a big {}.',\n",
    "    'a photo of the {}.',\n",
    "    'a blurry photo of the {}.',\n",
    "    'a black and white photo of the {}.',\n",
    "    'a low contrast photo of the {}.',\n",
    "    'a high contrast photo of the {}.',\n",
    "    'a bad photo of the {}.',\n",
    "    'a good photo of the {}.',\n",
    "    'a photo of the small {}.',\n",
    "    'a photo of the big {}.',\n",
    "]\n",
    "\n",
    "\n",
    "class_map = {'MNIST': mnist_classes, 'CIFAR10': cifar10_classes}\n",
    "template_map = {'MNIST': mnist_templates, 'CIFAR10': cifar10_templates}\n",
    "\n",
    "@torch.no_grad()\n",
    "def accuracy(output, target, topk=(1,)):\n",
    "    maxk = max(topk)\n",
    "    batch_size = target.size(0)\n",
    "\n",
    "    _, pred = output.topk(maxk, 1, True, True)\n",
    "    pred = pred.t()\n",
    "    correct = pred.eq(target.reshape(1, -1).expand_as(pred))\n",
    "\n",
    "    res = []\n",
    "    for k in topk:\n",
    "        correct_k = correct[:k].reshape(-1).float().sum(0, keepdim=True)\n",
    "        res.append(correct_k.mul_(100.0 / batch_size).item())\n",
    "    return res\n",
    "\n",
    "\n",
    "@torch.no_grad()\n",
    "def extract_text_features(dataset_name):\n",
    "    # code borrowed from: https://github.com/openai/CLIP/blob/fcab8b6eb92af684e7ff0a904464be7b99b49b88/notebooks/Prompt_Engineering_for_ImageNet.ipynb\n",
    "    class_names = class_map[dataset_name]\n",
    "    templates = template_map[dataset_name]\n",
    "    model.to(device)\n",
    "    model.eval()\n",
    "\n",
    "    # original\n",
    "    if True:\n",
    "        zeroshot_weights = []\n",
    "        for classname in class_names:\n",
    "            texts = [template.format(classname) for template in templates]\n",
    "            texts = clip.tokenize(texts).to(device)\n",
    "            class_embeddings = model.encode_text(texts)\n",
    "            # np.set_printoptions(threshold=sys.maxsize)\n",
    "            print(f\"{classname} -> class_embeddings: {class_embeddings}\")\n",
    "            print(f\"{classname} -> Norm of class_embeddings from model: {(class_embeddings**2).sum()}\")\n",
    "            class_embeddings /= class_embeddings.norm(dim=-1, keepdim=True)\n",
    "            print(f\"{classname} -> Norm of class_embeddings after first normalization: {(class_embeddings**2).sum()}\")\n",
    "            \n",
    "            class_embeddings = class_embeddings.squeeze()\n",
    "            # class_embedding = class_embeddings.mean(dim=0)\n",
    "            # class_embedding = class_embeddings\n",
    "            \n",
    "            class_embeddings /= class_embeddings.norm()\n",
    "            print(f\"{classname} -> Norm of class_embeddings after second normalization: {(class_embeddings**2).sum()}\")\n",
    "            print(\"\\n\")\n",
    "            zeroshot_weights.append(class_embeddings)\n",
    "        zeroshot_weights = torch.stack(zeroshot_weights, dim=1).to(device)\n",
    "        return zeroshot_weights\n",
    "    else:\n",
    "        # modified\n",
    "        zeroshot_weights = []\n",
    "        for classname in class_names:\n",
    "            texts = [template.format(classname) for template in templates]\n",
    "            texts = clip.tokenize(texts).to(device)\n",
    "            class_embeddings = model.encode_text(texts)\n",
    "            class_embeddings /= class_embeddings.norm(dim=-1, keepdim=True)\n",
    "            # class_embedding = class_embeddings.mean(dim=0)\n",
    "            # class_embedding /= class_embedding.norm()\n",
    "            zeroshot_weights.append(class_embedding)\n",
    "        zeroshot_weights = torch.stack(zeroshot_weights, dim=1).to(device)\n",
    "        return zeroshot_weights\n",
    "\n",
    "mnist = MNIST(root=os.path.expanduser(\"~/.cache\"), download=True, train=False)\n",
    "cifar10 = CIFAR10(root=os.path.expanduser(\"~/.cache\"), download=True, train=False)\n",
    "\n",
    "for dataset in [mnist]:\n",
    "    # extract image feature, code borrowed from: https://github.com/openai/CLIP#zero-shot-prediction\n",
    "    image_features = []\n",
    "    image_labels = []\n",
    "    for image, class_id in dataset:\n",
    "        image_input = preprocess(image).unsqueeze(0).to(device)\n",
    "        with torch.no_grad():\n",
    "            image_feature = model.encode_image(image_input)\n",
    "        image_feature /= image_feature.norm()\n",
    "        image_features.append(image_feature)\n",
    "        image_labels.append(class_id)\n",
    "    image_features = torch.stack(image_features, dim=1).to(device)\n",
    "    image_features = image_features.squeeze()\n",
    "    \n",
    "    # extract text feature\n",
    "    dataset_name = 'MNIST' if dataset == mnist else 'CIFAR10'\n",
    "    text_features = extract_text_features(dataset_name)\n",
    "    \n",
    "    print(text_features)\n",
    "    print(text_features.shape)\n",
    "    \n",
    "    # compute top-1 accuracy\n",
    "    logits = (100. * image_features @ text_features).softmax(dim=-1)\n",
    "    image_labels = torch.tensor(image_labels).unsqueeze(dim=1).to(device)\n",
    "    top1_acc = accuracy(logits, image_labels, (1,))\n",
    "    print(f'top-1 accuracy for {dataset_name} dataset: {top1_acc[0]:.3f}')\n"
   ]
  },
  {
   "cell_type": "code",
   "execution_count": null,
   "metadata": {},
   "outputs": [],
   "source": [
    "torch.from_numpy(np.array([]))"
   ]
  },
  {
   "cell_type": "code",
   "execution_count": 11,
   "metadata": {},
   "outputs": [
    {
     "data": {
      "text/plain": [
       "<function clip.clip.tokenize(texts: Union[str, List[str]], context_length: int = 77, truncate: bool = False) -> Union[torch.IntTensor, torch.LongTensor]>"
      ]
     },
     "execution_count": 11,
     "metadata": {},
     "output_type": "execute_result"
    }
   ],
   "source": [
    "clip.tokenize"
   ]
  },
  {
   "cell_type": "code",
   "execution_count": null,
   "metadata": {},
   "outputs": [],
   "source": [
    "dataset_name = 'MNIST'\n",
    "\n",
    "class_names = class_map[dataset_name]\n",
    "templates = template_map[dataset_name]\n",
    "model.to(device)\n",
    "model.eval()\n",
    "\n",
    "zeroshot_weights = []\n",
    "with torch.no_grad():\n",
    "    for classname in class_names:\n",
    "        texts = [template.format(classname) for template in templates]\n",
    "        print(classname)\n",
    "        texts = clip.tokenize(texts).to(device)\n",
    "        class_embeddings = model.encode_text(texts) # one feature vector of size torch.Size([1, 1024]) for each of the 10 texts\n",
    "        if ((class_embeddings**2).sum().item() != 1):\n",
    "            print(f\"Oops: Norm of {classname} is {(class_embeddings**2).sum().item()}\")\n",
    "        # print(class_embeddings)\n",
    "        # print(class_embeddings.norm(dim=-1, keepdim=True))\n",
    "        # raise Exception(\"Ooops\")\n",
    "        class_embeddings /= class_embeddings.norm(dim=-1, keepdim=True) # normalize the vector using the frobenius norm to length equal to 1 (check with (class_embeddings**2).sum())\n",
    "        # print((class_embeddings**2).sum())\n",
    "        # print(class_embeddings.shape)\n",
    "        # print(class_embeddings.squeeze().shape)\n",
    "        # print(class_embeddings.mean(dim=0).shape)\n",
    "        # print((class_embeddings == class_embeddings.mean(dim=0)).all())\n",
    "        # print()\n",
    "        # class_embedding = class_embeddings.mean(dim=0) # very awkward way to get rid of an extra 1x dimension class_embeddings.squeeze()\n",
    "        # print(\"Mean: \", class_embedding)\n",
    "        # print(\"Norm of the mean: \", class_embedding.norm())\n",
    "        # class_embedding /= class_embedding.norm() # the norm is usually 1, except for the numbers 1, 6, 7 and 8\n",
    "        # zeroshot_weights.append(class_embedding)\n",
    "    # zeroshot_weights = torch.stack(zeroshot_weights, dim=1).to(device) # ends up with a matrix representing the 1024 features for each of the ten texts (torch.Size([1024, 10]))"
   ]
  },
  {
   "cell_type": "code",
   "execution_count": 145,
   "metadata": {},
   "outputs": [
    {
     "name": "stdout",
     "output_type": "stream",
     "text": [
      "0\n",
      "1\n",
      "Oops: Norm of 1 is 0.99951171875 with diff=0.00048828125\n",
      "Oops: Norm of 1 is 0.99951171875 with diff=0.00048828125\n",
      "Oops: Norm of 1 is 0.99951171875 with diff=0.00048828125\n",
      "Oops: Norm of 1 is 0.99951171875 with diff=0.00048828125\n",
      "2\n",
      "3\n",
      "4\n",
      "5\n",
      "6\n",
      "Oops: Norm of 6 is 1.0009765625 with diff=-0.0009765625\n",
      "Oops: Norm of 6 is 1.0009765625 with diff=-0.0009765625\n",
      "Oops: Norm of 6 is 1.0009765625 with diff=-0.0009765625\n",
      "Oops: Norm of 6 is 1.0009765625 with diff=-0.0009765625\n",
      "7\n",
      "Oops: Norm of 7 is 0.99951171875 with diff=0.00048828125\n",
      "Oops: Norm of 7 is 1.0009765625 with diff=-0.0009765625\n",
      "Oops: Norm of 7 is 1.0009765625 with diff=-0.0009765625\n",
      "Oops: Norm of 7 is 1.0009765625 with diff=-0.0009765625\n",
      "8\n",
      "Oops: Norm of 8 is 0.99951171875 with diff=0.00048828125\n",
      "Oops: Norm of 8 is 1.0009765625 with diff=-0.0009765625\n",
      "Oops: Norm of 8 is 1.0009765625 with diff=-0.0009765625\n",
      "Oops: Norm of 8 is 1.0009765625 with diff=-0.0009765625\n",
      "9\n"
     ]
    }
   ],
   "source": [
    "dataset_name = 'MNIST'\n",
    "\n",
    "class_names = class_map[dataset_name]\n",
    "templates = template_map[dataset_name]\n",
    "model.to(device)\n",
    "model.eval()\n",
    "\n",
    "zeroshot_weights = []\n",
    "with torch.no_grad():\n",
    "    for classname in class_names:\n",
    "        texts = [template.format(classname) for template in templates]\n",
    "        print(classname)\n",
    "        texts = clip.tokenize(texts).to(device)\n",
    "        class_embeddings = model.encode_text(texts) # one feature vector of size torch.Size([1, 1024]) for each of the 10 texts\n",
    "        class_embeddings /= class_embeddings.norm(dim=-1, keepdim=True)\n",
    "        val = (class_embeddings**2).sum().item()\n",
    "        if (val != 1):\n",
    "            print(f\"Oops: Norm of {classname} is {val} with diff={1-val}\")\n",
    "            \n",
    "        class_embeddings /= class_embeddings.norm()\n",
    "        val = (class_embeddings**2).sum().item()\n",
    "        if (val != 1):\n",
    "            print(f\"Oops: Norm of {classname} is {val} with diff={1-val}\")\n",
    "\n",
    "        class_embeddings /= class_embeddings.norm()\n",
    "        val = (class_embeddings**2).sum().item()\n",
    "        if (val != 1):\n",
    "            print(f\"Oops: Norm of {classname} is {val} with diff={1-val}\")\n",
    "\n",
    "        class_embeddings /= class_embeddings.norm()\n",
    "        val = (class_embeddings**2).sum().item()\n",
    "        if (val != 1):\n",
    "            print(f\"Oops: Norm of {classname} is {val} with diff={1-val}\")\n"
   ]
  },
  {
   "cell_type": "code",
   "execution_count": 98,
   "metadata": {},
   "outputs": [
    {
     "data": {
      "text/plain": [
       "tensor(0.9995, device='cuda:0', dtype=torch.float16)"
      ]
     },
     "execution_count": 98,
     "metadata": {},
     "output_type": "execute_result"
    }
   ],
   "source": [
    "class_embeddings.norm()"
   ]
  },
  {
   "cell_type": "code",
   "execution_count": 99,
   "metadata": {},
   "outputs": [
    {
     "name": "stdout",
     "output_type": "stream",
     "text": [
      "Old norm numpy: 0.99951171875\n",
      "New norm numpy: 1.0\n"
     ]
    }
   ],
   "source": [
    "def compute_norm(arr):\n",
    "    return np.sqrt((arr**2).sum()) # no sqrt(..) for performance reasons (should equal to sqrt(1) == 1)\n",
    "\n",
    "asdf_torch = class_embeddings[0].cpu()\n",
    "asdf_np = asdf_torch.numpy().astype(np.float16) # changing between float16, float32 and float64 doesn't change the result\n",
    "\n",
    "asdf_np_norm = compute_norm(asdf_np)\n",
    "print(f\"Old norm numpy: {asdf_np_norm}\")\n",
    "print(f\"New norm numpy: {compute_norm(asdf_np/asdf_np_norm)}\")"
   ]
  },
  {
   "cell_type": "code",
   "execution_count": 100,
   "metadata": {},
   "outputs": [
    {
     "name": "stdout",
     "output_type": "stream",
     "text": [
      "Old norm torch: tensor([ 0.0075,  0.0195, -0.0002,  ..., -0.0190,  0.0034,  0.0066],\n",
      "       dtype=torch.float16)\n",
      "New norm torch: 1.0\n"
     ]
    }
   ],
   "source": [
    "asdf_torch_norm = compute_norm(asdf_torch)\n",
    "print(f\"Old norm torch: {asdf_torch}\")\n",
    "print(f\"New norm torch: {compute_norm(asdf_torch/asdf_torch_norm)}\")"
   ]
  },
  {
   "cell_type": "code",
   "execution_count": 101,
   "metadata": {},
   "outputs": [
    {
     "data": {
      "text/plain": [
       "tensor(0.9995, device='cuda:0', dtype=torch.float16)"
      ]
     },
     "execution_count": 101,
     "metadata": {},
     "output_type": "execute_result"
    }
   ],
   "source": [
    "class_embeddings[0].norm()"
   ]
  },
  {
   "cell_type": "code",
   "execution_count": null,
   "metadata": {},
   "outputs": [],
   "source": []
  },
  {
   "cell_type": "code",
   "execution_count": 29,
   "metadata": {},
   "outputs": [
    {
     "data": {
      "text/plain": [
       "tensor([[ 0.0074,  0.0242,  0.0262,  ...,  0.0374,  0.0075,  0.0101],\n",
       "        [ 0.0266,  0.0250,  0.0255,  ...,  0.0295,  0.0195,  0.0208],\n",
       "        [ 0.0256,  0.0160,  0.0174,  ...,  0.0154, -0.0002,  0.0079],\n",
       "        ...,\n",
       "        [-0.0182, -0.0243, -0.0136,  ..., -0.0111, -0.0190, -0.0184],\n",
       "        [-0.0012, -0.0005,  0.0009,  ..., -0.0216,  0.0034, -0.0095],\n",
       "        [ 0.0072,  0.0074,  0.0079,  ...,  0.0077,  0.0066,  0.0050]],\n",
       "       device='cuda:0', dtype=torch.float16)"
      ]
     },
     "execution_count": 29,
     "metadata": {},
     "output_type": "execute_result"
    }
   ],
   "source": [
    "dataset_name = 'MNIST'\n",
    "\n",
    "class_names = class_map[dataset_name]\n",
    "templates = template_map[dataset_name]\n",
    "model.to(device)\n",
    "model.eval()\n",
    "\n",
    "zeroshot_weights = []\n",
    "with torch.no_grad():\n",
    "    for classname in (class_names):\n",
    "        texts = [template.format(classname) for template in templates] #format with class\n",
    "        texts = clip.tokenize(texts).cuda() #tokenize\n",
    "        class_embeddings = model.encode_text(texts) #embed with text encoder\n",
    "        class_embeddings /= class_embeddings.norm(dim=-1, keepdim=True)\n",
    "        class_embedding = class_embeddings.mean(dim=0)\n",
    "        class_embedding /= class_embedding.norm()\n",
    "        zeroshot_weights.append(class_embedding)\n",
    "    zeroshot_weights = torch.stack(zeroshot_weights, dim=1).cuda()\n",
    "zeroshot_weights"
   ]
  },
  {
   "cell_type": "code",
   "execution_count": 30,
   "metadata": {},
   "outputs": [
    {
     "data": {
      "text/plain": [
       "torch.Size([1024, 10])"
      ]
     },
     "execution_count": 30,
     "metadata": {},
     "output_type": "execute_result"
    }
   ],
   "source": [
    "zeroshot_weights.shape"
   ]
  },
  {
   "cell_type": "code",
   "execution_count": null,
   "metadata": {},
   "outputs": [],
   "source": []
  },
  {
   "cell_type": "code",
   "execution_count": 190,
   "metadata": {},
   "outputs": [
    {
     "name": "stdout",
     "output_type": "stream",
     "text": [
      "tensor([-5.9929e-03,  1.6754e-02, -2.8000e-03,  4.1626e-02, -2.0477e-02,\n",
      "         9.6893e-03, -1.3840e-02, -1.3367e-01,  2.2621e-03,  4.0527e-02,\n",
      "         1.2465e-03, -2.8687e-02, -6.9962e-03, -1.1124e-02, -8.7738e-03,\n",
      "        -1.6403e-02,  2.3987e-02, -9.8495e-03,  1.9729e-05,  1.6159e-02,\n",
      "         2.2842e-02,  2.0782e-02,  2.4994e-02,  8.3771e-03, -1.2245e-03,\n",
      "         1.5354e-03, -5.9166e-03,  2.1835e-02, -2.0599e-02, -1.6281e-02,\n",
      "        -6.0768e-03, -3.4714e-03,  1.2711e-02,  5.5008e-03,  3.1776e-03,\n",
      "         2.8915e-03,  1.4915e-03,  3.0937e-03, -5.8975e-03,  1.8036e-02,\n",
      "         2.3289e-03, -1.0368e-02,  1.6006e-02,  1.5976e-02, -9.2888e-04,\n",
      "        -1.1787e-02, -8.5068e-03,  2.8961e-02, -2.3514e-02,  1.4366e-02,\n",
      "        -1.3145e-02,  2.2469e-03,  1.2085e-02, -1.1139e-02, -4.4098e-02,\n",
      "        -1.1887e-02,  1.6983e-02, -4.6670e-05, -1.9867e-02,  1.7120e-02,\n",
      "         3.5370e-02, -2.4475e-02, -2.5314e-02, -4.7226e-03, -9.0561e-03,\n",
      "        -1.5762e-02, -2.7222e-02,  3.5801e-03, -6.6338e-03,  4.1924e-03,\n",
      "        -3.2379e-02, -9.3384e-03,  1.6098e-03,  5.4474e-03, -4.3457e-02,\n",
      "        -6.8932e-03,  3.4180e-02,  4.1504e-02, -1.7548e-02, -2.5162e-02,\n",
      "         3.0853e-02, -3.2749e-03, -2.0370e-02, -1.3344e-02, -1.9928e-02,\n",
      "        -6.6452e-03,  2.9877e-02,  1.2596e-02,  3.8605e-02, -3.7109e-02,\n",
      "         6.0158e-03, -8.0643e-03, -1.7761e-01,  7.4768e-03,  1.0216e-02,\n",
      "         1.8570e-02,  7.3509e-03, -1.2733e-02,  6.1913e-03, -2.7283e-02,\n",
      "        -9.5901e-03,  1.7090e-02,  3.3402e-04, -1.0437e-02, -1.1917e-02,\n",
      "        -1.1787e-02, -1.2947e-02,  2.5269e-02,  1.3420e-02, -4.4365e-03,\n",
      "         1.5392e-03, -2.8076e-02, -1.1612e-02, -1.7563e-02, -5.2376e-03,\n",
      "         1.7899e-02, -2.4521e-02, -1.3268e-02, -1.1642e-02,  5.5504e-03,\n",
      "         2.5421e-02, -2.0203e-02, -3.7720e-02, -1.1765e-02,  2.0020e-02,\n",
      "         6.8741e-03,  5.6076e-03, -8.3447e-04,  1.6861e-03,  3.2593e-02,\n",
      "        -5.3215e-04, -1.4359e-02, -3.0548e-02,  5.6543e-01,  4.1626e-02,\n",
      "        -3.3817e-03,  1.5533e-02, -1.7990e-02,  1.4465e-02,  3.6072e-02,\n",
      "         2.1378e-02,  7.8011e-03, -1.4353e-03,  3.7781e-02, -6.1432e-02,\n",
      "         5.6366e-02, -2.0340e-02, -1.8082e-02, -2.8030e-02, -4.2511e-02,\n",
      "        -2.9602e-02,  1.4015e-02, -1.5854e-02, -8.1177e-03, -2.3636e-02,\n",
      "        -1.4832e-02,  2.6199e-02, -6.8321e-03,  3.7262e-02, -4.8904e-03,\n",
      "        -4.5514e-04, -3.0609e-02, -5.0640e-04,  1.8494e-02,  1.2383e-02,\n",
      "         6.0577e-03,  3.4973e-02, -2.4628e-02,  5.1689e-04, -1.4236e-02,\n",
      "         4.1885e-03,  7.7591e-03, -6.2675e-03, -1.5427e-02, -4.4342e-02,\n",
      "         4.1885e-03, -7.3547e-03,  1.3985e-02,  2.9633e-02,  8.9951e-03,\n",
      "        -2.9877e-02, -9.0637e-03, -4.4489e-04, -1.7715e-02, -3.8147e-02,\n",
      "         9.9487e-03, -2.0325e-02, -1.0010e-02,  1.1383e-02, -2.0187e-02,\n",
      "         1.5404e-02, -9.2392e-03,  2.6535e-02,  1.2505e-02,  1.7731e-02,\n",
      "         7.5417e-03,  1.8578e-03, -1.6602e-02, -2.1530e-02, -4.1809e-03,\n",
      "         3.8696e-02, -2.0599e-02, -9.6970e-03,  3.1464e-02,  1.5495e-02,\n",
      "        -4.0985e-02,  1.8387e-02,  7.0419e-03, -2.8961e-02,  2.1530e-02,\n",
      "        -4.0698e-04,  3.8055e-02, -5.6229e-03,  1.7838e-02, -6.8588e-03,\n",
      "         3.5400e-02, -3.8509e-03,  1.1520e-02, -3.7689e-02, -1.9714e-02,\n",
      "         2.8366e-02, -3.1143e-02, -5.2500e-04,  6.4774e-03, -1.1932e-02,\n",
      "        -9.1782e-03,  1.3916e-02,  1.0033e-02,  3.0518e-02, -3.1525e-02,\n",
      "        -1.3870e-02, -9.7046e-03,  4.9934e-03, -1.4381e-02,  3.8738e-03,\n",
      "        -1.4519e-02,  6.7444e-03,  1.4542e-02, -8.6746e-03, -3.4981e-03,\n",
      "        -1.8787e-03,  9.5596e-03,  1.7776e-02,  4.2419e-03, -2.4414e-02,\n",
      "         1.9547e-02,  3.3356e-02, -4.5738e-03, -4.6844e-02, -1.3695e-02,\n",
      "        -4.5395e-03,  2.1927e-02,  3.0304e-02,  4.0466e-02,  2.0294e-03,\n",
      "        -1.8982e-02, -3.4904e-03, -6.6490e-03,  2.3224e-02,  3.4271e-02,\n",
      "        -4.5441e-02, -6.6040e-02,  5.1537e-03,  2.3689e-03, -2.9022e-02,\n",
      "         1.3344e-02, -3.5400e-03, -1.3817e-02,  1.2560e-03, -4.5746e-02,\n",
      "        -1.8784e-02,  1.4900e-02,  2.8496e-03, -2.1454e-02, -6.8550e-03,\n",
      "         2.0584e-02, -9.6512e-03,  8.8882e-03,  2.2842e-02, -8.0948e-03,\n",
      "        -7.1182e-03, -1.9348e-02, -2.1942e-02,  1.1208e-02, -1.9592e-02,\n",
      "         4.9255e-02,  4.1351e-03, -4.8676e-03,  1.2413e-02, -2.6733e-02,\n",
      "         2.0233e-02,  5.4245e-03,  1.8219e-02,  2.9221e-02,  2.3518e-03,\n",
      "         2.2568e-02, -2.2293e-02, -2.3285e-02,  1.8234e-02,  2.5162e-02,\n",
      "         1.2932e-02, -1.4442e-02,  2.6047e-02, -1.4961e-02, -2.7374e-02,\n",
      "        -1.4610e-02,  5.4855e-03, -3.8025e-02, -4.1504e-03,  2.5146e-02,\n",
      "         2.0370e-02,  1.6220e-02,  5.6494e-01,  2.1042e-02,  1.6689e-03,\n",
      "         2.6901e-02,  2.8381e-02,  2.3041e-02, -7.4043e-03,  2.6260e-02,\n",
      "         4.1840e-02, -5.2147e-03, -1.2779e-04, -8.9188e-03, -2.8610e-02,\n",
      "        -4.5357e-03,  3.2898e-02, -4.3983e-03, -7.2517e-03, -2.6562e-01,\n",
      "        -6.0196e-03, -1.5617e-02,  5.7068e-02,  7.4043e-03,  4.1313e-03,\n",
      "         2.4323e-02,  2.7237e-02,  2.1805e-02, -7.3318e-03, -2.0096e-02,\n",
      "        -4.0344e-02,  4.2992e-03,  3.4882e-02,  2.7573e-02,  1.7029e-02,\n",
      "        -2.6901e-02,  8.3160e-03,  8.8272e-03, -1.2581e-02,  2.9999e-02,\n",
      "         3.0937e-03, -2.7191e-02, -3.5126e-02,  1.9257e-02, -2.2644e-02,\n",
      "        -4.7827e-04,  1.9608e-03, -1.1368e-02, -9.3460e-03,  2.9545e-03,\n",
      "        -1.5480e-02, -1.7578e-02,  1.6922e-02, -8.3389e-03, -1.6586e-02,\n",
      "        -2.4319e-03,  5.2795e-02,  2.6459e-02,  6.5880e-03,  2.3636e-02,\n",
      "        -1.9135e-02,  1.6632e-02,  1.8265e-02, -7.9651e-03,  4.4098e-02,\n",
      "        -1.8845e-03,  9.5215e-03, -6.4507e-03, -4.0649e-02,  4.7607e-03,\n",
      "        -6.1417e-03, -1.0780e-02,  5.7220e-02, -3.4302e-02,  2.9800e-02,\n",
      "        -3.7720e-02, -5.2429e-02, -2.0706e-02,  1.3125e-04, -1.1816e-03,\n",
      "        -2.1851e-02,  3.1769e-02, -5.9547e-03,  2.9236e-02,  1.3618e-02,\n",
      "         2.7618e-02,  2.5146e-02, -1.4359e-02,  4.6768e-03,  3.2562e-02,\n",
      "        -1.2230e-02,  8.0261e-03,  1.4839e-02,  1.3794e-02, -6.5460e-03,\n",
      "         1.3245e-02,  2.4323e-02, -3.2867e-02,  3.6106e-03, -1.3428e-02,\n",
      "         1.0544e-02,  2.1454e-02,  6.5956e-03,  2.4124e-02,  3.5706e-02,\n",
      "         1.0506e-02,  1.5961e-02,  4.5204e-03,  1.8036e-02, -2.6291e-02,\n",
      "         2.2934e-02, -4.1229e-02,  1.5106e-02, -5.9776e-03, -3.1113e-02,\n",
      "         1.6098e-02,  2.1225e-02,  3.4790e-02, -5.4741e-03, -6.5880e-03,\n",
      "        -9.8877e-03,  8.6670e-03,  3.7899e-03,  1.4313e-02,  1.7710e-03,\n",
      "        -3.6682e-02, -1.3893e-02, -1.0620e-02, -2.5043e-03,  2.2217e-02,\n",
      "        -4.0833e-02,  5.9319e-03,  7.4539e-03, -2.0737e-02, -1.6998e-02,\n",
      "         2.5162e-02, -2.2430e-02, -3.5095e-02, -3.8338e-03,  2.6535e-02,\n",
      "        -1.7914e-02, -3.6316e-02,  2.9266e-02, -1.8454e-04,  1.6281e-02,\n",
      "        -1.7776e-02, -2.7252e-02, -4.6143e-02, -1.5022e-02, -4.2145e-02,\n",
      "         3.5675e-02, -1.3893e-02, -8.4076e-03, -6.1035e-03,  8.4381e-03,\n",
      "        -3.5583e-02, -1.3252e-02, -4.1626e-02, -1.2894e-02, -2.2827e-02,\n",
      "        -1.5305e-02, -3.1281e-02,  1.1391e-02,  1.1963e-02, -2.0008e-03,\n",
      "         1.3626e-02,  7.8659e-03,  1.6418e-02, -1.4915e-03,  3.4088e-02,\n",
      "         1.1345e-02, -6.2927e-02, -3.0255e-04, -1.0643e-03, -6.6605e-03,\n",
      "        -2.2995e-02,  3.2558e-03,  1.8066e-02,  4.4098e-02, -1.2767e-04,\n",
      "         1.3885e-02, -2.4414e-02, -1.5182e-02,  6.0211e-02,  3.2288e-02,\n",
      "        -1.4709e-02,  3.0197e-02,  1.9409e-02,  2.6886e-02,  1.0468e-02,\n",
      "         6.2485e-03, -3.6221e-03, -1.8005e-03,  3.3997e-02,  5.3009e-02,\n",
      "         4.0100e-02,  1.3130e-02, -1.9943e-02,  7.0801e-03, -7.1045e-02,\n",
      "        -8.8272e-03,  1.9455e-02], device='cuda:0', dtype=torch.float16,\n",
      "       grad_fn=<MeanBackward1>)\n",
      "torch.Size([512])\n",
      "tensor(1., device='cuda:0', dtype=torch.float16, grad_fn=<NormBackward1>)\n"
     ]
    }
   ],
   "source": [
    "dataset_name = 'MNIST'\n",
    "\n",
    "class_names = class_map[dataset_name]\n",
    "templates = template_map[dataset_name]\n",
    "model.to(device)\n",
    "model.eval()\n",
    "\n",
    "zeroshot_weights = []\n",
    "for classname in class_names:\n",
    "    texts = [template.format(classname) for template in templates]\n",
    "    texts = clip.tokenize(texts).to(device)\n",
    "    class_embeddings = model.encode_text(texts) # one feature vector of size torch.Size([1, 1024]) for each of the 10 texts\n",
    "    class_embeddings /= class_embeddings.norm(dim=-1, keepdim=True) # normalize the vector using the frobenius norm to length equal to 1 (check with (class_embeddings**2).sum())\n",
    "    #class_embedding = class_embeddings.mean(dim=0)\n",
    "print(class_embedding)\n",
    "print(class_embedding.shape)\n",
    "print(class_embedding.norm())\n",
    "#     class_embedding /= class_embedding.norm()\n",
    "#     zeroshot_weights.append(class_embedding)\n",
    "# zeroshot_weights = torch.stack(zeroshot_weights, dim=1).to(device)"
   ]
  },
  {
   "cell_type": "code",
   "execution_count": 34,
   "metadata": {},
   "outputs": [
    {
     "data": {
      "text/plain": [
       "tensor(1., device='cuda:0', dtype=torch.float16, grad_fn=<SumBackward0>)"
      ]
     },
     "execution_count": 34,
     "metadata": {},
     "output_type": "execute_result"
    }
   ],
   "source": [
    "(class_embeddings**2).sum()"
   ]
  },
  {
   "cell_type": "code",
   "execution_count": 115,
   "metadata": {},
   "outputs": [
    {
     "name": "stdout",
     "output_type": "stream",
     "text": [
      "Torch version: 1.13.0a0+d0d6b1f\n"
     ]
    }
   ],
   "source": [
    "import numpy as np\n",
    "import torch\n",
    "import clip\n",
    "from tqdm.notebook import tqdm\n",
    "\n",
    "print(\"Torch version:\", torch.__version__)"
   ]
  },
  {
   "cell_type": "code",
   "execution_count": 116,
   "metadata": {},
   "outputs": [
    {
     "data": {
      "text/plain": [
       "['RN50',\n",
       " 'RN101',\n",
       " 'RN50x4',\n",
       " 'RN50x16',\n",
       " 'RN50x64',\n",
       " 'ViT-B/32',\n",
       " 'ViT-B/16',\n",
       " 'ViT-L/14',\n",
       " 'ViT-L/14@336px']"
      ]
     },
     "execution_count": 116,
     "metadata": {},
     "output_type": "execute_result"
    }
   ],
   "source": [
    "clip.available_models()"
   ]
  },
  {
   "cell_type": "code",
   "execution_count": 117,
   "metadata": {},
   "outputs": [],
   "source": [
    "model, preprocess = clip.load(\"RN50\")\n"
   ]
  },
  {
   "cell_type": "code",
   "execution_count": 118,
   "metadata": {},
   "outputs": [
    {
     "name": "stdout",
     "output_type": "stream",
     "text": [
      "Model parameters: 102,007,137\n",
      "Input resolution: 224\n",
      "Context length: 77\n",
      "Vocab size: 49408\n"
     ]
    }
   ],
   "source": [
    "input_resolution = model.visual.input_resolution\n",
    "context_length = model.context_length\n",
    "vocab_size = model.vocab_size\n",
    "\n",
    "print(\"Model parameters:\", f\"{np.sum([int(np.prod(p.shape)) for p in model.parameters()]):,}\")\n",
    "print(\"Input resolution:\", input_resolution)\n",
    "print(\"Context length:\", context_length)\n",
    "print(\"Vocab size:\", vocab_size)"
   ]
  },
  {
   "cell_type": "code",
   "execution_count": 119,
   "metadata": {},
   "outputs": [],
   "source": [
    "imagenet_classes = [\"tench\", \"goldfish\", \"great white shark\", \"tiger shark\", \"hammerhead shark\", \"electric ray\", \"stingray\", \"rooster\", \"hen\", \"ostrich\", \"brambling\", \"goldfinch\", \"house finch\", \"junco\", \"indigo bunting\", \"American robin\", \"bulbul\", \"jay\", \"magpie\", \"chickadee\", \"American dipper\", \"kite (bird of prey)\", \"bald eagle\", \"vulture\", \"great grey owl\", \"fire salamander\", \"smooth newt\", \"newt\", \"spotted salamander\", \"axolotl\", \"American bullfrog\", \"tree frog\", \"tailed frog\", \"loggerhead sea turtle\", \"leatherback sea turtle\", \"mud turtle\", \"terrapin\", \"box turtle\", \"banded gecko\", \"green iguana\", \"Carolina anole\", \"desert grassland whiptail lizard\", \"agama\", \"frilled-necked lizard\", \"alligator lizard\", \"Gila monster\", \"European green lizard\", \"chameleon\", \"Komodo dragon\", \"Nile crocodile\", \"American alligator\", \"triceratops\", \"worm snake\", \"ring-necked snake\", \"eastern hog-nosed snake\", \"smooth green snake\", \"kingsnake\", \"garter snake\", \"water snake\", \"vine snake\", \"night snake\", \"boa constrictor\", \"African rock python\", \"Indian cobra\", \"green mamba\", \"sea snake\", \"Saharan horned viper\", \"eastern diamondback rattlesnake\", \"sidewinder rattlesnake\", \"trilobite\", \"harvestman\", \"scorpion\", \"yellow garden spider\", \"barn spider\", \"European garden spider\", \"southern black widow\", \"tarantula\", \"wolf spider\", \"tick\", \"centipede\", \"black grouse\", \"ptarmigan\", \"ruffed grouse\", \"prairie grouse\", \"peafowl\", \"quail\", \"partridge\", \"african grey parrot\", \"macaw\", \"sulphur-crested cockatoo\", \"lorikeet\", \"coucal\", \"bee eater\", \"hornbill\", \"hummingbird\", \"jacamar\", \"toucan\", \"duck\", \"red-breasted merganser\", \"goose\", \"black swan\", \"tusker\", \"echidna\", \"platypus\", \"wallaby\", \"koala\", \"wombat\", \"jellyfish\", \"sea anemone\", \"brain coral\", \"flatworm\", \"nematode\", \"conch\", \"snail\", \"slug\", \"sea slug\", \"chiton\", \"chambered nautilus\", \"Dungeness crab\", \"rock crab\", \"fiddler crab\", \"red king crab\", \"American lobster\", \"spiny lobster\", \"crayfish\", \"hermit crab\", \"isopod\", \"white stork\", \"black stork\", \"spoonbill\", \"flamingo\", \"little blue heron\", \"great egret\", \"bittern bird\", \"crane bird\", \"limpkin\", \"common gallinule\", \"American coot\", \"bustard\", \"ruddy turnstone\", \"dunlin\", \"common redshank\", \"dowitcher\", \"oystercatcher\", \"pelican\", \"king penguin\", \"albatross\", \"grey whale\", \"killer whale\", \"dugong\", \"sea lion\", \"Chihuahua\", \"Japanese Chin\", \"Maltese\", \"Pekingese\", \"Shih Tzu\", \"King Charles Spaniel\", \"Papillon\", \"toy terrier\", \"Rhodesian Ridgeback\", \"Afghan Hound\", \"Basset Hound\", \"Beagle\", \"Bloodhound\", \"Bluetick Coonhound\", \"Black and Tan Coonhound\", \"Treeing Walker Coonhound\", \"English foxhound\", \"Redbone Coonhound\", \"borzoi\", \"Irish Wolfhound\", \"Italian Greyhound\", \"Whippet\", \"Ibizan Hound\", \"Norwegian Elkhound\", \"Otterhound\", \"Saluki\", \"Scottish Deerhound\", \"Weimaraner\", \"Staffordshire Bull Terrier\", \"American Staffordshire Terrier\", \"Bedlington Terrier\", \"Border Terrier\", \"Kerry Blue Terrier\", \"Irish Terrier\", \"Norfolk Terrier\", \"Norwich Terrier\", \"Yorkshire Terrier\", \"Wire Fox Terrier\", \"Lakeland Terrier\", \"Sealyham Terrier\", \"Airedale Terrier\", \"Cairn Terrier\", \"Australian Terrier\", \"Dandie Dinmont Terrier\", \"Boston Terrier\", \"Miniature Schnauzer\", \"Giant Schnauzer\", \"Standard Schnauzer\", \"Scottish Terrier\", \"Tibetan Terrier\", \"Australian Silky Terrier\", \"Soft-coated Wheaten Terrier\", \"West Highland White Terrier\", \"Lhasa Apso\", \"Flat-Coated Retriever\", \"Curly-coated Retriever\", \"Golden Retriever\", \"Labrador Retriever\", \"Chesapeake Bay Retriever\", \"German Shorthaired Pointer\", \"Vizsla\", \"English Setter\", \"Irish Setter\", \"Gordon Setter\", \"Brittany dog\", \"Clumber Spaniel\", \"English Springer Spaniel\", \"Welsh Springer Spaniel\", \"Cocker Spaniel\", \"Sussex Spaniel\", \"Irish Water Spaniel\", \"Kuvasz\", \"Schipperke\", \"Groenendael dog\", \"Malinois\", \"Briard\", \"Australian Kelpie\", \"Komondor\", \"Old English Sheepdog\", \"Shetland Sheepdog\", \"collie\", \"Border Collie\", \"Bouvier des Flandres dog\", \"Rottweiler\", \"German Shepherd Dog\", \"Dobermann\", \"Miniature Pinscher\", \"Greater Swiss Mountain Dog\", \"Bernese Mountain Dog\", \"Appenzeller Sennenhund\", \"Entlebucher Sennenhund\", \"Boxer\", \"Bullmastiff\", \"Tibetan Mastiff\", \"French Bulldog\", \"Great Dane\", \"St. Bernard\", \"husky\", \"Alaskan Malamute\", \"Siberian Husky\", \"Dalmatian\", \"Affenpinscher\", \"Basenji\", \"pug\", \"Leonberger\", \"Newfoundland dog\", \"Great Pyrenees dog\", \"Samoyed\", \"Pomeranian\", \"Chow Chow\", \"Keeshond\", \"brussels griffon\", \"Pembroke Welsh Corgi\", \"Cardigan Welsh Corgi\", \"Toy Poodle\", \"Miniature Poodle\", \"Standard Poodle\", \"Mexican hairless dog (xoloitzcuintli)\", \"grey wolf\", \"Alaskan tundra wolf\", \"red wolf or maned wolf\", \"coyote\", \"dingo\", \"dhole\", \"African wild dog\", \"hyena\", \"red fox\", \"kit fox\", \"Arctic fox\", \"grey fox\", \"tabby cat\", \"tiger cat\", \"Persian cat\", \"Siamese cat\", \"Egyptian Mau\", \"cougar\", \"lynx\", \"leopard\", \"snow leopard\", \"jaguar\", \"lion\", \"tiger\", \"cheetah\", \"brown bear\", \"American black bear\", \"polar bear\", \"sloth bear\", \"mongoose\", \"meerkat\", \"tiger beetle\", \"ladybug\", \"ground beetle\", \"longhorn beetle\", \"leaf beetle\", \"dung beetle\", \"rhinoceros beetle\", \"weevil\", \"fly\", \"bee\", \"ant\", \"grasshopper\", \"cricket insect\", \"stick insect\", \"cockroach\", \"praying mantis\", \"cicada\", \"leafhopper\", \"lacewing\", \"dragonfly\", \"damselfly\", \"red admiral butterfly\", \"ringlet butterfly\", \"monarch butterfly\", \"small white butterfly\", \"sulphur butterfly\", \"gossamer-winged butterfly\", \"starfish\", \"sea urchin\", \"sea cucumber\", \"cottontail rabbit\", \"hare\", \"Angora rabbit\", \"hamster\", \"porcupine\", \"fox squirrel\", \"marmot\", \"beaver\", \"guinea pig\", \"common sorrel horse\", \"zebra\", \"pig\", \"wild boar\", \"warthog\", \"hippopotamus\", \"ox\", \"water buffalo\", \"bison\", \"ram (adult male sheep)\", \"bighorn sheep\", \"Alpine ibex\", \"hartebeest\", \"impala (antelope)\", \"gazelle\", \"arabian camel\", \"llama\", \"weasel\", \"mink\", \"European polecat\", \"black-footed ferret\", \"otter\", \"skunk\", \"badger\", \"armadillo\", \"three-toed sloth\", \"orangutan\", \"gorilla\", \"chimpanzee\", \"gibbon\", \"siamang\", \"guenon\", \"patas monkey\", \"baboon\", \"macaque\", \"langur\", \"black-and-white colobus\", \"proboscis monkey\", \"marmoset\", \"white-headed capuchin\", \"howler monkey\", \"titi monkey\", \"Geoffroy's spider monkey\", \"common squirrel monkey\", \"ring-tailed lemur\", \"indri\", \"Asian elephant\", \"African bush elephant\", \"red panda\", \"giant panda\", \"snoek fish\", \"eel\", \"silver salmon\", \"rock beauty fish\", \"clownfish\", \"sturgeon\", \"gar fish\", \"lionfish\", \"pufferfish\", \"abacus\", \"abaya\", \"academic gown\", \"accordion\", \"acoustic guitar\", \"aircraft carrier\", \"airliner\", \"airship\", \"altar\", \"ambulance\", \"amphibious vehicle\", \"analog clock\", \"apiary\", \"apron\", \"trash can\", \"assault rifle\", \"backpack\", \"bakery\", \"balance beam\", \"balloon\", \"ballpoint pen\", \"Band-Aid\", \"banjo\", \"baluster / handrail\", \"barbell\", \"barber chair\", \"barbershop\", \"barn\", \"barometer\", \"barrel\", \"wheelbarrow\", \"baseball\", \"basketball\", \"bassinet\", \"bassoon\", \"swimming cap\", \"bath towel\", \"bathtub\", \"station wagon\", \"lighthouse\", \"beaker\", \"military hat (bearskin or shako)\", \"beer bottle\", \"beer glass\", \"bell tower\", \"baby bib\", \"tandem bicycle\", \"bikini\", \"ring binder\", \"binoculars\", \"birdhouse\", \"boathouse\", \"bobsleigh\", \"bolo tie\", \"poke bonnet\", \"bookcase\", \"bookstore\", \"bottle cap\", \"hunting bow\", \"bow tie\", \"brass memorial plaque\", \"bra\", \"breakwater\", \"breastplate\", \"broom\", \"bucket\", \"buckle\", \"bulletproof vest\", \"high-speed train\", \"butcher shop\", \"taxicab\", \"cauldron\", \"candle\", \"cannon\", \"canoe\", \"can opener\", \"cardigan\", \"car mirror\", \"carousel\", \"tool kit\", \"cardboard box / carton\", \"car wheel\", \"automated teller machine\", \"cassette\", \"cassette player\", \"castle\", \"catamaran\", \"CD player\", \"cello\", \"mobile phone\", \"chain\", \"chain-link fence\", \"chain mail\", \"chainsaw\", \"storage chest\", \"chiffonier\", \"bell or wind chime\", \"china cabinet\", \"Christmas stocking\", \"church\", \"movie theater\", \"cleaver\", \"cliff dwelling\", \"cloak\", \"clogs\", \"cocktail shaker\", \"coffee mug\", \"coffeemaker\", \"spiral or coil\", \"combination lock\", \"computer keyboard\", \"candy store\", \"container ship\", \"convertible\", \"corkscrew\", \"cornet\", \"cowboy boot\", \"cowboy hat\", \"cradle\", \"construction crane\", \"crash helmet\", \"crate\", \"infant bed\", \"Crock Pot\", \"croquet ball\", \"crutch\", \"cuirass\", \"dam\", \"desk\", \"desktop computer\", \"rotary dial telephone\", \"diaper\", \"digital clock\", \"digital watch\", \"dining table\", \"dishcloth\", \"dishwasher\", \"disc brake\", \"dock\", \"dog sled\", \"dome\", \"doormat\", \"drilling rig\", \"drum\", \"drumstick\", \"dumbbell\", \"Dutch oven\", \"electric fan\", \"electric guitar\", \"electric locomotive\", \"entertainment center\", \"envelope\", \"espresso machine\", \"face powder\", \"feather boa\", \"filing cabinet\", \"fireboat\", \"fire truck\", \"fire screen\", \"flagpole\", \"flute\", \"folding chair\", \"football helmet\", \"forklift\", \"fountain\", \"fountain pen\", \"four-poster bed\", \"freight car\", \"French horn\", \"frying pan\", \"fur coat\", \"garbage truck\", \"gas mask or respirator\", \"gas pump\", \"goblet\", \"go-kart\", \"golf ball\", \"golf cart\", \"gondola\", \"gong\", \"gown\", \"grand piano\", \"greenhouse\", \"radiator grille\", \"grocery store\", \"guillotine\", \"hair clip\", \"hair spray\", \"half-track\", \"hammer\", \"hamper\", \"hair dryer\", \"hand-held computer\", \"handkerchief\", \"hard disk drive\", \"harmonica\", \"harp\", \"combine harvester\", \"hatchet\", \"holster\", \"home theater\", \"honeycomb\", \"hook\", \"hoop skirt\", \"gymnastic horizontal bar\", \"horse-drawn vehicle\", \"hourglass\", \"iPod\", \"clothes iron\", \"carved pumpkin\", \"jeans\", \"jeep\", \"T-shirt\", \"jigsaw puzzle\", \"rickshaw\", \"joystick\", \"kimono\", \"knee pad\", \"knot\", \"lab coat\", \"ladle\", \"lampshade\", \"laptop computer\", \"lawn mower\", \"lens cap\", \"letter opener\", \"library\", \"lifeboat\", \"lighter\", \"limousine\", \"ocean liner\", \"lipstick\", \"slip-on shoe\", \"lotion\", \"music speaker\", \"loupe magnifying glass\", \"sawmill\", \"magnetic compass\", \"messenger bag\", \"mailbox\", \"tights\", \"one-piece bathing suit\", \"manhole cover\", \"maraca\", \"marimba\", \"mask\", \"matchstick\", \"maypole\", \"maze\", \"measuring cup\", \"medicine cabinet\", \"megalith\", \"microphone\", \"microwave oven\", \"military uniform\", \"milk can\", \"minibus\", \"miniskirt\", \"minivan\", \"missile\", \"mitten\", \"mixing bowl\", \"mobile home\", \"ford model t\", \"modem\", \"monastery\", \"monitor\", \"moped\", \"mortar and pestle\", \"graduation cap\", \"mosque\", \"mosquito net\", \"vespa\", \"mountain bike\", \"tent\", \"computer mouse\", \"mousetrap\", \"moving van\", \"muzzle\", \"metal nail\", \"neck brace\", \"necklace\", \"baby pacifier\", \"notebook computer\", \"obelisk\", \"oboe\", \"ocarina\", \"odometer\", \"oil filter\", \"pipe organ\", \"oscilloscope\", \"overskirt\", \"bullock cart\", \"oxygen mask\", \"product packet / packaging\", \"paddle\", \"paddle wheel\", \"padlock\", \"paintbrush\", \"pajamas\", \"palace\", \"pan flute\", \"paper towel\", \"parachute\", \"parallel bars\", \"park bench\", \"parking meter\", \"railroad car\", \"patio\", \"payphone\", \"pedestal\", \"pencil case\", \"pencil sharpener\", \"perfume\", \"Petri dish\", \"photocopier\", \"plectrum\", \"Pickelhaube\", \"picket fence\", \"pickup truck\", \"pier\", \"piggy bank\", \"pill bottle\", \"pillow\", \"ping-pong ball\", \"pinwheel\", \"pirate ship\", \"drink pitcher\", \"block plane\", \"planetarium\", \"plastic bag\", \"plate rack\", \"farm plow\", \"plunger\", \"Polaroid camera\", \"pole\", \"police van\", \"poncho\", \"pool table\", \"soda bottle\", \"plant pot\", \"potter's wheel\", \"power drill\", \"prayer rug\", \"printer\", \"prison\", \"missile\", \"projector\", \"hockey puck\", \"punching bag\", \"purse\", \"quill\", \"quilt\", \"race car\", \"racket\", \"radiator\", \"radio\", \"radio telescope\", \"rain barrel\", \"recreational vehicle\", \"fishing casting reel\", \"reflex camera\", \"refrigerator\", \"remote control\", \"restaurant\", \"revolver\", \"rifle\", \"rocking chair\", \"rotisserie\", \"eraser\", \"rugby ball\", \"ruler measuring stick\", \"sneaker\", \"safe\", \"safety pin\", \"salt shaker\", \"sandal\", \"sarong\", \"saxophone\", \"scabbard\", \"weighing scale\", \"school bus\", \"schooner\", \"scoreboard\", \"CRT monitor\", \"screw\", \"screwdriver\", \"seat belt\", \"sewing machine\", \"shield\", \"shoe store\", \"shoji screen / room divider\", \"shopping basket\", \"shopping cart\", \"shovel\", \"shower cap\", \"shower curtain\", \"ski\", \"balaclava ski mask\", \"sleeping bag\", \"slide rule\", \"sliding door\", \"slot machine\", \"snorkel\", \"snowmobile\", \"snowplow\", \"soap dispenser\", \"soccer ball\", \"sock\", \"solar thermal collector\", \"sombrero\", \"soup bowl\", \"keyboard space bar\", \"space heater\", \"space shuttle\", \"spatula\", \"motorboat\", \"spider web\", \"spindle\", \"sports car\", \"spotlight\", \"stage\", \"steam locomotive\", \"through arch bridge\", \"steel drum\", \"stethoscope\", \"scarf\", \"stone wall\", \"stopwatch\", \"stove\", \"strainer\", \"tram\", \"stretcher\", \"couch\", \"stupa\", \"submarine\", \"suit\", \"sundial\", \"sunglasses\", \"sunglasses\", \"sunscreen\", \"suspension bridge\", \"mop\", \"sweatshirt\", \"swim trunks / shorts\", \"swing\", \"electrical switch\", \"syringe\", \"table lamp\", \"tank\", \"tape player\", \"teapot\", \"teddy bear\", \"television\", \"tennis ball\", \"thatched roof\", \"front curtain\", \"thimble\", \"threshing machine\", \"throne\", \"tile roof\", \"toaster\", \"tobacco shop\", \"toilet seat\", \"torch\", \"totem pole\", \"tow truck\", \"toy store\", \"tractor\", \"semi-trailer truck\", \"tray\", \"trench coat\", \"tricycle\", \"trimaran\", \"tripod\", \"triumphal arch\", \"trolleybus\", \"trombone\", \"hot tub\", \"turnstile\", \"typewriter keyboard\", \"umbrella\", \"unicycle\", \"upright piano\", \"vacuum cleaner\", \"vase\", \"vaulted or arched ceiling\", \"velvet fabric\", \"vending machine\", \"vestment\", \"viaduct\", \"violin\", \"volleyball\", \"waffle iron\", \"wall clock\", \"wallet\", \"wardrobe\", \"military aircraft\", \"sink\", \"washing machine\", \"water bottle\", \"water jug\", \"water tower\", \"whiskey jug\", \"whistle\", \"hair wig\", \"window screen\", \"window shade\", \"Windsor tie\", \"wine bottle\", \"airplane wing\", \"wok\", \"wooden spoon\", \"wool\", \"split-rail fence\", \"shipwreck\", \"sailboat\", \"yurt\", \"website\", \"comic book\", \"crossword\", \"traffic or street sign\", \"traffic light\", \"dust jacket\", \"menu\", \"plate\", \"guacamole\", \"consomme\", \"hot pot\", \"trifle\", \"ice cream\", \"popsicle\", \"baguette\", \"bagel\", \"pretzel\", \"cheeseburger\", \"hot dog\", \"mashed potatoes\", \"cabbage\", \"broccoli\", \"cauliflower\", \"zucchini\", \"spaghetti squash\", \"acorn squash\", \"butternut squash\", \"cucumber\", \"artichoke\", \"bell pepper\", \"cardoon\", \"mushroom\", \"Granny Smith apple\", \"strawberry\", \"orange\", \"lemon\", \"fig\", \"pineapple\", \"banana\", \"jackfruit\", \"cherimoya (custard apple)\", \"pomegranate\", \"hay\", \"carbonara\", \"chocolate syrup\", \"dough\", \"meatloaf\", \"pizza\", \"pot pie\", \"burrito\", \"red wine\", \"espresso\", \"tea cup\", \"eggnog\", \"mountain\", \"bubble\", \"cliff\", \"coral reef\", \"geyser\", \"lakeshore\", \"promontory\", \"sandbar\", \"beach\", \"valley\", \"volcano\", \"baseball player\", \"bridegroom\", \"scuba diver\", \"rapeseed\", \"daisy\", \"yellow lady's slipper\", \"corn\", \"acorn\", \"rose hip\", \"horse chestnut seed\", \"coral fungus\", \"agaric\", \"gyromitra\", \"stinkhorn mushroom\", \"earth star fungus\", \"hen of the woods mushroom\", \"bolete\", \"corn cob\", \"toilet paper\"]\n"
   ]
  },
  {
   "cell_type": "code",
   "execution_count": 120,
   "metadata": {},
   "outputs": [
    {
     "name": "stdout",
     "output_type": "stream",
     "text": [
      "1000 classes, 80 templates\n"
     ]
    }
   ],
   "source": [
    "imagenet_templates = [\n",
    "    'a bad photo of a {}.',\n",
    "    'a photo of many {}.',\n",
    "    'a sculpture of a {}.',\n",
    "    'a photo of the hard to see {}.',\n",
    "    'a low resolution photo of the {}.',\n",
    "    'a rendering of a {}.',\n",
    "    'graffiti of a {}.',\n",
    "    'a bad photo of the {}.',\n",
    "    'a cropped photo of the {}.',\n",
    "    'a tattoo of a {}.',\n",
    "    'the embroidered {}.',\n",
    "    'a photo of a hard to see {}.',\n",
    "    'a bright photo of a {}.',\n",
    "    'a photo of a clean {}.',\n",
    "    'a photo of a dirty {}.',\n",
    "    'a dark photo of the {}.',\n",
    "    'a drawing of a {}.',\n",
    "    'a photo of my {}.',\n",
    "    'the plastic {}.',\n",
    "    'a photo of the cool {}.',\n",
    "    'a close-up photo of a {}.',\n",
    "    'a black and white photo of the {}.',\n",
    "    'a painting of the {}.',\n",
    "    'a painting of a {}.',\n",
    "    'a pixelated photo of the {}.',\n",
    "    'a sculpture of the {}.',\n",
    "    'a bright photo of the {}.',\n",
    "    'a cropped photo of a {}.',\n",
    "    'a plastic {}.',\n",
    "    'a photo of the dirty {}.',\n",
    "    'a jpeg corrupted photo of a {}.',\n",
    "    'a blurry photo of the {}.',\n",
    "    'a photo of the {}.',\n",
    "    'a good photo of the {}.',\n",
    "    'a rendering of the {}.',\n",
    "    'a {} in a video game.',\n",
    "    'a photo of one {}.',\n",
    "    'a doodle of a {}.',\n",
    "    'a close-up photo of the {}.',\n",
    "    'a photo of a {}.',\n",
    "    'the origami {}.',\n",
    "    'the {} in a video game.',\n",
    "    'a sketch of a {}.',\n",
    "    'a doodle of the {}.',\n",
    "    'a origami {}.',\n",
    "    'a low resolution photo of a {}.',\n",
    "    'the toy {}.',\n",
    "    'a rendition of the {}.',\n",
    "    'a photo of the clean {}.',\n",
    "    'a photo of a large {}.',\n",
    "    'a rendition of a {}.',\n",
    "    'a photo of a nice {}.',\n",
    "    'a photo of a weird {}.',\n",
    "    'a blurry photo of a {}.',\n",
    "    'a cartoon {}.',\n",
    "    'art of a {}.',\n",
    "    'a sketch of the {}.',\n",
    "    'a embroidered {}.',\n",
    "    'a pixelated photo of a {}.',\n",
    "    'itap of the {}.',\n",
    "    'a jpeg corrupted photo of the {}.',\n",
    "    'a good photo of a {}.',\n",
    "    'a plushie {}.',\n",
    "    'a photo of the nice {}.',\n",
    "    'a photo of the small {}.',\n",
    "    'a photo of the weird {}.',\n",
    "    'the cartoon {}.',\n",
    "    'art of the {}.',\n",
    "    'a drawing of the {}.',\n",
    "    'a photo of the large {}.',\n",
    "    'a black and white photo of a {}.',\n",
    "    'the plushie {}.',\n",
    "    'a dark photo of a {}.',\n",
    "    'itap of a {}.',\n",
    "    'graffiti of the {}.',\n",
    "    'a toy {}.',\n",
    "    'itap of my {}.',\n",
    "    'a photo of a cool {}.',\n",
    "    'a photo of a small {}.',\n",
    "    'a tattoo of the {}.',\n",
    "]\n",
    "\n",
    "print(f\"{len(imagenet_classes)} classes, {len(imagenet_templates)} templates\")"
   ]
  },
  {
   "cell_type": "code",
   "execution_count": 13,
   "metadata": {},
   "outputs": [
    {
     "ename": "NameError",
     "evalue": "name 'test_loader_gray' is not defined",
     "output_type": "error",
     "traceback": [
      "\u001b[0;31m---------------------------------------------------------------------------\u001b[0m",
      "\u001b[0;31mNameError\u001b[0m                                 Traceback (most recent call last)",
      "Cell \u001b[0;32mIn [13], line 1\u001b[0m\n\u001b[0;32m----> 1\u001b[0m \u001b[39mnext\u001b[39m(\u001b[39miter\u001b[39m(test_loader_gray))\n",
      "\u001b[0;31mNameError\u001b[0m: name 'test_loader_gray' is not defined"
     ]
    }
   ],
   "source": [
    "next(iter(test_loader_gray))"
   ]
  },
  {
   "cell_type": "code",
   "execution_count": 156,
   "metadata": {},
   "outputs": [
    {
     "name": "stdout",
     "output_type": "stream",
     "text": [
      "Torch version: 1.13.0a0+d0d6b1f\n"
     ]
    }
   ],
   "source": [
    "import numpy as np\n",
    "import torch\n",
    "import clip\n",
    "from tqdm.notebook import tqdm\n",
    "from pkg_resources import packaging\n",
    "\n",
    "print(\"Torch version:\", torch.__version__)"
   ]
  },
  {
   "cell_type": "code",
   "execution_count": 157,
   "metadata": {},
   "outputs": [
    {
     "data": {
      "text/plain": [
       "['RN50',\n",
       " 'RN101',\n",
       " 'RN50x4',\n",
       " 'RN50x16',\n",
       " 'RN50x64',\n",
       " 'ViT-B/32',\n",
       " 'ViT-B/16',\n",
       " 'ViT-L/14',\n",
       " 'ViT-L/14@336px']"
      ]
     },
     "execution_count": 157,
     "metadata": {},
     "output_type": "execute_result"
    }
   ],
   "source": [
    "clip.available_models()\n"
   ]
  },
  {
   "cell_type": "code",
   "execution_count": 158,
   "metadata": {},
   "outputs": [],
   "source": [
    "model, preprocess = clip.load(\"RN50\")\n"
   ]
  },
  {
   "cell_type": "code",
   "execution_count": 159,
   "metadata": {},
   "outputs": [],
   "source": [
    "imagenet_classes = [\"tench\", \"goldfish\", \"great white shark\", \"tiger shark\", \"hammerhead shark\", \"electric ray\", \"stingray\", \"rooster\", \"hen\", \"ostrich\", \"brambling\", \"goldfinch\", \"house finch\", \"junco\", \"indigo bunting\", \"American robin\", \"bulbul\", \"jay\", \"magpie\", \"chickadee\", \"American dipper\", \"kite (bird of prey)\", \"bald eagle\", \"vulture\", \"great grey owl\", \"fire salamander\", \"smooth newt\", \"newt\", \"spotted salamander\", \"axolotl\", \"American bullfrog\", \"tree frog\", \"tailed frog\", \"loggerhead sea turtle\", \"leatherback sea turtle\", \"mud turtle\", \"terrapin\", \"box turtle\", \"banded gecko\", \"green iguana\", \"Carolina anole\", \"desert grassland whiptail lizard\", \"agama\", \"frilled-necked lizard\", \"alligator lizard\", \"Gila monster\", \"European green lizard\", \"chameleon\", \"Komodo dragon\", \"Nile crocodile\", \"American alligator\", \"triceratops\", \"worm snake\", \"ring-necked snake\", \"eastern hog-nosed snake\", \"smooth green snake\", \"kingsnake\", \"garter snake\", \"water snake\", \"vine snake\", \"night snake\", \"boa constrictor\", \"African rock python\", \"Indian cobra\", \"green mamba\", \"sea snake\", \"Saharan horned viper\", \"eastern diamondback rattlesnake\", \"sidewinder rattlesnake\", \"trilobite\", \"harvestman\", \"scorpion\", \"yellow garden spider\", \"barn spider\", \"European garden spider\", \"southern black widow\", \"tarantula\", \"wolf spider\", \"tick\", \"centipede\", \"black grouse\", \"ptarmigan\", \"ruffed grouse\", \"prairie grouse\", \"peafowl\", \"quail\", \"partridge\", \"african grey parrot\", \"macaw\", \"sulphur-crested cockatoo\", \"lorikeet\", \"coucal\", \"bee eater\", \"hornbill\", \"hummingbird\", \"jacamar\", \"toucan\", \"duck\", \"red-breasted merganser\", \"goose\", \"black swan\", \"tusker\", \"echidna\", \"platypus\", \"wallaby\", \"koala\", \"wombat\", \"jellyfish\", \"sea anemone\", \"brain coral\", \"flatworm\", \"nematode\", \"conch\", \"snail\", \"slug\", \"sea slug\", \"chiton\", \"chambered nautilus\", \"Dungeness crab\", \"rock crab\", \"fiddler crab\", \"red king crab\", \"American lobster\", \"spiny lobster\", \"crayfish\", \"hermit crab\", \"isopod\", \"white stork\", \"black stork\", \"spoonbill\", \"flamingo\", \"little blue heron\", \"great egret\", \"bittern bird\", \"crane bird\", \"limpkin\", \"common gallinule\", \"American coot\", \"bustard\", \"ruddy turnstone\", \"dunlin\", \"common redshank\", \"dowitcher\", \"oystercatcher\", \"pelican\", \"king penguin\", \"albatross\", \"grey whale\", \"killer whale\", \"dugong\", \"sea lion\", \"Chihuahua\", \"Japanese Chin\", \"Maltese\", \"Pekingese\", \"Shih Tzu\", \"King Charles Spaniel\", \"Papillon\", \"toy terrier\", \"Rhodesian Ridgeback\", \"Afghan Hound\", \"Basset Hound\", \"Beagle\", \"Bloodhound\", \"Bluetick Coonhound\", \"Black and Tan Coonhound\", \"Treeing Walker Coonhound\", \"English foxhound\", \"Redbone Coonhound\", \"borzoi\", \"Irish Wolfhound\", \"Italian Greyhound\", \"Whippet\", \"Ibizan Hound\", \"Norwegian Elkhound\", \"Otterhound\", \"Saluki\", \"Scottish Deerhound\", \"Weimaraner\", \"Staffordshire Bull Terrier\", \"American Staffordshire Terrier\", \"Bedlington Terrier\", \"Border Terrier\", \"Kerry Blue Terrier\", \"Irish Terrier\", \"Norfolk Terrier\", \"Norwich Terrier\", \"Yorkshire Terrier\", \"Wire Fox Terrier\", \"Lakeland Terrier\", \"Sealyham Terrier\", \"Airedale Terrier\", \"Cairn Terrier\", \"Australian Terrier\", \"Dandie Dinmont Terrier\", \"Boston Terrier\", \"Miniature Schnauzer\", \"Giant Schnauzer\", \"Standard Schnauzer\", \"Scottish Terrier\", \"Tibetan Terrier\", \"Australian Silky Terrier\", \"Soft-coated Wheaten Terrier\", \"West Highland White Terrier\", \"Lhasa Apso\", \"Flat-Coated Retriever\", \"Curly-coated Retriever\", \"Golden Retriever\", \"Labrador Retriever\", \"Chesapeake Bay Retriever\", \"German Shorthaired Pointer\", \"Vizsla\", \"English Setter\", \"Irish Setter\", \"Gordon Setter\", \"Brittany dog\", \"Clumber Spaniel\", \"English Springer Spaniel\", \"Welsh Springer Spaniel\", \"Cocker Spaniel\", \"Sussex Spaniel\", \"Irish Water Spaniel\", \"Kuvasz\", \"Schipperke\", \"Groenendael dog\", \"Malinois\", \"Briard\", \"Australian Kelpie\", \"Komondor\", \"Old English Sheepdog\", \"Shetland Sheepdog\", \"collie\", \"Border Collie\", \"Bouvier des Flandres dog\", \"Rottweiler\", \"German Shepherd Dog\", \"Dobermann\", \"Miniature Pinscher\", \"Greater Swiss Mountain Dog\", \"Bernese Mountain Dog\", \"Appenzeller Sennenhund\", \"Entlebucher Sennenhund\", \"Boxer\", \"Bullmastiff\", \"Tibetan Mastiff\", \"French Bulldog\", \"Great Dane\", \"St. Bernard\", \"husky\", \"Alaskan Malamute\", \"Siberian Husky\", \"Dalmatian\", \"Affenpinscher\", \"Basenji\", \"pug\", \"Leonberger\", \"Newfoundland dog\", \"Great Pyrenees dog\", \"Samoyed\", \"Pomeranian\", \"Chow Chow\", \"Keeshond\", \"brussels griffon\", \"Pembroke Welsh Corgi\", \"Cardigan Welsh Corgi\", \"Toy Poodle\", \"Miniature Poodle\", \"Standard Poodle\", \"Mexican hairless dog (xoloitzcuintli)\", \"grey wolf\", \"Alaskan tundra wolf\", \"red wolf or maned wolf\", \"coyote\", \"dingo\", \"dhole\", \"African wild dog\", \"hyena\", \"red fox\", \"kit fox\", \"Arctic fox\", \"grey fox\", \"tabby cat\", \"tiger cat\", \"Persian cat\", \"Siamese cat\", \"Egyptian Mau\", \"cougar\", \"lynx\", \"leopard\", \"snow leopard\", \"jaguar\", \"lion\", \"tiger\", \"cheetah\", \"brown bear\", \"American black bear\", \"polar bear\", \"sloth bear\", \"mongoose\", \"meerkat\", \"tiger beetle\", \"ladybug\", \"ground beetle\", \"longhorn beetle\", \"leaf beetle\", \"dung beetle\", \"rhinoceros beetle\", \"weevil\", \"fly\", \"bee\", \"ant\", \"grasshopper\", \"cricket insect\", \"stick insect\", \"cockroach\", \"praying mantis\", \"cicada\", \"leafhopper\", \"lacewing\", \"dragonfly\", \"damselfly\", \"red admiral butterfly\", \"ringlet butterfly\", \"monarch butterfly\", \"small white butterfly\", \"sulphur butterfly\", \"gossamer-winged butterfly\", \"starfish\", \"sea urchin\", \"sea cucumber\", \"cottontail rabbit\", \"hare\", \"Angora rabbit\", \"hamster\", \"porcupine\", \"fox squirrel\", \"marmot\", \"beaver\", \"guinea pig\", \"common sorrel horse\", \"zebra\", \"pig\", \"wild boar\", \"warthog\", \"hippopotamus\", \"ox\", \"water buffalo\", \"bison\", \"ram (adult male sheep)\", \"bighorn sheep\", \"Alpine ibex\", \"hartebeest\", \"impala (antelope)\", \"gazelle\", \"arabian camel\", \"llama\", \"weasel\", \"mink\", \"European polecat\", \"black-footed ferret\", \"otter\", \"skunk\", \"badger\", \"armadillo\", \"three-toed sloth\", \"orangutan\", \"gorilla\", \"chimpanzee\", \"gibbon\", \"siamang\", \"guenon\", \"patas monkey\", \"baboon\", \"macaque\", \"langur\", \"black-and-white colobus\", \"proboscis monkey\", \"marmoset\", \"white-headed capuchin\", \"howler monkey\", \"titi monkey\", \"Geoffroy's spider monkey\", \"common squirrel monkey\", \"ring-tailed lemur\", \"indri\", \"Asian elephant\", \"African bush elephant\", \"red panda\", \"giant panda\", \"snoek fish\", \"eel\", \"silver salmon\", \"rock beauty fish\", \"clownfish\", \"sturgeon\", \"gar fish\", \"lionfish\", \"pufferfish\", \"abacus\", \"abaya\", \"academic gown\", \"accordion\", \"acoustic guitar\", \"aircraft carrier\", \"airliner\", \"airship\", \"altar\", \"ambulance\", \"amphibious vehicle\", \"analog clock\", \"apiary\", \"apron\", \"trash can\", \"assault rifle\", \"backpack\", \"bakery\", \"balance beam\", \"balloon\", \"ballpoint pen\", \"Band-Aid\", \"banjo\", \"baluster / handrail\", \"barbell\", \"barber chair\", \"barbershop\", \"barn\", \"barometer\", \"barrel\", \"wheelbarrow\", \"baseball\", \"basketball\", \"bassinet\", \"bassoon\", \"swimming cap\", \"bath towel\", \"bathtub\", \"station wagon\", \"lighthouse\", \"beaker\", \"military hat (bearskin or shako)\", \"beer bottle\", \"beer glass\", \"bell tower\", \"baby bib\", \"tandem bicycle\", \"bikini\", \"ring binder\", \"binoculars\", \"birdhouse\", \"boathouse\", \"bobsleigh\", \"bolo tie\", \"poke bonnet\", \"bookcase\", \"bookstore\", \"bottle cap\", \"hunting bow\", \"bow tie\", \"brass memorial plaque\", \"bra\", \"breakwater\", \"breastplate\", \"broom\", \"bucket\", \"buckle\", \"bulletproof vest\", \"high-speed train\", \"butcher shop\", \"taxicab\", \"cauldron\", \"candle\", \"cannon\", \"canoe\", \"can opener\", \"cardigan\", \"car mirror\", \"carousel\", \"tool kit\", \"cardboard box / carton\", \"car wheel\", \"automated teller machine\", \"cassette\", \"cassette player\", \"castle\", \"catamaran\", \"CD player\", \"cello\", \"mobile phone\", \"chain\", \"chain-link fence\", \"chain mail\", \"chainsaw\", \"storage chest\", \"chiffonier\", \"bell or wind chime\", \"china cabinet\", \"Christmas stocking\", \"church\", \"movie theater\", \"cleaver\", \"cliff dwelling\", \"cloak\", \"clogs\", \"cocktail shaker\", \"coffee mug\", \"coffeemaker\", \"spiral or coil\", \"combination lock\", \"computer keyboard\", \"candy store\", \"container ship\", \"convertible\", \"corkscrew\", \"cornet\", \"cowboy boot\", \"cowboy hat\", \"cradle\", \"construction crane\", \"crash helmet\", \"crate\", \"infant bed\", \"Crock Pot\", \"croquet ball\", \"crutch\", \"cuirass\", \"dam\", \"desk\", \"desktop computer\", \"rotary dial telephone\", \"diaper\", \"digital clock\", \"digital watch\", \"dining table\", \"dishcloth\", \"dishwasher\", \"disc brake\", \"dock\", \"dog sled\", \"dome\", \"doormat\", \"drilling rig\", \"drum\", \"drumstick\", \"dumbbell\", \"Dutch oven\", \"electric fan\", \"electric guitar\", \"electric locomotive\", \"entertainment center\", \"envelope\", \"espresso machine\", \"face powder\", \"feather boa\", \"filing cabinet\", \"fireboat\", \"fire truck\", \"fire screen\", \"flagpole\", \"flute\", \"folding chair\", \"football helmet\", \"forklift\", \"fountain\", \"fountain pen\", \"four-poster bed\", \"freight car\", \"French horn\", \"frying pan\", \"fur coat\", \"garbage truck\", \"gas mask or respirator\", \"gas pump\", \"goblet\", \"go-kart\", \"golf ball\", \"golf cart\", \"gondola\", \"gong\", \"gown\", \"grand piano\", \"greenhouse\", \"radiator grille\", \"grocery store\", \"guillotine\", \"hair clip\", \"hair spray\", \"half-track\", \"hammer\", \"hamper\", \"hair dryer\", \"hand-held computer\", \"handkerchief\", \"hard disk drive\", \"harmonica\", \"harp\", \"combine harvester\", \"hatchet\", \"holster\", \"home theater\", \"honeycomb\", \"hook\", \"hoop skirt\", \"gymnastic horizontal bar\", \"horse-drawn vehicle\", \"hourglass\", \"iPod\", \"clothes iron\", \"carved pumpkin\", \"jeans\", \"jeep\", \"T-shirt\", \"jigsaw puzzle\", \"rickshaw\", \"joystick\", \"kimono\", \"knee pad\", \"knot\", \"lab coat\", \"ladle\", \"lampshade\", \"laptop computer\", \"lawn mower\", \"lens cap\", \"letter opener\", \"library\", \"lifeboat\", \"lighter\", \"limousine\", \"ocean liner\", \"lipstick\", \"slip-on shoe\", \"lotion\", \"music speaker\", \"loupe magnifying glass\", \"sawmill\", \"magnetic compass\", \"messenger bag\", \"mailbox\", \"tights\", \"one-piece bathing suit\", \"manhole cover\", \"maraca\", \"marimba\", \"mask\", \"matchstick\", \"maypole\", \"maze\", \"measuring cup\", \"medicine cabinet\", \"megalith\", \"microphone\", \"microwave oven\", \"military uniform\", \"milk can\", \"minibus\", \"miniskirt\", \"minivan\", \"missile\", \"mitten\", \"mixing bowl\", \"mobile home\", \"ford model t\", \"modem\", \"monastery\", \"monitor\", \"moped\", \"mortar and pestle\", \"graduation cap\", \"mosque\", \"mosquito net\", \"vespa\", \"mountain bike\", \"tent\", \"computer mouse\", \"mousetrap\", \"moving van\", \"muzzle\", \"metal nail\", \"neck brace\", \"necklace\", \"baby pacifier\", \"notebook computer\", \"obelisk\", \"oboe\", \"ocarina\", \"odometer\", \"oil filter\", \"pipe organ\", \"oscilloscope\", \"overskirt\", \"bullock cart\", \"oxygen mask\", \"product packet / packaging\", \"paddle\", \"paddle wheel\", \"padlock\", \"paintbrush\", \"pajamas\", \"palace\", \"pan flute\", \"paper towel\", \"parachute\", \"parallel bars\", \"park bench\", \"parking meter\", \"railroad car\", \"patio\", \"payphone\", \"pedestal\", \"pencil case\", \"pencil sharpener\", \"perfume\", \"Petri dish\", \"photocopier\", \"plectrum\", \"Pickelhaube\", \"picket fence\", \"pickup truck\", \"pier\", \"piggy bank\", \"pill bottle\", \"pillow\", \"ping-pong ball\", \"pinwheel\", \"pirate ship\", \"drink pitcher\", \"block plane\", \"planetarium\", \"plastic bag\", \"plate rack\", \"farm plow\", \"plunger\", \"Polaroid camera\", \"pole\", \"police van\", \"poncho\", \"pool table\", \"soda bottle\", \"plant pot\", \"potter's wheel\", \"power drill\", \"prayer rug\", \"printer\", \"prison\", \"missile\", \"projector\", \"hockey puck\", \"punching bag\", \"purse\", \"quill\", \"quilt\", \"race car\", \"racket\", \"radiator\", \"radio\", \"radio telescope\", \"rain barrel\", \"recreational vehicle\", \"fishing casting reel\", \"reflex camera\", \"refrigerator\", \"remote control\", \"restaurant\", \"revolver\", \"rifle\", \"rocking chair\", \"rotisserie\", \"eraser\", \"rugby ball\", \"ruler measuring stick\", \"sneaker\", \"safe\", \"safety pin\", \"salt shaker\", \"sandal\", \"sarong\", \"saxophone\", \"scabbard\", \"weighing scale\", \"school bus\", \"schooner\", \"scoreboard\", \"CRT monitor\", \"screw\", \"screwdriver\", \"seat belt\", \"sewing machine\", \"shield\", \"shoe store\", \"shoji screen / room divider\", \"shopping basket\", \"shopping cart\", \"shovel\", \"shower cap\", \"shower curtain\", \"ski\", \"balaclava ski mask\", \"sleeping bag\", \"slide rule\", \"sliding door\", \"slot machine\", \"snorkel\", \"snowmobile\", \"snowplow\", \"soap dispenser\", \"soccer ball\", \"sock\", \"solar thermal collector\", \"sombrero\", \"soup bowl\", \"keyboard space bar\", \"space heater\", \"space shuttle\", \"spatula\", \"motorboat\", \"spider web\", \"spindle\", \"sports car\", \"spotlight\", \"stage\", \"steam locomotive\", \"through arch bridge\", \"steel drum\", \"stethoscope\", \"scarf\", \"stone wall\", \"stopwatch\", \"stove\", \"strainer\", \"tram\", \"stretcher\", \"couch\", \"stupa\", \"submarine\", \"suit\", \"sundial\", \"sunglasses\", \"sunglasses\", \"sunscreen\", \"suspension bridge\", \"mop\", \"sweatshirt\", \"swim trunks / shorts\", \"swing\", \"electrical switch\", \"syringe\", \"table lamp\", \"tank\", \"tape player\", \"teapot\", \"teddy bear\", \"television\", \"tennis ball\", \"thatched roof\", \"front curtain\", \"thimble\", \"threshing machine\", \"throne\", \"tile roof\", \"toaster\", \"tobacco shop\", \"toilet seat\", \"torch\", \"totem pole\", \"tow truck\", \"toy store\", \"tractor\", \"semi-trailer truck\", \"tray\", \"trench coat\", \"tricycle\", \"trimaran\", \"tripod\", \"triumphal arch\", \"trolleybus\", \"trombone\", \"hot tub\", \"turnstile\", \"typewriter keyboard\", \"umbrella\", \"unicycle\", \"upright piano\", \"vacuum cleaner\", \"vase\", \"vaulted or arched ceiling\", \"velvet fabric\", \"vending machine\", \"vestment\", \"viaduct\", \"violin\", \"volleyball\", \"waffle iron\", \"wall clock\", \"wallet\", \"wardrobe\", \"military aircraft\", \"sink\", \"washing machine\", \"water bottle\", \"water jug\", \"water tower\", \"whiskey jug\", \"whistle\", \"hair wig\", \"window screen\", \"window shade\", \"Windsor tie\", \"wine bottle\", \"airplane wing\", \"wok\", \"wooden spoon\", \"wool\", \"split-rail fence\", \"shipwreck\", \"sailboat\", \"yurt\", \"website\", \"comic book\", \"crossword\", \"traffic or street sign\", \"traffic light\", \"dust jacket\", \"menu\", \"plate\", \"guacamole\", \"consomme\", \"hot pot\", \"trifle\", \"ice cream\", \"popsicle\", \"baguette\", \"bagel\", \"pretzel\", \"cheeseburger\", \"hot dog\", \"mashed potatoes\", \"cabbage\", \"broccoli\", \"cauliflower\", \"zucchini\", \"spaghetti squash\", \"acorn squash\", \"butternut squash\", \"cucumber\", \"artichoke\", \"bell pepper\", \"cardoon\", \"mushroom\", \"Granny Smith apple\", \"strawberry\", \"orange\", \"lemon\", \"fig\", \"pineapple\", \"banana\", \"jackfruit\", \"cherimoya (custard apple)\", \"pomegranate\", \"hay\", \"carbonara\", \"chocolate syrup\", \"dough\", \"meatloaf\", \"pizza\", \"pot pie\", \"burrito\", \"red wine\", \"espresso\", \"tea cup\", \"eggnog\", \"mountain\", \"bubble\", \"cliff\", \"coral reef\", \"geyser\", \"lakeshore\", \"promontory\", \"sandbar\", \"beach\", \"valley\", \"volcano\", \"baseball player\", \"bridegroom\", \"scuba diver\", \"rapeseed\", \"daisy\", \"yellow lady's slipper\", \"corn\", \"acorn\", \"rose hip\", \"horse chestnut seed\", \"coral fungus\", \"agaric\", \"gyromitra\", \"stinkhorn mushroom\", \"earth star fungus\", \"hen of the woods mushroom\", \"bolete\", \"corn cob\", \"toilet paper\"]"
   ]
  },
  {
   "cell_type": "code",
   "execution_count": 160,
   "metadata": {},
   "outputs": [
    {
     "name": "stdout",
     "output_type": "stream",
     "text": [
      "1000 classes, 80 templates\n"
     ]
    }
   ],
   "source": [
    "imagenet_templates = [\n",
    "    'a bad photo of a {}.',\n",
    "    'a photo of many {}.',\n",
    "    'a sculpture of a {}.',\n",
    "    'a photo of the hard to see {}.',\n",
    "    'a low resolution photo of the {}.',\n",
    "    'a rendering of a {}.',\n",
    "    'graffiti of a {}.',\n",
    "    'a bad photo of the {}.',\n",
    "    'a cropped photo of the {}.',\n",
    "    'a tattoo of a {}.',\n",
    "    'the embroidered {}.',\n",
    "    'a photo of a hard to see {}.',\n",
    "    'a bright photo of a {}.',\n",
    "    'a photo of a clean {}.',\n",
    "    'a photo of a dirty {}.',\n",
    "    'a dark photo of the {}.',\n",
    "    'a drawing of a {}.',\n",
    "    'a photo of my {}.',\n",
    "    'the plastic {}.',\n",
    "    'a photo of the cool {}.',\n",
    "    'a close-up photo of a {}.',\n",
    "    'a black and white photo of the {}.',\n",
    "    'a painting of the {}.',\n",
    "    'a painting of a {}.',\n",
    "    'a pixelated photo of the {}.',\n",
    "    'a sculpture of the {}.',\n",
    "    'a bright photo of the {}.',\n",
    "    'a cropped photo of a {}.',\n",
    "    'a plastic {}.',\n",
    "    'a photo of the dirty {}.',\n",
    "    'a jpeg corrupted photo of a {}.',\n",
    "    'a blurry photo of the {}.',\n",
    "    'a photo of the {}.',\n",
    "    'a good photo of the {}.',\n",
    "    'a rendering of the {}.',\n",
    "    'a {} in a video game.',\n",
    "    'a photo of one {}.',\n",
    "    'a doodle of a {}.',\n",
    "    'a close-up photo of the {}.',\n",
    "    'a photo of a {}.',\n",
    "    'the origami {}.',\n",
    "    'the {} in a video game.',\n",
    "    'a sketch of a {}.',\n",
    "    'a doodle of the {}.',\n",
    "    'a origami {}.',\n",
    "    'a low resolution photo of a {}.',\n",
    "    'the toy {}.',\n",
    "    'a rendition of the {}.',\n",
    "    'a photo of the clean {}.',\n",
    "    'a photo of a large {}.',\n",
    "    'a rendition of a {}.',\n",
    "    'a photo of a nice {}.',\n",
    "    'a photo of a weird {}.',\n",
    "    'a blurry photo of a {}.',\n",
    "    'a cartoon {}.',\n",
    "    'art of a {}.',\n",
    "    'a sketch of the {}.',\n",
    "    'a embroidered {}.',\n",
    "    'a pixelated photo of a {}.',\n",
    "    'itap of the {}.',\n",
    "    'a jpeg corrupted photo of the {}.',\n",
    "    'a good photo of a {}.',\n",
    "    'a plushie {}.',\n",
    "    'a photo of the nice {}.',\n",
    "    'a photo of the small {}.',\n",
    "    'a photo of the weird {}.',\n",
    "    'the cartoon {}.',\n",
    "    'art of the {}.',\n",
    "    'a drawing of the {}.',\n",
    "    'a photo of the large {}.',\n",
    "    'a black and white photo of a {}.',\n",
    "    'the plushie {}.',\n",
    "    'a dark photo of a {}.',\n",
    "    'itap of a {}.',\n",
    "    'graffiti of the {}.',\n",
    "    'a toy {}.',\n",
    "    'itap of my {}.',\n",
    "    'a photo of a cool {}.',\n",
    "    'a photo of a small {}.',\n",
    "    'a tattoo of the {}.',\n",
    "]\n",
    "\n",
    "print(f\"{len(imagenet_classes)} classes, {len(imagenet_templates)} templates\")"
   ]
  },
  {
   "cell_type": "code",
   "execution_count": 161,
   "metadata": {},
   "outputs": [],
   "source": [
    "from imagenetv2_pytorch import ImageNetV2Dataset\n",
    "\n",
    "images = ImageNetV2Dataset(transform=preprocess)\n",
    "loader = torch.utils.data.DataLoader(images, batch_size=32, num_workers=2)"
   ]
  },
  {
   "cell_type": "code",
   "execution_count": 170,
   "metadata": {},
   "outputs": [
    {
     "data": {
      "application/vnd.jupyter.widget-view+json": {
       "model_id": "1c216c6c5d82431ab2fa7459eec8475d",
       "version_major": 2,
       "version_minor": 0
      },
      "text/plain": [
       "  0%|          | 0/1000 [00:00<?, ?it/s]"
      ]
     },
     "metadata": {},
     "output_type": "display_data"
    }
   ],
   "source": [
    "def zeroshot_classifier(classnames, templates):\n",
    "    with torch.no_grad():\n",
    "        zeroshot_weights = []\n",
    "        for classname in tqdm(classnames):\n",
    "            texts = [template.format(classname) for template in templates] #format with class\n",
    "            texts = clip.tokenize(texts).cuda() #tokenize\n",
    "            class_embeddings = model.encode_text(texts) #embed with text encoder\n",
    "            class_embeddings /= class_embeddings.norm(dim=-1, keepdim=True)\n",
    "            class_embedding = class_embeddings#.mean(dim=0)\n",
    "            class_embedding /= class_embedding.norm()\n",
    "            zeroshot_weights.append(class_embedding)\n",
    "        zeroshot_weights = torch.stack(zeroshot_weights, dim=1).cuda()\n",
    "    return zeroshot_weights\n",
    "\n",
    "\n",
    "zeroshot_weights = zeroshot_classifier(imagenet_classes, imagenet_templates)"
   ]
  },
  {
   "cell_type": "code",
   "execution_count": 183,
   "metadata": {},
   "outputs": [
    {
     "data": {
      "text/plain": [
       "torch.Size([512])"
      ]
     },
     "execution_count": 183,
     "metadata": {},
     "output_type": "execute_result"
    }
   ],
   "source": [
    "with torch.no_grad():\n",
    "    zeroshot_weights = []\n",
    "    for classname in ['goldfish']:\n",
    "        texts = [template.format(classname) for template in imagenet_templates] #format with class\n",
    "        texts = clip.tokenize(texts).cuda() #tokenize\n",
    "        class_embeddings = model.encode_text(texts) #embed with text encoder\n",
    "        class_embeddings /= class_embeddings.norm(dim=-1, keepdim=True)\n",
    "        # class_embedding = class_embeddings.mean(dim=0)\n",
    "        # class_embedding /= class_embedding.norm()\n",
    "class_embedding.shape"
   ]
  },
  {
   "cell_type": "code",
   "execution_count": 166,
   "metadata": {},
   "outputs": [],
   "source": [
    "def accuracy(output, target, topk=(1,)):\n",
    "    pred = output.topk(max(topk), 1, True, True)[1].t()\n",
    "    correct = pred.eq(target.view(1, -1).expand_as(pred))\n",
    "    return [float(correct[:k].reshape(-1).float().sum(0, keepdim=True).cpu().numpy()) for k in topk]"
   ]
  },
  {
   "cell_type": "code",
   "execution_count": null,
   "metadata": {},
   "outputs": [],
   "source": [
    "with torch.no_grad():\n",
    "    top1, top5, n = 0., 0., 0.\n",
    "    for i, (images, target) in enumerate(tqdm(loader)):\n",
    "        images = images.cuda()\n",
    "        target = target.cuda()\n",
    "        \n",
    "        # predict\n",
    "        image_features = model.encode_image(images)\n",
    "        image_features /= image_features.norm(dim=-1, keepdim=True)\n",
    "        logits = 100. * image_features @ zeroshot_weights\n",
    "\n",
    "        # measure accuracy\n",
    "        acc1, acc5 = accuracy(logits, target, topk=(1, 5))\n",
    "        top1 += acc1\n",
    "        top5 += acc5\n",
    "        n += images.size(0)\n",
    "\n",
    "top1 = (top1 / n) * 100\n",
    "top5 = (top5 / n) * 100 \n",
    "\n",
    "print(f\"Top-1 accuracy: {top1:.2f}\")\n",
    "print(f\"Top-5 accuracy: {top5:.2f}\")"
   ]
  },
  {
   "cell_type": "code",
   "execution_count": 168,
   "metadata": {},
   "outputs": [
    {
     "data": {
      "text/plain": [
       "torch.Size([16, 512])"
      ]
     },
     "execution_count": 168,
     "metadata": {},
     "output_type": "execute_result"
    }
   ],
   "source": [
    "image_features.shape"
   ]
  },
  {
   "cell_type": "code",
   "execution_count": 169,
   "metadata": {},
   "outputs": [
    {
     "data": {
      "text/plain": [
       "torch.Size([512, 1000])"
      ]
     },
     "execution_count": 169,
     "metadata": {},
     "output_type": "execute_result"
    }
   ],
   "source": [
    "zeroshot_weights.shape"
   ]
  },
  {
   "cell_type": "markdown",
   "metadata": {},
   "source": [
    "Top-1 accuracy: 55.94  \n",
    "Top-5 accuracy: 83.40"
   ]
  }
 ],
 "metadata": {
  "kernelspec": {
   "display_name": "Python 3 (ipykernel)",
   "language": "python",
   "name": "python3"
  },
  "language_info": {
   "codemirror_mode": {
    "name": "ipython",
    "version": 3
   },
   "file_extension": ".py",
   "mimetype": "text/x-python",
   "name": "python",
   "nbconvert_exporter": "python",
   "pygments_lexer": "ipython3",
   "version": "3.8.13"
  },
  "orig_nbformat": 4,
  "vscode": {
   "interpreter": {
    "hash": "31f2aee4e71d21fbe5cf8b01ff0e069b9275f58929596ceb00d14d90e3e16cd6"
   }
  }
 },
 "nbformat": 4,
 "nbformat_minor": 2
}
