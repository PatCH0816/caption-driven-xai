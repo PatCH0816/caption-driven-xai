{
 "cells": [
  {
   "cell_type": "markdown",
   "metadata": {},
   "source": [
    "# Fooled colored MNIST (Try to put more focus on colors instead of the shape of the digits)\n",
    "The idea is to create a model, which should be able to asses, if the digit in the image is a low or a high number. The image dataset of colored digits is divided into three parts namely the train, validation and test datasets. In the train and validatin datasets, the low numbers are colored in red and the high numbers are colored in green. In the test dataset, the colors are random. If the model is able to recognize the value of the digits from it's shape, the performance should be nearly equal as the performance on the train and validation datasets. The hypothesis is, that the model will learn to separate low from high digits based on their color and therefore will fail on the test dataset."
   ]
  },
  {
   "cell_type": "markdown",
   "metadata": {},
   "source": [
    "## Setup environment"
   ]
  },
  {
   "cell_type": "code",
   "execution_count": null,
   "metadata": {},
   "outputs": [],
   "source": [
    "class align_emnist_like_mnist:\n",
    "    \"\"\"\n",
    "    Align EMNIST images like MNIST images. For some dubious reason, the EMNIST images\n",
    "    are flipped and rotated. (See its documentation)\n",
    "    \"\"\"\n",
    "    def __init__(self):\n",
    "        self.angle = 90\n",
    "\n",
    "    def __call__(self, x):\n",
    "        x = transforms.functional.hflip(x)\n",
    "        return transforms.functional.rotate(img=x, angle=self.angle)\n",
    "    \n",
    "align_emnist_like_mnist()"
   ]
  },
  {
   "cell_type": "code",
   "execution_count": null,
   "metadata": {},
   "outputs": [],
   "source": [
    "# EMNIST ByClass: 814,255 characters. 62 unbalanced classes.\n",
    "# EMNIST ByMerge: 814,255 characters. 47 unbalanced classes.\n",
    "# EMNIST Balanced:  131,600 characters. 47 balanced classes.\n",
    "# EMNIST Letters: 145,600 characters. 26 balanced classes.\n",
    "# EMNIST Digits: 280,000 characters. 10 balanced classes.\n",
    "# EMNIST MNIST: 70,000 characters. 10 balanced classes.\n",
    "asdf1 = datasets.mnist.EMNIST('./data', train=True, download=True, split=\"mnist\", transform = transforms.Compose([transforms.ToTensor(),\n",
    "                                                                                                                  align_emnist_like_mnist()]))"
   ]
  },
  {
   "cell_type": "code",
   "execution_count": null,
   "metadata": {},
   "outputs": [],
   "source": [
    "asdf1"
   ]
  },
  {
   "cell_type": "code",
   "execution_count": null,
   "metadata": {},
   "outputs": [],
   "source": [
    "asdf2 = datasets.mnist.MNIST('./data', train=True, download=True, transform = transforms.Compose([transforms.ToTensor()]))"
   ]
  },
  {
   "cell_type": "code",
   "execution_count": null,
   "metadata": {},
   "outputs": [],
   "source": [
    "asdf2"
   ]
  },
  {
   "cell_type": "code",
   "execution_count": null,
   "metadata": {},
   "outputs": [],
   "source": [
    "asdf1[0][0][0].shape"
   ]
  },
  {
   "cell_type": "code",
   "execution_count": null,
   "metadata": {},
   "outputs": [],
   "source": [
    "asdf2[0][0][0].shape"
   ]
  },
  {
   "cell_type": "code",
   "execution_count": null,
   "metadata": {},
   "outputs": [],
   "source": [
    "for i in range(5):\n",
    "    plt.imshow(np.transpose(asdf1[i][0].cpu().numpy(), (1,2,0)))\n",
    "    plt.title(f\"{i}\")\n",
    "    plt.show()\n"
   ]
  },
  {
   "cell_type": "code",
   "execution_count": null,
   "metadata": {},
   "outputs": [],
   "source": [
    "for i in range(5):\n",
    "    plt.imshow(np.transpose(asdf2[i][0].cpu().numpy(), (1,2,0)))\n",
    "    plt.title(f\"{i}\")\n",
    "    plt.show()\n"
   ]
  },
  {
   "cell_type": "code",
   "execution_count": null,
   "metadata": {},
   "outputs": [],
   "source": []
  },
  {
   "cell_type": "code",
   "execution_count": 1,
   "metadata": {},
   "outputs": [],
   "source": [
    "import torch\n",
    "\n",
    "torch.cuda.empty_cache()"
   ]
  },
  {
   "cell_type": "code",
   "execution_count": 2,
   "metadata": {},
   "outputs": [
    {
     "name": "stdout",
     "output_type": "stream",
     "text": [
      "Torch version: 1.13.0a0+d0d6b1f\n"
     ]
    }
   ],
   "source": [
    "# basic modules\n",
    "import numpy as np\n",
    "import matplotlib.pyplot as plt\n",
    "import sys\n",
    "\n",
    "# pytorch modules\n",
    "import torch\n",
    "import torch.nn as nn\n",
    "import torch.optim as optim\n",
    "from torchvision import models, transforms\n",
    "from torchvision import __version__ as torchvision_version\n",
    "\n",
    "%load_ext autoreload\n",
    "%autoreload 2\n",
    "\n",
    "print(\"Torch version:\", torch.__version__)"
   ]
  },
  {
   "cell_type": "code",
   "execution_count": 3,
   "metadata": {},
   "outputs": [],
   "source": [
    "# include plots in notebook\n",
    "%matplotlib inline"
   ]
  },
  {
   "cell_type": "code",
   "execution_count": 4,
   "metadata": {},
   "outputs": [
    {
     "name": "stdout",
     "output_type": "stream",
     "text": [
      "Python version:  3.8.13 | packaged by conda-forge | (default, Mar 25 2022, 06:04:10) \n",
      "[GCC 10.3.0]\n",
      "Pytorch version:  1.13.0a0+d0d6b1f\n",
      "Torchvision version:  0.14.0a0\n",
      "Tue Jan 10 21:54:01 2023       \n",
      "+-----------------------------------------------------------------------------+\n",
      "| NVIDIA-SMI 450.172.01   Driver Version: 450.172.01   CUDA Version: 11.8     |\n",
      "|-------------------------------+----------------------+----------------------+\n",
      "| GPU  Name        Persistence-M| Bus-Id        Disp.A | Volatile Uncorr. ECC |\n",
      "| Fan  Temp  Perf  Pwr:Usage/Cap|         Memory-Usage | GPU-Util  Compute M. |\n",
      "|                               |                      |               MIG M. |\n",
      "|===============================+======================+======================|\n",
      "|   0  Tesla V100-SXM3...  On   | 00000000:34:00.0 Off |                    0 |\n",
      "| N/A   37C    P0    69W / 350W |  32414MiB / 32510MiB |      0%      Default |\n",
      "|                               |                      |                  N/A |\n",
      "+-------------------------------+----------------------+----------------------+\n",
      "|   1  Tesla V100-SXM3...  On   | 00000000:36:00.0 Off |                    0 |\n",
      "| N/A   34C    P0    50W / 350W |      7MiB / 32510MiB |      0%      Default |\n",
      "|                               |                      |                  N/A |\n",
      "+-------------------------------+----------------------+----------------------+\n",
      "|   2  Tesla V100-SXM3...  On   | 00000000:39:00.0 Off |                    0 |\n",
      "| N/A   38C    P0    50W / 350W |      5MiB / 32510MiB |      0%      Default |\n",
      "|                               |                      |                  N/A |\n",
      "+-------------------------------+----------------------+----------------------+\n",
      "|   3  Tesla V100-SXM3...  On   | 00000000:3B:00.0 Off |                    0 |\n",
      "| N/A   41C    P0    70W / 350W |      7MiB / 32510MiB |      0%      Default |\n",
      "|                               |                      |                  N/A |\n",
      "+-------------------------------+----------------------+----------------------+\n",
      "|   4  Tesla V100-SXM3...  On   | 00000000:57:00.0 Off |                    0 |\n",
      "| N/A   36C    P0    67W / 350W |  20275MiB / 32510MiB |     14%      Default |\n",
      "|                               |                      |                  N/A |\n",
      "+-------------------------------+----------------------+----------------------+\n",
      "|   5  Tesla V100-SXM3...  On   | 00000000:59:00.0 Off |                    0 |\n",
      "| N/A   41C    P0    49W / 350W |      5MiB / 32510MiB |      0%      Default |\n",
      "|                               |                      |                  N/A |\n",
      "+-------------------------------+----------------------+----------------------+\n",
      "|   6  Tesla V100-SXM3...  On   | 00000000:5C:00.0 Off |                    0 |\n",
      "| N/A   46C    P0   254W / 350W |   7391MiB / 32510MiB |     61%      Default |\n",
      "|                               |                      |                  N/A |\n",
      "+-------------------------------+----------------------+----------------------+\n",
      "|   7  Tesla V100-SXM3...  On   | 00000000:5E:00.0 Off |                    0 |\n",
      "| N/A   57C    P0    94W / 350W |   6671MiB / 32510MiB |     46%      Default |\n",
      "|                               |                      |                  N/A |\n",
      "+-------------------------------+----------------------+----------------------+\n",
      "|   8  Tesla V100-SXM3...  On   | 00000000:B7:00.0 Off |                    0 |\n",
      "| N/A   43C    P0    82W / 350W |   6231MiB / 32510MiB |     30%      Default |\n",
      "|                               |                      |                  N/A |\n",
      "+-------------------------------+----------------------+----------------------+\n",
      "|   9  Tesla V100-SXM3...  On   | 00000000:B9:00.0 Off |                    0 |\n",
      "| N/A   43C    P0    85W / 350W |   6111MiB / 32510MiB |      0%      Default |\n",
      "|                               |                      |                  N/A |\n",
      "+-------------------------------+----------------------+----------------------+\n",
      "|  10  Tesla V100-SXM3...  On   | 00000000:BC:00.0 Off |                    0 |\n",
      "| N/A   43C    P0    51W / 350W |      5MiB / 32510MiB |      0%      Default |\n",
      "|                               |                      |                  N/A |\n",
      "+-------------------------------+----------------------+----------------------+\n",
      "|  11  Tesla V100-SXM3...  On   | 00000000:BE:00.0 Off |                    0 |\n",
      "| N/A   44C    P0    50W / 350W |      5MiB / 32510MiB |      0%      Default |\n",
      "|                               |                      |                  N/A |\n",
      "+-------------------------------+----------------------+----------------------+\n",
      "|  12  Tesla V100-SXM3...  On   | 00000000:E0:00.0 Off |                    0 |\n",
      "| N/A   35C    P0    49W / 350W |      5MiB / 32510MiB |      0%      Default |\n",
      "|                               |                      |                  N/A |\n",
      "+-------------------------------+----------------------+----------------------+\n",
      "|  13  Tesla V100-SXM3...  On   | 00000000:E2:00.0 Off |                    0 |\n",
      "| N/A   33C    P0    50W / 350W |      5MiB / 32510MiB |      0%      Default |\n",
      "|                               |                      |                  N/A |\n",
      "+-------------------------------+----------------------+----------------------+\n",
      "|  14  Tesla V100-SXM3...  On   | 00000000:E5:00.0 Off |                    0 |\n",
      "| N/A   38C    P0    50W / 350W |      7MiB / 32510MiB |      0%      Default |\n",
      "|                               |                      |                  N/A |\n",
      "+-------------------------------+----------------------+----------------------+\n",
      "|  15  Tesla V100-SXM3...  On   | 00000000:E7:00.0 Off |                    0 |\n",
      "| N/A   37C    P0    52W / 350W |      7MiB / 32510MiB |      0%      Default |\n",
      "|                               |                      |                  N/A |\n",
      "+-------------------------------+----------------------+----------------------+\n",
      "                                                                               \n",
      "+-----------------------------------------------------------------------------+\n",
      "| Processes:                                                                  |\n",
      "|  GPU   GI   CI        PID   Type   Process name                  GPU Memory |\n",
      "|        ID   ID                                                   Usage      |\n",
      "|=============================================================================|\n",
      "|    0   N/A  N/A    316446      C   /opt/conda/bin/python3.8        32407MiB |\n",
      "|    4   N/A  N/A     20985      C   /usr/bin/python                   454MiB |\n",
      "|    4   N/A  N/A    314242      C   ray::RolloutWorker                330MiB |\n",
      "|    4   N/A  N/A    314303      C   ray::RolloutWorker                330MiB |\n",
      "|    4   N/A  N/A    314365      C   ray::RolloutWorker                330MiB |\n",
      "|    4   N/A  N/A    314490      C   ray::RolloutWorker                330MiB |\n",
      "|    4   N/A  N/A    314616      C   ray::RolloutWorker                330MiB |\n",
      "|    4   N/A  N/A    314742      C   ray::RolloutWorker                330MiB |\n",
      "|    4   N/A  N/A    314868      C   ray::RolloutWorker                330MiB |\n",
      "|    4   N/A  N/A    315056      C   ray::RolloutWorker                330MiB |\n",
      "|    4   N/A  N/A    315157      C   ray::RolloutWorker                330MiB |\n",
      "|    4   N/A  N/A    315269      C   ray::RolloutWorker                330MiB |\n",
      "|    4   N/A  N/A    315443      C   ray::RolloutWorker                330MiB |\n",
      "|    4   N/A  N/A    315504      C   ray::RolloutWorker                330MiB |\n",
      "|    4   N/A  N/A    315777      C   ray::RolloutWorker                330MiB |\n",
      "|    4   N/A  N/A    315950      C   ray::RolloutWorker                330MiB |\n",
      "|    4   N/A  N/A    316059      C   ray::RolloutWorker                330MiB |\n",
      "|    4   N/A  N/A    316189      C   ray::RolloutWorker                330MiB |\n",
      "|    4   N/A  N/A    316321      C   ray::RolloutWorker                330MiB |\n",
      "|    4   N/A  N/A    316484      C   ray::RolloutWorker                330MiB |\n",
      "|    4   N/A  N/A    316557      C   ray::RolloutWorker                330MiB |\n",
      "|    4   N/A  N/A    316797      C   ray::RolloutWorker                330MiB |\n",
      "|    4   N/A  N/A    317008      C   ray::RolloutWorker                330MiB |\n",
      "|    4   N/A  N/A    317163      C   ray::RolloutWorker                330MiB |\n",
      "|    4   N/A  N/A    317313      C   ray::RolloutWorker                330MiB |\n",
      "|    4   N/A  N/A    317404      C   ray::RolloutWorker                330MiB |\n",
      "|    4   N/A  N/A    317561      C   ray::RolloutWorker                330MiB |\n",
      "|    4   N/A  N/A    317726      C   ray::RolloutWorker                330MiB |\n",
      "|    4   N/A  N/A    317908      C   ray::RolloutWorker                330MiB |\n",
      "|    4   N/A  N/A    317975      C   ray::RolloutWorker                330MiB |\n",
      "|    4   N/A  N/A    318251      C   ray::RolloutWorker                330MiB |\n",
      "|    4   N/A  N/A    318315      C   ray::RolloutWorker                330MiB |\n",
      "|    4   N/A  N/A    318442      C   ray::RolloutWorker                330MiB |\n",
      "|    4   N/A  N/A    318504      C   ray::RolloutWorker                330MiB |\n",
      "|    4   N/A  N/A    318652      C   ray::RolloutWorker                330MiB |\n",
      "|    4   N/A  N/A    318737      C   ray::RolloutWorker                330MiB |\n",
      "|    4   N/A  N/A    318864      C   ray::RolloutWorker                330MiB |\n",
      "|    4   N/A  N/A    318951      C   ray::RolloutWorker                330MiB |\n",
      "|    4   N/A  N/A    319012      C   ray::RolloutWorker                330MiB |\n",
      "|    4   N/A  N/A    319138      C   ray::RolloutWorker                330MiB |\n",
      "|    4   N/A  N/A    319225      C   ray::RolloutWorker                330MiB |\n",
      "|    4   N/A  N/A    319452      C   ray::RolloutWorker                330MiB |\n",
      "|    4   N/A  N/A    319697      C   ray::RolloutWorker                330MiB |\n",
      "|    4   N/A  N/A    319822      C   ray::RolloutWorker                330MiB |\n",
      "|    4   N/A  N/A    319906      C   ray::RolloutWorker                330MiB |\n",
      "|    4   N/A  N/A    319967      C   ray::RolloutWorker                330MiB |\n",
      "|    4   N/A  N/A    320029      C   ray::RolloutWorker                330MiB |\n",
      "|    4   N/A  N/A    320091      C   ray::RolloutWorker                330MiB |\n",
      "|    4   N/A  N/A    320152      C   ray::RolloutWorker                330MiB |\n",
      "|    4   N/A  N/A    320213      C   ray::RolloutWorker                330MiB |\n",
      "|    4   N/A  N/A    320297      C   ray::RolloutWorker                330MiB |\n",
      "|    4   N/A  N/A    320358      C   ray::RolloutWorker                330MiB |\n",
      "|    4   N/A  N/A    320420      C   ray::RolloutWorker                330MiB |\n",
      "|    4   N/A  N/A    320641      C   ray::RolloutWorker                330MiB |\n",
      "|    4   N/A  N/A    320691      C   ray::RolloutWorker                330MiB |\n",
      "|    4   N/A  N/A    321509      C   ray::RolloutWorker                330MiB |\n",
      "|    4   N/A  N/A    322010      C   ray::RolloutWorker                330MiB |\n",
      "|    4   N/A  N/A    322069      C   ray::RolloutWorker                330MiB |\n",
      "|    4   N/A  N/A    322199      C   ray::RolloutWorker                330MiB |\n",
      "|    4   N/A  N/A    322364      C   ray::RolloutWorker                330MiB |\n",
      "|    4   N/A  N/A    322497      C   ray::RolloutWorker                330MiB |\n",
      "|    4   N/A  N/A    322620      C   ray::RolloutWorker                330MiB |\n",
      "|    6   N/A  N/A     72523      C   /opt/conda/bin/python            7384MiB |\n",
      "|    7   N/A  N/A     72523      C   /opt/conda/bin/python            6664MiB |\n",
      "|    8   N/A  N/A     72523      C   /opt/conda/bin/python            6224MiB |\n",
      "|    9   N/A  N/A     72523      C   /opt/conda/bin/python            6104MiB |\n",
      "+-----------------------------------------------------------------------------+\n"
     ]
    }
   ],
   "source": [
    "# check environment\n",
    "print(\"Python version: \", sys.version)\n",
    "print(\"Pytorch version: \", torch.__version__)\n",
    "print(\"Torchvision version: \", torchvision_version)\n",
    "\n",
    "!nvidia-smi"
   ]
  },
  {
   "cell_type": "markdown",
   "metadata": {},
   "source": [
    "## Prepare dataset"
   ]
  },
  {
   "cell_type": "code",
   "execution_count": 5,
   "metadata": {},
   "outputs": [],
   "source": [
    "from utils.mnist_preprocessing import *\n",
    "from utils.mnist_plotting import *\n",
    "\n",
    "# dataset parameters\n",
    "DATASET_BATCH_SIZE = 128\n",
    "DATASET_SHUFFLE = False"
   ]
  },
  {
   "cell_type": "code",
   "execution_count": 6,
   "metadata": {},
   "outputs": [],
   "source": [
    "import clip\n",
    "\n",
    "model, preprocess = clip.load(\"RN50\")"
   ]
  },
  {
   "cell_type": "code",
   "execution_count": 7,
   "metadata": {},
   "outputs": [],
   "source": [
    "def digit_distribution(datasource):\n",
    "    \"\"\"\n",
    "    Displays a bar plot showing the number of 5s and 8s in the dataset.\n",
    "    \"\"\"\n",
    "    nr_of_5s = 0\n",
    "    \n",
    "    for i in range(len(datasource)):\n",
    "        nr_of_5s += (datasource[i][1].item() == 5)\n",
    "    \n",
    "    plt.bar((5,8), (nr_of_5s, len(datasource) - nr_of_5s))\n",
    "    plt.xlabel(\"Digit\")\n",
    "    plt.ylabel(\"Count\")\n",
    "    plt.title(\"Sample distribution\")\n",
    "    plt.show()"
   ]
  },
  {
   "cell_type": "code",
   "execution_count": 13,
   "metadata": {},
   "outputs": [
    {
     "name": "stdout",
     "output_type": "stream",
     "text": [
      "Preparing Colored MNIST\n",
      "Scanning train image 0/60000\n",
      "Scanning train image 5000/60000\n",
      "Scanning train image 10000/60000\n",
      "Scanning train image 15000/60000\n",
      "Scanning train image 20000/60000\n",
      "Scanning train image 25000/60000\n",
      "Scanning train image 30000/60000\n",
      "Scanning train image 35000/60000\n",
      "Scanning train image 40000/60000\n",
      "Scanning train image 45000/60000\n",
      "Scanning validation image 50000/60000\n",
      "Scanning validation image 55000/60000\n",
      "Scanning test image 0/10000\n",
      "Scanning test image 5000/10000\n",
      "Scanning test_fool image 0/10000\n",
      "Scanning test_fool image 5000/10000\n",
      "Number of samples:  10000\n"
     ]
    },
    {
     "data": {
      "image/png": "[encoded data removed]",
      "text/plain": [
       "<Figure size 640x480 with 1 Axes>"
      ]
     },
     "metadata": {},
     "output_type": "display_data"
    },
    {
     "ename": "NameError",
     "evalue": "name 'plot_digits' is not defined",
     "output_type": "error",
     "traceback": [
      "\u001b[0;31m---------------------------------------------------------------------------\u001b[0m",
      "\u001b[0;31mNameError\u001b[0m                                 Traceback (most recent call last)",
      "Cell \u001b[0;32mIn [13], line 35\u001b[0m\n\u001b[1;32m     33\u001b[0m \u001b[39mprint\u001b[39m(\u001b[39m\"\u001b[39m\u001b[39mNumber of samples: \u001b[39m\u001b[39m\"\u001b[39m, \u001b[39mlen\u001b[39m(train_set))\n\u001b[1;32m     34\u001b[0m digit_distribution(train_set)\n\u001b[0;32m---> 35\u001b[0m plot_digits(train_set, preprocess)\n",
      "\u001b[0;31mNameError\u001b[0m: name 'plot_digits' is not defined"
     ]
    }
   ],
   "source": [
    "# create and select training dataset\n",
    "# original 10 class problem\n",
    "# DatasetMNIST(root='./data',\n",
    "#                             env='train',\n",
    "#                             color=True,\n",
    "#                             opt_postfix=\"10classes\",\n",
    "#                             first_color_max_nr=4,\n",
    "#                             preprocess=preprocess,\n",
    "#                             transform= transforms.Compose([transforms.ToTensor()]))\n",
    "\n",
    "# gray 10 class problem\n",
    "# DatasetMNIST(root='./data',\n",
    "#                             env='train',\n",
    "#                             color=False,\n",
    "#                             opt_postfix=\"10classes\",\n",
    "#                             preprocess=preprocess,\n",
    "#                             transform= transforms.Compose([transforms.ToTensor()]))\n",
    "\n",
    "# simplified binary problem\n",
    "train_set = DatasetMNIST(root='./data',\n",
    "                            env='train',\n",
    "                            color=True,\n",
    "                            opt_postfix=\"2classes\",\n",
    "                            filter=[5,8],\n",
    "                            first_color_max_nr=5,\n",
    "                            preprocess=preprocess,\n",
    "                            transform= transforms.Compose([transforms.ToTensor()]))\n",
    "\n",
    "train_loader = torch.utils.data.DataLoader(dataset=train_set,\n",
    "                                            batch_size=DATASET_BATCH_SIZE,\n",
    "                                            shuffle=DATASET_SHUFFLE)\n",
    "\n",
    "print(\"Number of samples: \", len(train_set))\n",
    "digit_distribution(train_set)\n",
    "plot_digits(train_set, preprocess)"
   ]
  },
  {
   "cell_type": "code",
   "execution_count": null,
   "metadata": {},
   "outputs": [],
   "source": []
  },
  {
   "cell_type": "code",
   "execution_count": null,
   "metadata": {},
   "outputs": [],
   "source": []
  },
  {
   "cell_type": "code",
   "execution_count": null,
   "metadata": {},
   "outputs": [],
   "source": [
    "# create and select validation dataset\n",
    "# original 10 class problem\n",
    "# DatasetMNIST(root='./data',\n",
    "#                             env='val',\n",
    "#                             color=True,\n",
    "#                             opt_postfix=\"10classes\",\n",
    "#                             first_color_max_nr=4,\n",
    "#                             preprocess=preprocess,\n",
    "#                             transform= transforms.Compose([transforms.ToTensor()]))\n",
    "\n",
    "# gray 10 class problem\n",
    "# DatasetMNIST(root='./data',\n",
    "#                             env='val',\n",
    "#                             color=False,\n",
    "#                             opt_postfix=\"10classes\",\n",
    "#                             preprocess=preprocess,\n",
    "#                             transform= transforms.Compose([transforms.ToTensor()]))\n",
    "\n",
    "# simplified binary problem\n",
    "val_set = DatasetMNIST(root='./data',\n",
    "                            env='val',\n",
    "                            color=True,\n",
    "                            opt_postfix=\"2classes\",\n",
    "                            filter=[5,8],\n",
    "                            first_color_max_nr=5,\n",
    "                            preprocess=preprocess,\n",
    "                            transform= transforms.Compose([transforms.ToTensor()]))\n",
    "\n",
    "val_loader = torch.utils.data.DataLoader(dataset=val_set,\n",
    "                                            batch_size=DATASET_BATCH_SIZE,\n",
    "                                            shuffle=DATASET_SHUFFLE)\n",
    "\n",
    "print(\"Number of samples: \", len(val_set))\n",
    "digit_distribution(val_set)\n",
    "plot_digits(val_set, preprocess)"
   ]
  },
  {
   "cell_type": "code",
   "execution_count": null,
   "metadata": {},
   "outputs": [],
   "source": [
    "# create and select test dataset\n",
    "# original 10 class problem\n",
    "# DatasetMNIST(root='./data',\n",
    "#                             env='test',\n",
    "#                             color=True,\n",
    "#                             opt_postfix=\"10classes\",\n",
    "#                             first_color_max_nr=4,\n",
    "#                             preprocess=preprocess,\n",
    "#                             transform= transforms.Compose([transforms.ToTensor()]))\n",
    "\n",
    "# gray 10 class problem\n",
    "# DatasetMNIST(root='./data',\n",
    "#                             env='test',\n",
    "#                             color=False,\n",
    "#                             opt_postfix=\"10classes\",\n",
    "#                             preprocess=preprocess,\n",
    "#                             transform= transforms.Compose([transforms.ToTensor()]))\n",
    "\n",
    "# simplified binary problem\n",
    "test_set = DatasetMNIST(root='./data',\n",
    "                            env='test',\n",
    "                            color=True,\n",
    "                            opt_postfix=\"2classes\",\n",
    "                            filter=[5,8],\n",
    "                            first_color_max_nr=5,\n",
    "                            preprocess=preprocess,\n",
    "                            transform= transforms.Compose([transforms.ToTensor()]))\n",
    "\n",
    "test_loader = torch.utils.data.DataLoader(dataset=test_set,\n",
    "                                            batch_size=DATASET_BATCH_SIZE,\n",
    "                                            shuffle=DATASET_SHUFFLE)\n",
    "\n",
    "print(\"Number of samples: \", len(test_set))\n",
    "digit_distribution(test_set)\n",
    "plot_digits(test_set, preprocess)"
   ]
  },
  {
   "cell_type": "code",
   "execution_count": null,
   "metadata": {},
   "outputs": [],
   "source": [
    "# create and select test_fool dataset\n",
    "# original 10 class problem\n",
    "# DatasetMNIST(root='./data',\n",
    "#                             env='test_fool',\n",
    "#                             color=True,\n",
    "#                             opt_postfix=\"10classes\",\n",
    "#                             first_color_max_nr=4,\n",
    "#                             preprocess=preprocess,\n",
    "#                             transform= transforms.Compose([transforms.ToTensor()]))\n",
    "\n",
    "# gray 10 class problem\n",
    "# DatasetMNIST(root='./data',\n",
    "#                             env='test_fool',\n",
    "#                             color=False,\n",
    "#                             opt_postfix=\"10classes\",\n",
    "#                             preprocess=preprocess,\n",
    "#                             transform= transforms.Compose([transforms.ToTensor()]))\n",
    "\n",
    "# simplified binary problem\n",
    "test_set_fool = DatasetMNIST(root='./data',\n",
    "                            env='test_fool',\n",
    "                            color=True,\n",
    "                            opt_postfix=\"2classes\",\n",
    "                            filter=[5,8],\n",
    "                            first_color_max_nr=5,\n",
    "                            preprocess=preprocess,\n",
    "                            transform= transforms.Compose([transforms.ToTensor()]))\n",
    "\n",
    "test_fool_loader = torch.utils.data.DataLoader(dataset=test_set_fool,\n",
    "                                            batch_size=DATASET_BATCH_SIZE,\n",
    "                                            shuffle=DATASET_SHUFFLE)\n",
    "\n",
    "print(\"Number of samples: \", len(test_set_fool))\n",
    "digit_distribution(test_set_fool)\n",
    "plot_digits(test_set_fool, preprocess)"
   ]
  },
  {
   "cell_type": "markdown",
   "metadata": {},
   "source": [
    "## Basic checks for correct labels"
   ]
  },
  {
   "cell_type": "code",
   "execution_count": null,
   "metadata": {},
   "outputs": [],
   "source": [
    "# check, if all test labels are correct (all high_low labels are equal to the color labels -> No messages expected)\n",
    "for idx, i in enumerate(test_loader):\n",
    "    if not ((i[2] == i[3]).all().item()):\n",
    "        print(\"Error! in batch \", idx)"
   ]
  },
  {
   "cell_type": "code",
   "execution_count": null,
   "metadata": {},
   "outputs": [],
   "source": [
    "# check, if all test_fool labels are correct (all high_low labels are opposite to the color labels -> No messages expected)\n",
    "for idx, i in enumerate(test_fool_loader):\n",
    "    if not ((i[2] != i[3]).all().item()):\n",
    "        print(\"Error! in batch \", idx)"
   ]
  },
  {
   "cell_type": "code",
   "execution_count": null,
   "metadata": {},
   "outputs": [],
   "source": [
    "import itertools\n",
    "\n",
    "# some checks with explanations\n",
    "if not DATASET_SHUFFLE:\n",
    "    # only make sense, if datasets are not shuffled\n",
    "    for i, (data1, data2) in enumerate(zip(itertools.cycle(test_loader), test_fool_loader)):\n",
    "        print(f\"Same image data: {(data1[0] == data2[0]).all().item()}, because the same digit is either on red or green color channel!\")\n",
    "        print(f\"Same ground truth label: {(data1[1] == data2[1]).all().item()}, because it's the same digit, independent from its representation\")\n",
    "        print(f\"Same low-high label: {(data1[2] == data2[2]).all().item()}, because it's the same digit, independent from its representation\")\n",
    "        print(f\"Same color label: {(data1[3] == data2[3]).all().item()}, because the test and test-fool sets have opposite colors\")\n",
    "        break\n",
    "\n",
    "    # index within batch\n",
    "    idx = 42\n",
    "    \n",
    "    # show same image of same digit from both datasets\n",
    "    normalizer = preprocess.transforms.copy().pop()\n",
    "    img1 = torch.stack((data1[0][idx][0]*torch.Tensor(normalizer.std)[0] + torch.Tensor(normalizer.mean)[0],\n",
    "                        data1[0][idx][1]*torch.Tensor(normalizer.std)[1] + torch.Tensor(normalizer.mean)[1],\n",
    "                        data1[0][idx][2]*torch.Tensor(normalizer.std)[2] + torch.Tensor(normalizer.mean)[2]))\n",
    "\n",
    "    img2 = torch.stack((data2[0][idx][0]*torch.Tensor(normalizer.std)[0] + torch.Tensor(normalizer.mean)[0],\n",
    "                        data2[0][idx][1]*torch.Tensor(normalizer.std)[1] + torch.Tensor(normalizer.mean)[1],\n",
    "                        data2[0][idx][2]*torch.Tensor(normalizer.std)[2] + torch.Tensor(normalizer.mean)[2]))\n",
    "\n",
    "    plt.imshow(np.transpose(img1.cpu().numpy(), (1,2,0)))\n",
    "    plt.show()\n",
    "\n",
    "    plt.imshow(np.transpose(img2.cpu().numpy(), (1,2,0)))\n",
    "    plt.show()\n",
    "\n",
    "    del normalizer\n",
    "    del img1\n",
    "    del img2"
   ]
  },
  {
   "cell_type": "markdown",
   "metadata": {},
   "source": [
    "## Set device (For number crunching)"
   ]
  },
  {
   "cell_type": "code",
   "execution_count": null,
   "metadata": {},
   "outputs": [],
   "source": [
    "device = torch.device(\"cuda\" if torch.cuda.is_available() else \"cpu\")\n",
    "device"
   ]
  },
  {
   "cell_type": "markdown",
   "metadata": {},
   "source": [
    "## Initialize network"
   ]
  },
  {
   "cell_type": "code",
   "execution_count": null,
   "metadata": {},
   "outputs": [],
   "source": [
    "import random\n",
    "\n",
    "random.seed(42)"
   ]
  },
  {
   "cell_type": "code",
   "execution_count": null,
   "metadata": {},
   "outputs": [],
   "source": [
    "# Resnet50 transfer learning\n",
    "# https://discuss.pytorch.org/t/how-to-modify-the-final-fc-layer-based-on-the-torch-model/766/2\n",
    "model = models.resnet50(pretrained=True)\n",
    "for param in model.parameters():\n",
    "    param.requires_grad = False\n",
    "# replace the last fully-connected layer\n",
    "# parameters of newly constructed modules have required_grad=True by default\n",
    "model.fc = nn.Linear(2048, 2)\n",
    "model.to(device)\n",
    "model.fc.weight # initialized with random numbers - Requires grad is true"
   ]
  },
  {
   "cell_type": "code",
   "execution_count": null,
   "metadata": {},
   "outputs": [],
   "source": [
    "import copy\n",
    "\n",
    "weight_backup = copy.deepcopy(nn.Linear(2048, 2))\n",
    "weight_backup.weight\n"
   ]
  },
  {
   "cell_type": "code",
   "execution_count": null,
   "metadata": {},
   "outputs": [],
   "source": [
    "weight_backup"
   ]
  },
  {
   "cell_type": "code",
   "execution_count": null,
   "metadata": {},
   "outputs": [],
   "source": [
    "model.fc.weight"
   ]
  },
  {
   "cell_type": "code",
   "execution_count": null,
   "metadata": {},
   "outputs": [],
   "source": [
    "# repeat from here\n",
    "model = models.resnet50(pretrained=True)\n",
    "model.fc = copy.deepcopy(weight_backup)\n",
    "model.to(device)"
   ]
  },
  {
   "cell_type": "code",
   "execution_count": null,
   "metadata": {},
   "outputs": [],
   "source": [
    "model.fc.weight"
   ]
  },
  {
   "cell_type": "markdown",
   "metadata": {},
   "source": [
    "## Train network"
   ]
  },
  {
   "cell_type": "code",
   "execution_count": null,
   "metadata": {},
   "outputs": [],
   "source": [
    "from pynvml import *\n",
    "nvmlInit()\n",
    "h = nvmlDeviceGetHandleByIndex(0)\n",
    "info = nvmlDeviceGetMemoryInfo(h)\n",
    "print(f'total    : {info.total}')\n",
    "print(f'free     : {info.free}')\n",
    "print(f'used     : {info.used}')"
   ]
  },
  {
   "cell_type": "code",
   "execution_count": null,
   "metadata": {},
   "outputs": [],
   "source": [
    "def train_model(model, criterion, optimizer, num_epochs=3):\n",
    "    \"\"\"\n",
    "    Training procedure and performance measurement of the model.\n",
    "    \"\"\"\n",
    "    history = {'train_w_backprop'   : {'loss' : [],\n",
    "                                       'acc' : [],\n",
    "                                       'logits' : [],\n",
    "                                       'labels' : []},\n",
    "               'train'              : {'loss' : [],\n",
    "                                       'acc' : [],\n",
    "                                       'logits' : [],\n",
    "                                       'labels' : []},\n",
    "                'validation'        : {'loss' : [],\n",
    "                                       'acc' : [],\n",
    "                                       'logits' : [],\n",
    "                                       'labels' : []},\n",
    "                'test'              : {'loss' : [],\n",
    "                                       'acc' : [],\n",
    "                                       'logits' : [],\n",
    "                                       'labels' : []},\n",
    "                'test_fool'         : {'loss' : [],\n",
    "                                       'acc' : [],\n",
    "                                       'logits' : [],\n",
    "                                       'labels' : []}}\n",
    "    \n",
    "    nvmlInit()\n",
    "    h = nvmlDeviceGetHandleByIndex(0)\n",
    "    dummy_30gb = True\n",
    "    dummy_20gb = True\n",
    "    dummy_10gb = True\n",
    "        \n",
    "    # epoch\n",
    "    for epoch in range(num_epochs):\n",
    "        print('Epoch {}/{}'.format(epoch+1, num_epochs))\n",
    "        print('-' * 10)\n",
    "\n",
    "        # phase\n",
    "        for phase in history.keys():\n",
    "            if phase == 'train_w_backprop':\n",
    "                print(f\"Start phase {phase}\")\n",
    "                model.train()\n",
    "                datasource = train_loader\n",
    "            elif phase == \"train\":\n",
    "                print(f\"Start phase {phase}\")\n",
    "                model.eval()\n",
    "                datasource = train_loader\n",
    "            elif phase == \"validation\":\n",
    "                print(f\"Start phase {phase}\")\n",
    "                model.eval()\n",
    "                datasource = val_loader\n",
    "            elif phase == \"test\":\n",
    "                print(f\"Start phase {phase}\")\n",
    "                model.eval()\n",
    "                datasource = test_loader\n",
    "            elif phase == \"test_fool\":\n",
    "                print(f\"Start phase {phase}\")\n",
    "                model.eval()\n",
    "                datasource = test_fool_loader\n",
    "            else:\n",
    "                raise NotImplementedError(\"Sorry, unknown phase!\")\n",
    "\n",
    "            epoch_loss = 0.0\n",
    "            running_corrects = 0\n",
    "            label_counter = 0\n",
    "\n",
    "            # mini-batches\n",
    "            for inputs, _, low_high_lables, _ in datasource:\n",
    "                \n",
    "                # inference\n",
    "                inputs = inputs.to(device)\n",
    "                low_high_lables = low_high_lables.to(device)\n",
    "                if phase == 'train_w_backprop':\n",
    "                    logits = model(inputs)\n",
    "                else:\n",
    "                    with torch.no_grad():\n",
    "                        logits = model(inputs)\n",
    "                history[phase]['logits'].extend(logits.cpu())\n",
    "                history[phase]['labels'].extend(low_high_lables.cpu())\n",
    "                \n",
    "                # sanity check: ensure only one unique max for next step\n",
    "                unique_max = (logits == torch.max(logits)).nonzero().shape == torch.Size([1, 2])\n",
    "                if (not unique_max):\n",
    "                    print(\"Error: not unique max! Take first!\")\n",
    "                \n",
    "                # prediction\n",
    "                preds = logits.argmax(dim=1)\n",
    "                running_corrects += torch.sum(preds == low_high_lables.data)\n",
    "                label_counter += low_high_lables.size()[0]\n",
    "                \n",
    "                # loss\n",
    "                batch_loss = criterion(logits, low_high_lables)\n",
    "                epoch_loss += batch_loss.item()\n",
    "\n",
    "                # training\n",
    "                if phase == 'train_w_backprop':\n",
    "                    optimizer.zero_grad()   # Sets the gradients of all optimized torch.Tensor to zero.\n",
    "                    batch_loss.backward()   # compute gradients\n",
    "                    optimizer.step()        # Performs a single optimization step (parameter update).\n",
    "                \n",
    "                # analyze free gpu memory\n",
    "                info = nvmlDeviceGetMemoryInfo(h)\n",
    "                if (dummy_30gb and info.free < 30000000000):\n",
    "                    print(\"More than 30GB in use!\")\n",
    "                    dummy_30gb = False\n",
    "                elif (dummy_20gb and info.free < 20000000000):\n",
    "                    print(\"More than 20GB in use!\")\n",
    "                    dummy_20gb = False\n",
    "                elif (dummy_10gb and info.free < 10000000000):\n",
    "                    print(\"More than 10GB in use!\")\n",
    "                    dummy_10gb = False\n",
    "                        \n",
    "            epoch_acc = 100 * running_corrects.double() / label_counter\n",
    "            print('{} loss: {:.4f}, acc: {:.4f}'.format(phase,\n",
    "                                                        epoch_loss,\n",
    "                                                        epoch_acc))\n",
    "            \n",
    "            history[phase]['loss'].append(epoch_loss)\n",
    "            history[phase]['acc'].append(epoch_acc.cpu())\n",
    "            \n",
    "            # del inputs\n",
    "            # del low_high_lables\n",
    "            torch.cuda.empty_cache()                                   \n",
    "            \n",
    "    return model, history, inputs, low_high_lables, logits, batch_loss, label_counter"
   ]
  },
  {
   "cell_type": "code",
   "execution_count": null,
   "metadata": {},
   "outputs": [],
   "source": [
    "# F.sigmoid (Map values between 0 and 1) + F.binary_cross_entropy\n",
    "# https://zhang-yang.medium.com/how-is-pytorchs-binary-cross-entropy-with-logits-function-related-to-sigmoid-and-d3bd8fb080e7\n",
    "# https://towardsdatascience.com/understanding-binary-cross-entropy-log-loss-a-visual-explanation-a3ac6025181a\n",
    "#criterion = F.binary_cross_entropy_with_logits #(input, target)\n",
    "criterion = nn.CrossEntropyLoss()\n",
    "optimizer = optim.Adam(model.fc.parameters(), lr=.00001)"
   ]
  },
  {
   "cell_type": "code",
   "execution_count": null,
   "metadata": {},
   "outputs": [],
   "source": [
    "# one epoch takes around ~1 min and 8s\n",
    "model, history, inputs, labels, preds, batch_loss, label_counter = train_model(model, criterion, optimizer, num_epochs=25)"
   ]
  },
  {
   "cell_type": "code",
   "execution_count": null,
   "metadata": {},
   "outputs": [],
   "source": [
    "import pickle\n",
    "\n",
    "#pickle.dump(model, open(\"/home/patrick.koller/masterthesis/data/models/standalone_resnet50.mdl\", 'wb'))"
   ]
  },
  {
   "cell_type": "markdown",
   "metadata": {},
   "source": [
    "## Assess performance"
   ]
  },
  {
   "cell_type": "code",
   "execution_count": null,
   "metadata": {},
   "outputs": [],
   "source": [
    "def plot_history(hist, show_curves=['train_w_backprop', 'train', 'validation', 'test', 'test_fool']):\n",
    "    \"\"\"\n",
    "    Plot the losses and accuracies during the training, validation and test procedures.\n",
    "    \"\"\"\n",
    "    plt.subplot(1,2,1)\n",
    "    if 'train_w_backprop' in show_curves:\n",
    "        plt.semilogy(range(len(hist['train_w_backprop']['loss'])), hist['train_w_backprop']['loss'], label='Train batch accumulated')\n",
    "    if 'train' in show_curves:\n",
    "        plt.semilogy(range(len(hist['train']['loss'])), hist['train']['loss'], label='Train')\n",
    "    if 'validation' in show_curves:\n",
    "        plt.semilogy(range(len(hist['validation']['loss'])), hist['validation']['loss'], label='Validation')\n",
    "    if 'test' in show_curves:\n",
    "        plt.semilogy(range(len(hist['test']['loss'])), hist['test']['loss'], label='Test')\n",
    "    if 'test_fool' in show_curves:\n",
    "        plt.semilogy(range(len(hist['test_fool']['loss'])), hist['test_fool']['loss'], label='Test fool')\n",
    "    plt.xlabel('Epoch')\n",
    "    plt.ylabel('Loss')\n",
    "    plt.legend()\n",
    "    plt.grid()\n",
    "\n",
    "    plt.subplot(1,2,2)\n",
    "    if 'train_w_backprop' in show_curves:\n",
    "        plt.plot(range(len(hist['train_w_backprop']['acc'])), hist['train_w_backprop']['acc'], label='Train batch accumulated')\n",
    "    if 'train' in show_curves:\n",
    "        plt.plot(range(len(hist['train']['acc'])), hist['train']['acc'], label='Train')\n",
    "    if 'validation' in show_curves:\n",
    "        plt.plot(range(len(hist['validation']['acc'])), hist['validation']['acc'], label='Validation')\n",
    "    if 'test' in show_curves:\n",
    "        plt.plot(range(len(hist['test']['acc'])), hist['test']['acc'], label='Test')\n",
    "    if 'test_fool' in show_curves:\n",
    "        plt.plot(range(len(hist['test_fool']['acc'])), hist['test_fool']['acc'], label='Test fool')\n",
    "    plt.xlabel('Epoch')\n",
    "    plt.ylabel('Accuracy in %')\n",
    "    plt.legend()\n",
    "    plt.grid()\n",
    "\n",
    "    plt.tight_layout()\n",
    "    plt.show()\n",
    "    \n",
    "plot_history(history, show_curves=['train_w_backprop', 'train', 'validation', 'test', 'test_fool'])"
   ]
  },
  {
   "cell_type": "markdown",
   "metadata": {},
   "source": [
    "Why is the validation accuracy higher than the training accuracy?  \n",
    "\n",
    "Answer, if a dropout layer is in use: (There is no dropout layer in resnet50)  \n",
    "This is a typical behaviour when using dropout, since the behaviour during training and testing are different. When training, a percentage of the features are set to zero (50%, if dropout(0.5)). When testing, all features are used (and are scaled appropriately). So the model at test time is more robust - and can lead to higher testing accuracies.\n",
    "\n",
    "Answer for this resnet50:  \n",
    "Most probably, the training (50000 samples) and the validation (5000 samples) datasets are not 100% i.i.d. from the same distribution (or at least they are unbalanced!) and there are some less complicated samples in the smaller dataset. This usually is the case, if the validation loss is smaller than the training loss. This hypothesis needs to be proven! This can be confirmed in a simple and easy way by switching the training and the validation (5000 samples) dataset and validate on the training (50000 samples) dataset. In this case the training loss curve (obtained with the validation dataset) is lower than the validation loss curve (obtained with the training dataset)! Of course, this is not a 100% perfect proof, but a simple and easy indicator to support this hypothesis. If this should be a problem, more analysis of the data needs to be done."
   ]
  },
  {
   "cell_type": "code",
   "execution_count": null,
   "metadata": {},
   "outputs": [],
   "source": [
    "random_tests(train_loader, model, device, preprocess)"
   ]
  },
  {
   "cell_type": "code",
   "execution_count": null,
   "metadata": {},
   "outputs": [],
   "source": [
    "random_tests(val_loader, model, device, preprocess)"
   ]
  },
  {
   "cell_type": "code",
   "execution_count": null,
   "metadata": {},
   "outputs": [],
   "source": [
    "random_tests(test_loader, model, device, preprocess)"
   ]
  },
  {
   "cell_type": "code",
   "execution_count": null,
   "metadata": {},
   "outputs": [],
   "source": [
    "random_tests(test_fool_loader, model, device, preprocess)"
   ]
  },
  {
   "cell_type": "code",
   "execution_count": null,
   "metadata": {},
   "outputs": [],
   "source": []
  },
  {
   "cell_type": "code",
   "execution_count": null,
   "metadata": {},
   "outputs": [],
   "source": []
  }
 ],
 "metadata": {
  "kernelspec": {
   "display_name": "Python 3 (ipykernel)",
   "language": "python",
   "name": "python3"
  },
  "language_info": {
   "codemirror_mode": {
    "name": "ipython",
    "version": 3
   },
   "file_extension": ".py",
   "mimetype": "text/x-python",
   "name": "python",
   "nbconvert_exporter": "python",
   "pygments_lexer": "ipython3",
   "version": "3.8.13"
  },
  "orig_nbformat": 4,
  "vscode": {
   "interpreter": {
    "hash": "4970e4b695934d4c8057fb9814a5fc9d1acefab431f21ea67995a21a78a4c555"
   }
  }
 },
 "nbformat": 4,
 "nbformat_minor": 2
}
